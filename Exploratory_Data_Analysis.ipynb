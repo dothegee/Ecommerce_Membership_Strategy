{
 "cells": [
  {
   "cell_type": "markdown",
   "metadata": {},
   "source": [
    "# IMPORT LIBRARY"
   ]
  },
  {
   "cell_type": "code",
   "execution_count": 11,
   "metadata": {},
   "outputs": [],
   "source": [
    "import faulthandler \n",
    "from pyspark.sql import SparkSession \n",
    "import pyspark\n",
    "from pyspark.sql import SparkSession\n",
    "from pyspark.sql.types import StructType, StructField, StringType, IntegerType\n",
    "from pyspark.sql.types import ArrayType, DoubleType, BooleanType, DateType, FloatType, TimestampType\n",
    "from pyspark.sql.functions import col, array_contains, isnan, when, count\n",
    "from pyspark.sql.functions import lit, concat_ws, concat, collect_list, udf\n",
    "from pyspark.sql.functions import countDistinct\n",
    "import plotly.express as px\n",
    "import os"
   ]
  },
  {
   "cell_type": "markdown",
   "metadata": {},
   "source": [
    "## spark 접속"
   ]
  },
  {
   "cell_type": "code",
   "execution_count": 12,
   "metadata": {},
   "outputs": [],
   "source": [
    "\n",
    "faulthandler.enable()   \n",
    "spark = SparkSession.builder.master('local').appName('Python Spark SQL Practice').getOrCreate()"
   ]
  },
  {
   "cell_type": "markdown",
   "metadata": {},
   "source": [
    "# DATA LOAD"
   ]
  },
  {
   "cell_type": "code",
   "execution_count": 13,
   "metadata": {},
   "outputs": [
    {
     "name": "stdout",
     "output_type": "stream",
     "text": [
      "D:/workspace/data/2019-Dec.csv\n",
      "D:/workspace/data/2019-Nov.csv\n",
      "D:/workspace/data/2019-Oct.csv\n",
      "D:/workspace/data/2020-Apr.csv\n",
      "D:/workspace/data/2020-Feb.csv\n",
      "D:/workspace/data/2020-Jan.csv\n",
      "D:/workspace/data/2020-Mar.csv\n"
     ]
    }
   ],
   "source": [
    "def search(dirname):\n",
    "    filenames = os.listdir(dirname)\n",
    "    file_list = []\n",
    "    for filename in filenames:\n",
    "        full_filename = os.path.join(dirname, filename)\n",
    "        print(full_filename)\n",
    "        file_list.append(full_filename)\n",
    "    return file_list\n",
    "data_path_list = search(\"D:/workspace/data/\")"
   ]
  },
  {
   "cell_type": "markdown",
   "metadata": {},
   "source": [
    "## 스키마 타입"
   ]
  },
  {
   "cell_type": "code",
   "execution_count": 14,
   "metadata": {},
   "outputs": [],
   "source": [
    "schema = StructType() \\\n",
    "      .add(\"event_time\",TimestampType(),True) \\\n",
    "      .add(\"event_type\",StringType(),True) \\\n",
    "      .add(\"product_id\",StringType(),True) \\\n",
    "      .add(\"category_id\",StringType(),True) \\\n",
    "      .add(\"category_code\",StringType(),True) \\\n",
    "      .add(\"brand\",StringType(),True) \\\n",
    "      .add(\"price\",DoubleType(),True) \\\n",
    "      .add(\"user_id\",StringType(),True) \\\n",
    "      .add(\"user_session\",StringType(),True)"
   ]
  },
  {
   "cell_type": "markdown",
   "metadata": {},
   "source": [
    "## DATA MERGE\n",
    "    - 2019년 10월 ~ 2020년 4월"
   ]
  },
  {
   "cell_type": "code",
   "execution_count": 15,
   "metadata": {},
   "outputs": [],
   "source": [
    "for i, x in enumerate(data_path_list):\n",
    "    file_path = x\n",
    "    df = spark.read.format(\"csv\") \\\n",
    "      .option(\"header\", True) \\\n",
    "      .option('delimiter', ',') \\\n",
    "      .schema(schema) \\\n",
    "      .load(file_path)\n",
    "    if i == 0:\n",
    "        merged_df = df\n",
    "    else:\n",
    "        merged_df = merged_df.union(df)"
   ]
  },
  {
   "cell_type": "code",
   "execution_count": 16,
   "metadata": {},
   "outputs": [
    {
     "name": "stdout",
     "output_type": "stream",
     "text": [
      "+-------------------+----------+----------+-------------------+--------------------+-------+-------+---------+--------------------+\n",
      "|         event_time|event_type|product_id|        category_id|       category_code|  brand|  price|  user_id|        user_session|\n",
      "+-------------------+----------+----------+-------------------+--------------------+-------+-------+---------+--------------------+\n",
      "|2019-12-01 09:00:00|      view|   1005105|2232732093077520756|construction.tool...|  apple|1302.48|556695836|ca5eefc5-11f9-450...|\n",
      "|2019-12-01 09:00:00|      view|  22700068|2232732091643068746|                NULL|  force| 102.96|577702456|de33debe-c7bf-44e...|\n",
      "|2019-12-01 09:00:01|      view|   2402273|2232732100769874463|appliances.person...|  bosch| 313.52|539453785|5ee185a7-0689-4a3...|\n",
      "|2019-12-01 09:00:02|  purchase|  26400248|2053013553056579841|computers.periphe...|   NULL| 132.31|535135317|61792a26-672f-4e6...|\n",
      "|2019-12-01 09:00:02|      view|  20100164|2232732110089618156|    apparel.trousers|   nika| 101.68|517987650|906c6ca8-ff5c-419...|\n",
      "|2019-12-01 09:00:02|      view| 100008256|2053013561185141473|accessories.umbrella|   ikea| 163.56|542860793|a1bcb550-1065-476...|\n",
      "|2019-12-01 09:00:02|      view|  21400264|2053013561579406073|  electronics.clocks|   NULL|  88.81|538021416|e88f77cc-e75e-4e9...|\n",
      "|2019-12-01 09:00:03|      view|   1005239|2232732093077520756|construction.tool...| xiaomi| 256.38|525740700|370e8c88-3d07-41d...|\n",
      "|2019-12-01 09:00:04|      view|   5100885|2053013553375346967|  computers.notebook|    jet|  20.57|512509221|4227259f-1c4c-41d...|\n",
      "|2019-12-01 09:00:04|      view|  26205399|2232732081585127530|construction.comp...|   NULL| 179.16|553345124|58c692ff-c7a9-4e3...|\n",
      "|2019-12-01 09:00:04|      view|  22900009|2053013553375346967|  computers.notebook|  vegas|  49.94|554369617|a4481ea8-9a20-442...|\n",
      "|2019-12-01 09:00:04|      view|   1004233|2232732093077520756|construction.tool...|  apple|1312.52|579969851|90aca71c-ed8a-467...|\n",
      "|2019-12-01 09:00:05|      view|  22700202|2232732091643068746|                NULL|  stels| 171.18|575086722|05a5e4f4-1865-4b0...|\n",
      "|2019-12-01 09:00:06|      view|   1004856|2232732093077520756|construction.tool...|samsung| 124.11|532554953|4bd14129-caad-4de...|\n",
      "|2019-12-01 09:00:06|      view|   3701309|2053013565983425517|appliances.enviro...|polaris|  89.32|543733099|a65116f4-ac53-4a4...|\n",
      "|2019-12-01 09:00:07|      view|  11500445|2053013552259662037|computers.compone...| xiaomi|  27.77|526844203|5e62045f-58f7-442...|\n",
      "|2019-12-01 09:00:07|      view|   1005105|2232732093077520756|construction.tool...|  apple|1302.48|562071412|822749fe-49f1-4a9...|\n",
      "|2019-12-01 09:00:07|      view|   1003489|2232732093077520756|construction.tool...| huawei| 205.67|543826485|b251cbde-4373-497...|\n",
      "|2019-12-01 09:00:07|      view|   1480790|2053013553341792533|  electronics.clocks| lenovo| 342.82|577653879|a971d966-d601-4d8...|\n",
      "|2019-12-01 09:00:07|      view|   4804718|2232732079706079299|       sport.bicycle|  apple| 329.14|579969767|e159d1a1-6668-477...|\n",
      "+-------------------+----------+----------+-------------------+--------------------+-------+-------+---------+--------------------+\n",
      "only showing top 20 rows\n",
      "\n"
     ]
    }
   ],
   "source": [
    "merged_df.show()"
   ]
  },
  {
   "cell_type": "markdown",
   "metadata": {},
   "source": [
    "## spark table 생성"
   ]
  },
  {
   "cell_type": "code",
   "execution_count": 17,
   "metadata": {},
   "outputs": [],
   "source": [
    "merged_df.createOrReplaceTempView(\"ecommerce\")"
   ]
  },
  {
   "cell_type": "markdown",
   "metadata": {},
   "source": [
    "# 1. 카테코리 id가 NULL 값인 것들"
   ]
  },
  {
   "cell_type": "code",
   "execution_count": 18,
   "metadata": {},
   "outputs": [],
   "source": [
    "eda1 = spark.sql(\"\"\"SELECT COUNT(*) AS CNT\n",
    "FROM ecommerce\n",
    "WHERE category_id is NULL\"\"\")"
   ]
  },
  {
   "cell_type": "code",
   "execution_count": 19,
   "metadata": {},
   "outputs": [
    {
     "name": "stdout",
     "output_type": "stream",
     "text": [
      "+---+\n",
      "|CNT|\n",
      "+---+\n",
      "|  0|\n",
      "+---+\n",
      "\n"
     ]
    }
   ],
   "source": [
    "eda1.show()"
   ]
  },
  {
   "cell_type": "markdown",
   "metadata": {},
   "source": [
    "# 2. remove_from_cart 항목이 있는지 여부"
   ]
  },
  {
   "cell_type": "code",
   "execution_count": 20,
   "metadata": {},
   "outputs": [],
   "source": [
    "eda2 = spark.sql(\"\"\"SELECT COUNT(*) AS CNT\n",
    "FROM ecommerce\n",
    "WHERE event_type = 'remove_from_cart'\"\"\")"
   ]
  },
  {
   "cell_type": "code",
   "execution_count": 21,
   "metadata": {},
   "outputs": [
    {
     "name": "stdout",
     "output_type": "stream",
     "text": [
      "+---+\n",
      "|CNT|\n",
      "+---+\n",
      "|  0|\n",
      "+---+\n",
      "\n"
     ]
    }
   ],
   "source": [
    "eda2.show()"
   ]
  },
  {
   "cell_type": "markdown",
   "metadata": {},
   "source": [
    "# 3. 카테고리 아이디 별 평균 물품 금액"
   ]
  },
  {
   "cell_type": "code",
   "execution_count": 22,
   "metadata": {},
   "outputs": [],
   "source": [
    "eda3 = spark.sql(\"\"\"SELECT category_id, category_code, AVG(price) AS AVG_PRICE_PER_CATEGORY\n",
    "FROM ecommerce\n",
    "GROUP BY category_code, category_id\"\"\")"
   ]
  },
  {
   "cell_type": "code",
   "execution_count": 23,
   "metadata": {},
   "outputs": [
    {
     "name": "stdout",
     "output_type": "stream",
     "text": [
      "+-------------------+--------------------+----------------------+\n",
      "|        category_id|       category_code|AVG_PRICE_PER_CATEGORY|\n",
      "+-------------------+--------------------+----------------------+\n",
      "|2085718636156158307|                NULL|       89.357837718524|\n",
      "|2232732071460078545|           kids.toys|     236.9504976051201|\n",
      "|2232732117446427558|       apparel.shoes|    12.573163469161257|\n",
      "|2232732127479201950|     accessories.bag|    49.233197263043266|\n",
      "|2116907524488691805|  apparel.shoes.keds|     40.38535449020932|\n",
      "|2134905045328592909|                NULL|     41.40644277624123|\n",
      "|2053013555287949705|computers.periphe...|     78.61038170940279|\n",
      "|2232732097775141341|  apparel.shoes.keds|     94.98465342374284|\n",
      "|2053013561638126333|       apparel.shirt|      97.4129274128394|\n",
      "|2232732101667455537|apparel.shoes.sli...|    31.390266871594235|\n",
      "|2136935916512478049|appliances.kitche...|    14.401044362292062|\n",
      "|2152167773222993940|                NULL|     260.6987540917275|\n",
      "|2232732088337957115|                NULL|     76.09783351662296|\n",
      "|2232732113017242422|  computers.notebook|    14.724951902471538|\n",
      "|2053013558920217191|  computers.notebook|     743.2749630851257|\n",
      "|2232732109628244704|       apparel.shirt|    14.772289978623466|\n",
      "|2232732108839715530|     apparel.costume|     406.1608658753253|\n",
      "|2053013553945772349|electronics.audio...|     91.01684206624938|\n",
      "|2232732111557624596|construction.tool...|    27.529188049853392|\n",
      "|2232732107212325539|                NULL|     309.6664289366987|\n",
      "+-------------------+--------------------+----------------------+\n",
      "only showing top 20 rows\n",
      "\n"
     ]
    }
   ],
   "source": [
    "eda3.show()"
   ]
  },
  {
   "cell_type": "code",
   "execution_count": 49,
   "metadata": {},
   "outputs": [],
   "source": [
    "eda3_1 = spark.sql(\"\"\"SELECT SUBSTRING_INDEX(category_code, '.', 1) AS CATEGORY_NAME, AVG(price) AS AVG_PRICE_PER_CATEGORY\n",
    "                   FROM ecommerce\n",
    "                   GROUP BY CATEGORY_NAME\n",
    "                   ORDER BY AVG_PRICE_PER_CATEGORY DESC\"\"\")"
   ]
  },
  {
   "cell_type": "code",
   "execution_count": 50,
   "metadata": {},
   "outputs": [
    {
     "name": "stdout",
     "output_type": "stream",
     "text": [
      "+-------------+----------------------+\n",
      "|CATEGORY_NAME|AVG_PRICE_PER_CATEGORY|\n",
      "+-------------+----------------------+\n",
      "| construction|    409.28852297369133|\n",
      "|  electronics|    387.81088545528655|\n",
      "|    computers|     329.3847580941643|\n",
      "|   appliances|    286.52057920415064|\n",
      "|    furniture|     199.1557258011355|\n",
      "|         auto|    187.71310000474847|\n",
      "|         NULL|     176.5220760161219|\n",
      "|      apparel|     170.8177042088896|\n",
      "|         kids|     148.2903440499196|\n",
      "|        sport|    140.73326591496777|\n",
      "|  accessories|    101.11124819544531|\n",
      "|   stationery|      73.4982119205298|\n",
      "| country_yard|    48.430079208453265|\n",
      "|     medicine|    37.186099641824086|\n",
      "+-------------+----------------------+\n",
      "\n"
     ]
    }
   ],
   "source": [
    "eda3_1.show()"
   ]
  },
  {
   "cell_type": "markdown",
   "metadata": {},
   "source": [
    "# 4. 카테고리 아이디 별 평균 구매 물품 금액"
   ]
  },
  {
   "cell_type": "code",
   "execution_count": 47,
   "metadata": {},
   "outputs": [],
   "source": [
    "eda4 = spark.sql(\"\"\"SELECT category_id, category_code, AVG(price) AS AVG_PRICE_PER_CATEGORY\n",
    "FROM ecommerce\n",
    "WHERE event_type = 'purchase'\n",
    "GROUP BY category_id, category_code\"\"\")"
   ]
  },
  {
   "cell_type": "code",
   "execution_count": 48,
   "metadata": {},
   "outputs": [
    {
     "name": "stdout",
     "output_type": "stream",
     "text": [
      "+-------------------+--------------------+----------------------+\n",
      "|        category_id|       category_code|AVG_PRICE_PER_CATEGORY|\n",
      "+-------------------+--------------------+----------------------+\n",
      "|2232732100056842769|appliances.person...|    234.32060506050593|\n",
      "|2232732106004365963|appliances.kitche...|     36.28692821368948|\n",
      "|2232732092490318178|   computers.desktop|    149.55282738095238|\n",
      "|2152167773222993940|                NULL|    303.84773353751905|\n",
      "|2053013565069067197|  apparel.shoes.keds|     79.62387194462465|\n",
      "|2232732105014510203|        apparel.sock|    57.306927710843375|\n",
      "|2053013561604571899|     apparel.costume|     34.23494071146245|\n",
      "|2232732107212325539|                NULL|     318.5766890756304|\n",
      "|2232732109418529498|       apparel.shirt|    42.791333677952956|\n",
      "|2053013565882762215|      apparel.jumper|     46.81646706586828|\n",
      "|2053013557133443581|furniture.living_...|    229.29584145549072|\n",
      "|2232732082642092168|                NULL|    112.58361111111097|\n",
      "|2232732104888681081|       apparel.scarf|    15.518038897893032|\n",
      "|2053013554834964853|appliances.kitche...|     39.27918388512162|\n",
      "|2232732077902528542|appliances.person...|    137.53531958762886|\n",
      "|2053013553257906447|           kids.toys|     37.23559297218155|\n",
      "|2079713983761220055|                NULL|     75.28369747899158|\n",
      "|2232732092356100446|                NULL|     47.70276503678062|\n",
      "|2053013561529074421|  electronics.clocks|     33.50507142857143|\n",
      "|2232732107967300275|   apparel.underwear|    200.04890780974753|\n",
      "+-------------------+--------------------+----------------------+\n",
      "only showing top 20 rows\n",
      "\n"
     ]
    }
   ],
   "source": [
    "eda4.show()"
   ]
  },
  {
   "cell_type": "code",
   "execution_count": 51,
   "metadata": {},
   "outputs": [],
   "source": [
    "eda4_1 = spark.sql(\"\"\"SELECT SUBSTRING_INDEX(category_code, '.', 1) AS CATEGORY_NAME, AVG(price) AS AVG_PRICE_PER_CATEGORY\n",
    "                   FROM ecommerce\n",
    "                   WHERE event_type = 'purchase'\n",
    "                   GROUP BY CATEGORY_NAME\n",
    "                   ORDER BY AVG_PRICE_PER_CATEGORY DESC\"\"\")"
   ]
  },
  {
   "cell_type": "code",
   "execution_count": 52,
   "metadata": {},
   "outputs": [
    {
     "name": "stdout",
     "output_type": "stream",
     "text": [
      "+-------------+----------------------+\n",
      "|CATEGORY_NAME|AVG_PRICE_PER_CATEGORY|\n",
      "+-------------+----------------------+\n",
      "| construction|    412.94903674811064|\n",
      "|  electronics|    381.14751104844305|\n",
      "|   appliances|     256.0273941494742|\n",
      "|    computers|    246.97784373208972|\n",
      "|         auto|     186.0839782307905|\n",
      "|      apparel|    137.36531453543282|\n",
      "|        sport|    131.28760921190346|\n",
      "|         NULL|     129.9935872197483|\n",
      "|    furniture|    117.08375112033822|\n",
      "|         kids|    113.66340742557878|\n",
      "|   stationery|      66.3247115384615|\n",
      "|  accessories|     64.39932897378849|\n",
      "| country_yard|    35.865017052262864|\n",
      "|     medicine|     29.97154084397988|\n",
      "+-------------+----------------------+\n",
      "\n"
     ]
    }
   ],
   "source": [
    "eda4_1.show()"
   ]
  },
  {
   "cell_type": "markdown",
   "metadata": {},
   "source": [
    "# 5. 월별 USER 수"
   ]
  },
  {
   "cell_type": "code",
   "execution_count": 26,
   "metadata": {},
   "outputs": [],
   "source": [
    "eda5 = spark.sql(\"\"\"\n",
    "                               SELECT MONTH(event_time) AS MONTH, COUNT(DISTINCT user_id) AS CNT\n",
    "                              FROM ecommerce\n",
    "                              GROUP BY MONTH\n",
    "                          \"\"\")\n",
    "\n"
   ]
  },
  {
   "cell_type": "code",
   "execution_count": 27,
   "metadata": {},
   "outputs": [
    {
     "name": "stdout",
     "output_type": "stream",
     "text": [
      "+-----+-------+\n",
      "|MONTH|    CNT|\n",
      "+-----+-------+\n",
      "|   12|4568466|\n",
      "|    1|4387144|\n",
      "|    3|4116768|\n",
      "|    5| 125161|\n",
      "|    4|4493564|\n",
      "|   10|3003621|\n",
      "|   11|3690591|\n",
      "|    2|4241163|\n",
      "+-----+-------+\n",
      "\n"
     ]
    }
   ],
   "source": [
    "eda5.show()"
   ]
  },
  {
   "cell_type": "markdown",
   "metadata": {},
   "source": [
    "# 6. EVENT_TYPE 비율"
   ]
  },
  {
   "cell_type": "code",
   "execution_count": 28,
   "metadata": {},
   "outputs": [],
   "source": [
    "eda6 = spark.sql(\"SELECT event_type, count(*) AS count FROM ecommerce GROUP BY event_type\")"
   ]
  },
  {
   "cell_type": "code",
   "execution_count": 29,
   "metadata": {},
   "outputs": [
    {
     "name": "stdout",
     "output_type": "stream",
     "text": [
      "+----------+---------+\n",
      "|event_type|    count|\n",
      "+----------+---------+\n",
      "|  purchase|  6848824|\n",
      "|      view|385746849|\n",
      "|      cart| 19114063|\n",
      "+----------+---------+\n",
      "\n"
     ]
    }
   ],
   "source": [
    "eda6.show()"
   ]
  },
  {
   "cell_type": "code",
   "execution_count": 30,
   "metadata": {},
   "outputs": [
    {
     "data": {
      "image/png": "[encoded data removed]",
      "text/plain": [
       "<Figure size 1200x600 with 2 Axes>"
      ]
     },
     "metadata": {},
     "output_type": "display_data"
    }
   ],
   "source": [
    "import matplotlib.pyplot as plt\n",
    "\n",
    "# Spark DataFrame을 Pandas DataFrame으로 변환\n",
    "pandas_df = eda6.toPandas()\n",
    "\n",
    "# 이벤트 타입을 view -> cart -> purchase 순으로 정렬\n",
    "pandas_df = pandas_df.set_index('event_type').reindex(['view', 'cart', 'purchase']).reset_index()\n",
    "\n",
    "# 원 그래프 생성\n",
    "plt.figure(figsize=(12, 6))\n",
    "plt.subplot(1, 2, 1)  # 첫 번째 그래프는 원 그래프\n",
    "plt.pie(pandas_df['count'], labels=pandas_df['event_type'], autopct='%1.1f%%', startangle=140)\n",
    "plt.title('Event Type Distribution (Pie Chart)')\n",
    "\n",
    "# 막대 그래프 생성\n",
    "plt.subplot(1, 2, 2)  # 두 번째 그래프는 막대 그래프\n",
    "plt.bar(pandas_df['event_type'], pandas_df['count'], color=['skyblue', 'lightgreen', 'salmon'])\n",
    "plt.title('Event Type Counts (Bar Chart)')\n",
    "plt.xlabel('Event Type')\n",
    "plt.ylabel('Count')\n",
    "plt.xticks(rotation=45)\n",
    "\n",
    "# 그래프 보여주기\n",
    "plt.tight_layout()\n",
    "plt.show()\n"
   ]
  },
  {
   "cell_type": "markdown",
   "metadata": {},
   "source": [
    "# 7. user_session 별 view, purchase, cart의 수"
   ]
  },
  {
   "cell_type": "code",
   "execution_count": 31,
   "metadata": {},
   "outputs": [],
   "source": [
    "eda7 = spark.sql('''WITH source AS (\n",
    "                                                SELECT user_session, event_type, COUNT(event_time) AS event_count\n",
    "                                                FROM ecommerce\n",
    "                                                GROUP BY user_session, event_type\n",
    "                                                )\n",
    "                            SELECT \n",
    "                                user_session,\n",
    "                                SUM(CASE WHEN event_type = 'view' THEN event_count ELSE 0 END) AS view,\n",
    "                                SUM(CASE WHEN event_type = 'cart' THEN event_count ELSE 0 END) AS cart,\n",
    "                                SUM(CASE WHEN event_type = 'purchase' THEN event_count ELSE 0 END) AS purchase\n",
    "                            FROM source\n",
    "                            GROUP BY user_session\n",
    "                            ORDER BY user_session\n",
    "                        ''')"
   ]
  },
  {
   "cell_type": "code",
   "execution_count": 32,
   "metadata": {},
   "outputs": [
    {
     "name": "stdout",
     "output_type": "stream",
     "text": [
      "+--------------------+----+----+--------+\n",
      "|        user_session|view|cart|purchase|\n",
      "+--------------------+----+----+--------+\n",
      "|                NULL|  90| 132|       4|\n",
      "|00000031-5225-42a...|   1|   0|       0|\n",
      "|00000042-3e3f-42f...|   2|   0|       0|\n",
      "|0000004b-b485-4bf...|   2|   0|       0|\n",
      "|00000056-a206-40d...|   8|   0|       0|\n",
      "|0000007c-adbf-4ed...|   1|   0|       0|\n",
      "|00000083-8816-4d5...|  16|   1|       1|\n",
      "|0000009d-1f5b-40b...|   1|   0|       0|\n",
      "|00000108-fa90-4bf...|   1|   0|       0|\n",
      "|0000013c-0ccc-4b8...|   1|   0|       0|\n",
      "|00000162-3f83-4d1...|   2|   0|       0|\n",
      "|000001d5-66f5-4fa...|   1|   0|       0|\n",
      "|000001d5-f8f8-4e4...|   1|   0|       0|\n",
      "|000001fd-1f89-45e...|   6|   4|       1|\n",
      "|00000208-b6b8-44c...|   1|   0|       0|\n",
      "|0000020c-8e6b-4d2...|   1|   0|       0|\n",
      "|00000214-9e7b-4dd...|  16|   0|       0|\n",
      "|0000022a-fe95-430...|   3|   0|       0|\n",
      "|00000241-5dac-4d3...|   1|   0|       0|\n",
      "|00000348-8463-483...|   1|   0|       0|\n",
      "+--------------------+----+----+--------+\n",
      "only showing top 20 rows\n",
      "\n"
     ]
    }
   ],
   "source": [
    "eda7.show()"
   ]
  },
  {
   "cell_type": "markdown",
   "metadata": {},
   "source": [
    "# 8. user_session의 NULL 여부 및 수"
   ]
  },
  {
   "cell_type": "code",
   "execution_count": 33,
   "metadata": {},
   "outputs": [],
   "source": [
    "eda8 = spark.sql(\"\"\"\n",
    "SELECT COUNT(*) AS CNT\n",
    "FROM ecommerce\n",
    "WHERE user_session is NULL\n",
    "\"\"\")"
   ]
  },
  {
   "cell_type": "code",
   "execution_count": 34,
   "metadata": {},
   "outputs": [
    {
     "name": "stdout",
     "output_type": "stream",
     "text": [
      "+---+\n",
      "|CNT|\n",
      "+---+\n",
      "|226|\n",
      "+---+\n",
      "\n"
     ]
    }
   ],
   "source": [
    "eda8.show()"
   ]
  },
  {
   "cell_type": "markdown",
   "metadata": {},
   "source": [
    "# 9. 카테고리 갯수"
   ]
  },
  {
   "cell_type": "markdown",
   "metadata": {},
   "source": [
    "## 카테고리 대분류"
   ]
  },
  {
   "cell_type": "code",
   "execution_count": 35,
   "metadata": {},
   "outputs": [],
   "source": [
    "eda9_1 = spark.sql(\"\"\"SELECT DISTINCT (SUBSTRING_INDEX(category_code, '.', 1)) \n",
    "                   FROM ecommerce\"\"\")"
   ]
  },
  {
   "cell_type": "code",
   "execution_count": 36,
   "metadata": {},
   "outputs": [
    {
     "name": "stdout",
     "output_type": "stream",
     "text": [
      "+------------------------------------+\n",
      "|substring_index(category_code, ., 1)|\n",
      "+------------------------------------+\n",
      "|                            medicine|\n",
      "|                           computers|\n",
      "|                                auto|\n",
      "|                          stationery|\n",
      "|                               sport|\n",
      "|                             apparel|\n",
      "|                          appliances|\n",
      "|                        country_yard|\n",
      "|                           furniture|\n",
      "|                         accessories|\n",
      "|                                kids|\n",
      "|                         electronics|\n",
      "|                        construction|\n",
      "|                                NULL|\n",
      "+------------------------------------+\n",
      "\n"
     ]
    }
   ],
   "source": [
    "eda9_1.show()"
   ]
  },
  {
   "cell_type": "markdown",
   "metadata": {},
   "source": [
    "## 대분류 갯수"
   ]
  },
  {
   "cell_type": "code",
   "execution_count": 37,
   "metadata": {},
   "outputs": [],
   "source": [
    "eda9_2 = spark.sql(\"\"\"SELECT COUNT(DISTINCT (SUBSTRING_INDEX(category_code, '.', 1))) AS CNT \n",
    "                   FROM ecommerce\"\"\")"
   ]
  },
  {
   "cell_type": "code",
   "execution_count": 38,
   "metadata": {},
   "outputs": [
    {
     "name": "stdout",
     "output_type": "stream",
     "text": [
      "+---+\n",
      "|CNT|\n",
      "+---+\n",
      "| 13|\n",
      "+---+\n",
      "\n"
     ]
    }
   ],
   "source": [
    "eda9_2.show()"
   ]
  },
  {
   "cell_type": "markdown",
   "metadata": {},
   "source": [
    "## 카테고리 중분류"
   ]
  },
  {
   "cell_type": "code",
   "execution_count": 39,
   "metadata": {},
   "outputs": [],
   "source": [
    "eda9_3= spark.sql(\"\"\"SELECT DISTINCT (SUBSTRING_INDEX(category_code, '.', 2)) AS cnt \n",
    "          FROM ecommerce\"\"\")"
   ]
  },
  {
   "cell_type": "code",
   "execution_count": 40,
   "metadata": {},
   "outputs": [
    {
     "name": "stdout",
     "output_type": "stream",
     "text": [
      "+--------------------+\n",
      "|                 cnt|\n",
      "+--------------------+\n",
      "|  electronics.camera|\n",
      "|    computers.ebooks|\n",
      "|  furniture.bathroom|\n",
      "|country_yard.furn...|\n",
      "|     sport.snowboard|\n",
      "|       apparel.shirt|\n",
      "|  electronics.tablet|\n",
      "|       apparel.jeans|\n",
      "|   electronics.audio|\n",
      "| stationery.cartrige|\n",
      "|electronics.telep...|\n",
      "|     apparel.pajamas|\n",
      "|       apparel.skirt|\n",
      "|      apparel.jacket|\n",
      "|       apparel.dress|\n",
      "|     accessories.bag|\n",
      "|       sport.bicycle|\n",
      "|         kids.skates|\n",
      "|   apparel.underwear|\n",
      "|       apparel.scarf|\n",
      "+--------------------+\n",
      "only showing top 20 rows\n",
      "\n"
     ]
    }
   ],
   "source": [
    "eda9_3.show()"
   ]
  },
  {
   "cell_type": "markdown",
   "metadata": {},
   "source": [
    "## 카테고리 중분류 갯수"
   ]
  },
  {
   "cell_type": "code",
   "execution_count": 41,
   "metadata": {},
   "outputs": [],
   "source": [
    "eda9_4 = spark.sql(\"\"\"SELECT COUNT(DISTINCT (SUBSTRING_INDEX(category_code, '.', 2))) AS cnt \n",
    "          FROM ecommerce\"\"\")"
   ]
  },
  {
   "cell_type": "code",
   "execution_count": 42,
   "metadata": {},
   "outputs": [
    {
     "name": "stdout",
     "output_type": "stream",
     "text": [
      "+---+\n",
      "|cnt|\n",
      "+---+\n",
      "| 66|\n",
      "+---+\n",
      "\n"
     ]
    }
   ],
   "source": [
    "eda9_4.show()"
   ]
  },
  {
   "cell_type": "markdown",
   "metadata": {},
   "source": [
    "# 10. 요일별 판매량, 판매액, paying User\n",
    "DAYOFWEEK => 일요일 1, 월요일 2, 화요일 3, 수요일 4, 목요일 5, 금요일 6, 토요일 7"
   ]
  },
  {
   "cell_type": "code",
   "execution_count": 43,
   "metadata": {},
   "outputs": [],
   "source": [
    "eda10 = spark.sql(\"\"\"\n",
    "                                SELECT CASE DAYOFWEEK(event_time)\n",
    "                                            WHEN '1' THEN 'SUN'\n",
    "                                            WHEN '2' THEN 'MON'\n",
    "                                            WHEN '3' THEN 'TUE'\n",
    "                                            WHEN '4' THEN 'WED'\n",
    "                                            WHEN '5' THEN 'THU' \n",
    "                                            WHEN '6' THEN 'FRI' \n",
    "                                            WHEN '7' THEN 'SAT' \n",
    "                                        END\n",
    "                                                AS dayOfweek,\n",
    "                                        COUNT(*) AS total_sales_amount,\n",
    "                                        FLOOR(SUM(price)) AS total_sales_price,\n",
    "                                        COUNT(DISTINCT user_id) AS paying_user_cnt\n",
    "                                FROM ecommerce\n",
    "                                WHERE event_type = 'purchase'\n",
    "                                GROUP BY dayOfweek\n",
    "                                ORDER BY total_sales_amount DESC\n",
    "                             \"\"\")"
   ]
  },
  {
   "cell_type": "code",
   "execution_count": 44,
   "metadata": {},
   "outputs": [
    {
     "name": "stdout",
     "output_type": "stream",
     "text": [
      "+---------+------------------+-----------------+---------------+\n",
      "|dayOfweek|total_sales_amount|total_sales_price|paying_user_cnt|\n",
      "+---------+------------------+-----------------+---------------+\n",
      "|      SUN|           1055228|        313085547|         559699|\n",
      "|      MON|           1013977|        307931292|         524147|\n",
      "|      SAT|            980182|        292239436|         523776|\n",
      "|      WED|            963658|        291715085|         506306|\n",
      "|      THU|            956283|        286149186|         506407|\n",
      "|      FRI|            942724|        283230299|         500212|\n",
      "|      TUE|            936772|        283096380|         492408|\n",
      "+---------+------------------+-----------------+---------------+\n",
      "\n"
     ]
    }
   ],
   "source": [
    "eda10.show()"
   ]
  },
  {
   "cell_type": "markdown",
   "metadata": {},
   "source": [
    "# 11. 월별 판매량, 판매액, paying User"
   ]
  },
  {
   "cell_type": "code",
   "execution_count": 45,
   "metadata": {},
   "outputs": [],
   "source": [
    "eda11 = spark.sql(\"\"\"\n",
    "                                SELECT MONTH(event_time) AS MONTH,\n",
    "                                        COUNT(*) AS total_sales_amount,\n",
    "                                        FLOOR(SUM(price)) AS total_sales_price,\n",
    "                                        COUNT(DISTINCT user_id) AS paying_user_cnt\n",
    "                                FROM ecommerce\n",
    "                                WHERE event_type = 'purchase'\n",
    "                                GROUP BY MONTH\n",
    "                                ORDER BY total_sales_amount DESC\n",
    "                             \"\"\")"
   ]
  },
  {
   "cell_type": "code",
   "execution_count": 46,
   "metadata": {},
   "outputs": [
    {
     "name": "stdout",
     "output_type": "stream",
     "text": [
      "+-----+------------------+-----------------+---------------+\n",
      "|MONTH|total_sales_amount|total_sales_price|paying_user_cnt|\n",
      "+-----+------------------+-----------------+---------------+\n",
      "|    2|           1202425|        381733526|         392986|\n",
      "|   12|           1166126|        345350267|         502203|\n",
      "|    3|           1025438|        321543985|         453238|\n",
      "|    4|            961924|        243801633|         483209|\n",
      "|   11|            914915|        274656223|         440842|\n",
      "|    1|            829470|        259480355|         357440|\n",
      "|   10|            737955|        228396975|         345250|\n",
      "|    5|             10571|          2484260|           7510|\n",
      "+-----+------------------+-----------------+---------------+\n",
      "\n"
     ]
    }
   ],
   "source": [
    "eda11.show()"
   ]
  },
  {
   "cell_type": "markdown",
   "metadata": {},
   "source": [
    "# SPARK STOP"
   ]
  },
  {
   "cell_type": "code",
   "execution_count": null,
   "metadata": {},
   "outputs": [],
   "source": [
    "spark.stop()"
   ]
  }
 ],
 "metadata": {
  "kernelspec": {
   "display_name": "Python 3",
   "language": "python",
   "name": "python3"
  },
  "language_info": {
   "codemirror_mode": {
    "name": "ipython",
    "version": 3
   },
   "file_extension": ".py",
   "mimetype": "text/x-python",
   "name": "python",
   "nbconvert_exporter": "python",
   "pygments_lexer": "ipython3",
   "version": "3.10.8"
  }
 },
 "nbformat": 4,
 "nbformat_minor": 2
}
