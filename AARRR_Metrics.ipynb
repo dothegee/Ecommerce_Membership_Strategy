{
 "cells": [
  {
   "cell_type": "markdown",
   "metadata": {},
   "source": [
    "# IMPORT LIBRARY"
   ]
  },
  {
   "cell_type": "code",
   "execution_count": 43,
   "metadata": {},
   "outputs": [],
   "source": [
    "import faulthandler \n",
    "from pyspark.sql import SparkSession \n",
    "import pyspark\n",
    "from pyspark.sql import SparkSession\n",
    "from pyspark.sql.types import StructType, StructField, StringType, IntegerType\n",
    "from pyspark.sql.types import ArrayType, DoubleType, BooleanType, DateType, FloatType, TimestampType\n",
    "from pyspark.sql.functions import col, array_contains, isnan, when, count\n",
    "from pyspark.sql.functions import lit, concat_ws, concat, collect_list, udf\n",
    "from pyspark.sql.functions import countDistinct\n",
    "import plotly.express as px\n",
    "import os\n",
    "import seaborn as sns\n",
    "import matplotlib.pyplot as plt"
   ]
  },
  {
   "cell_type": "markdown",
   "metadata": {},
   "source": [
    "## spark 접속"
   ]
  },
  {
   "cell_type": "code",
   "execution_count": 2,
   "metadata": {},
   "outputs": [],
   "source": [
    "\n",
    "faulthandler.enable()   \n",
    "spark = SparkSession.builder.master('local').appName('Python Spark SQL Practice').getOrCreate()"
   ]
  },
  {
   "cell_type": "markdown",
   "metadata": {},
   "source": [
    "# DATA LOAD"
   ]
  },
  {
   "cell_type": "code",
   "execution_count": 3,
   "metadata": {},
   "outputs": [
    {
     "name": "stdout",
     "output_type": "stream",
     "text": [
      "D:/workspace/data/2019-Dec.csv\n",
      "D:/workspace/data/2019-Nov.csv\n",
      "D:/workspace/data/2019-Oct.csv\n",
      "D:/workspace/data/2020-Apr.csv\n",
      "D:/workspace/data/2020-Feb.csv\n",
      "D:/workspace/data/2020-Jan.csv\n",
      "D:/workspace/data/2020-Mar.csv\n"
     ]
    }
   ],
   "source": [
    "def search(dirname):\n",
    "    filenames = os.listdir(dirname)\n",
    "    file_list = []\n",
    "    for filename in filenames:\n",
    "        full_filename = os.path.join(dirname, filename)\n",
    "        print(full_filename)\n",
    "        file_list.append(full_filename)\n",
    "    return file_list\n",
    "data_path_list = search(\"D:/workspace/data/\")"
   ]
  },
  {
   "cell_type": "markdown",
   "metadata": {},
   "source": [
    "## 스키마 타입"
   ]
  },
  {
   "cell_type": "code",
   "execution_count": 4,
   "metadata": {},
   "outputs": [],
   "source": [
    "schema = StructType() \\\n",
    "      .add(\"event_time\",TimestampType(),True) \\\n",
    "      .add(\"event_type\",StringType(),True) \\\n",
    "      .add(\"product_id\",StringType(),True) \\\n",
    "      .add(\"category_id\",StringType(),True) \\\n",
    "      .add(\"category_code\",StringType(),True) \\\n",
    "      .add(\"brand\",StringType(),True) \\\n",
    "      .add(\"price\",DoubleType(),True) \\\n",
    "      .add(\"user_id\",StringType(),True) \\\n",
    "      .add(\"user_session\",StringType(),True)"
   ]
  },
  {
   "cell_type": "markdown",
   "metadata": {},
   "source": [
    "## data merge\n",
    "    - 2019년 10월 ~ 2020년 4월"
   ]
  },
  {
   "cell_type": "code",
   "execution_count": 5,
   "metadata": {},
   "outputs": [],
   "source": [
    "for i, x in enumerate(data_path_list):\n",
    "    file_path = x\n",
    "    df = spark.read.format(\"csv\") \\\n",
    "      .option(\"header\", True) \\\n",
    "      .option('delimiter', ',') \\\n",
    "      .schema(schema) \\\n",
    "      .load(file_path)\n",
    "    if i == 0:\n",
    "        merged_df = df\n",
    "    else:\n",
    "        merged_df = merged_df.union(df)"
   ]
  },
  {
   "cell_type": "code",
   "execution_count": 6,
   "metadata": {},
   "outputs": [
    {
     "name": "stdout",
     "output_type": "stream",
     "text": [
      "+-------------------+----------+----------+-------------------+--------------------+-------+-------+---------+--------------------+\n",
      "|         event_time|event_type|product_id|        category_id|       category_code|  brand|  price|  user_id|        user_session|\n",
      "+-------------------+----------+----------+-------------------+--------------------+-------+-------+---------+--------------------+\n",
      "|2019-12-01 09:00:00|      view|   1005105|2232732093077520756|construction.tool...|  apple|1302.48|556695836|ca5eefc5-11f9-450...|\n",
      "|2019-12-01 09:00:00|      view|  22700068|2232732091643068746|                NULL|  force| 102.96|577702456|de33debe-c7bf-44e...|\n",
      "|2019-12-01 09:00:01|      view|   2402273|2232732100769874463|appliances.person...|  bosch| 313.52|539453785|5ee185a7-0689-4a3...|\n",
      "|2019-12-01 09:00:02|  purchase|  26400248|2053013553056579841|computers.periphe...|   NULL| 132.31|535135317|61792a26-672f-4e6...|\n",
      "|2019-12-01 09:00:02|      view|  20100164|2232732110089618156|    apparel.trousers|   nika| 101.68|517987650|906c6ca8-ff5c-419...|\n",
      "|2019-12-01 09:00:02|      view| 100008256|2053013561185141473|accessories.umbrella|   ikea| 163.56|542860793|a1bcb550-1065-476...|\n",
      "|2019-12-01 09:00:02|      view|  21400264|2053013561579406073|  electronics.clocks|   NULL|  88.81|538021416|e88f77cc-e75e-4e9...|\n",
      "|2019-12-01 09:00:03|      view|   1005239|2232732093077520756|construction.tool...| xiaomi| 256.38|525740700|370e8c88-3d07-41d...|\n",
      "|2019-12-01 09:00:04|      view|   5100885|2053013553375346967|  computers.notebook|    jet|  20.57|512509221|4227259f-1c4c-41d...|\n",
      "|2019-12-01 09:00:04|      view|  26205399|2232732081585127530|construction.comp...|   NULL| 179.16|553345124|58c692ff-c7a9-4e3...|\n",
      "|2019-12-01 09:00:04|      view|  22900009|2053013553375346967|  computers.notebook|  vegas|  49.94|554369617|a4481ea8-9a20-442...|\n",
      "|2019-12-01 09:00:04|      view|   1004233|2232732093077520756|construction.tool...|  apple|1312.52|579969851|90aca71c-ed8a-467...|\n",
      "|2019-12-01 09:00:05|      view|  22700202|2232732091643068746|                NULL|  stels| 171.18|575086722|05a5e4f4-1865-4b0...|\n",
      "|2019-12-01 09:00:06|      view|   1004856|2232732093077520756|construction.tool...|samsung| 124.11|532554953|4bd14129-caad-4de...|\n",
      "|2019-12-01 09:00:06|      view|   3701309|2053013565983425517|appliances.enviro...|polaris|  89.32|543733099|a65116f4-ac53-4a4...|\n",
      "|2019-12-01 09:00:07|      view|  11500445|2053013552259662037|computers.compone...| xiaomi|  27.77|526844203|5e62045f-58f7-442...|\n",
      "|2019-12-01 09:00:07|      view|   1005105|2232732093077520756|construction.tool...|  apple|1302.48|562071412|822749fe-49f1-4a9...|\n",
      "|2019-12-01 09:00:07|      view|   1003489|2232732093077520756|construction.tool...| huawei| 205.67|543826485|b251cbde-4373-497...|\n",
      "|2019-12-01 09:00:07|      view|   1480790|2053013553341792533|  electronics.clocks| lenovo| 342.82|577653879|a971d966-d601-4d8...|\n",
      "|2019-12-01 09:00:07|      view|   4804718|2232732079706079299|       sport.bicycle|  apple| 329.14|579969767|e159d1a1-6668-477...|\n",
      "+-------------------+----------+----------+-------------------+--------------------+-------+-------+---------+--------------------+\n",
      "only showing top 20 rows\n",
      "\n"
     ]
    }
   ],
   "source": [
    "merged_df.show()"
   ]
  },
  {
   "cell_type": "markdown",
   "metadata": {},
   "source": [
    "## spark table 생성"
   ]
  },
  {
   "cell_type": "code",
   "execution_count": 7,
   "metadata": {},
   "outputs": [],
   "source": [
    "merged_df.createOrReplaceTempView(\"ecommerce\")"
   ]
  },
  {
   "cell_type": "markdown",
   "metadata": {},
   "source": [
    "# 1. ACQUISITION(고객 유치) "
   ]
  },
  {
   "cell_type": "markdown",
   "metadata": {},
   "source": [
    "## 1) DAU (Daily Active User)"
   ]
  },
  {
   "cell_type": "markdown",
   "metadata": {},
   "source": [
    "### DAU 쿼리"
   ]
  },
  {
   "cell_type": "code",
   "execution_count": 8,
   "metadata": {},
   "outputs": [],
   "source": [
    "dau = spark.sql(\"\"\"\n",
    "SELECT DATE(event_time) AS event_date, COUNT(DISTINCT user_id) AS DAU\n",
    "FROM ecommerce\n",
    "GROUP BY event_date\n",
    "ORDER BY event_date\n",
    "\"\"\")"
   ]
  },
  {
   "cell_type": "code",
   "execution_count": 9,
   "metadata": {},
   "outputs": [
    {
     "name": "stdout",
     "output_type": "stream",
     "text": [
      "+----------+------+\n",
      "|event_date|   DAU|\n",
      "+----------+------+\n",
      "|2019-10-01|138532|\n",
      "|2019-10-02|191269|\n",
      "|2019-10-03|171202|\n",
      "|2019-10-04|204000|\n",
      "|2019-10-05|195812|\n",
      "|2019-10-06|194376|\n",
      "|2019-10-07|189661|\n",
      "|2019-10-08|216037|\n",
      "|2019-10-09|216194|\n",
      "|2019-10-10|203411|\n",
      "|2019-10-11|233042|\n",
      "|2019-10-12|209497|\n",
      "|2019-10-13|225661|\n",
      "|2019-10-14|209438|\n",
      "|2019-10-15|227812|\n",
      "|2019-10-16|232011|\n",
      "|2019-10-17|211813|\n",
      "|2019-10-18|224919|\n",
      "|2019-10-19|220472|\n",
      "|2019-10-20|230312|\n",
      "+----------+------+\n",
      "only showing top 20 rows\n",
      "\n"
     ]
    }
   ],
   "source": [
    "dau.show()"
   ]
  },
  {
   "cell_type": "markdown",
   "metadata": {},
   "source": [
    "### DAU 그래프"
   ]
  },
  {
   "cell_type": "code",
   "execution_count": null,
   "metadata": {},
   "outputs": [],
   "source": []
  },
  {
   "cell_type": "markdown",
   "metadata": {},
   "source": [
    "## 2) MAU(Monthly Active User)"
   ]
  },
  {
   "cell_type": "markdown",
   "metadata": {},
   "source": [
    "### MAU 쿼리"
   ]
  },
  {
   "cell_type": "code",
   "execution_count": 10,
   "metadata": {},
   "outputs": [],
   "source": [
    "mau = spark.sql(\"\"\"\n",
    "SELECT DATE_FORMAT(event_time, 'yyyy-mm') AS event_month, COUNT(DISTINCT user_id) AS DAU\n",
    "FROM ecommerce\n",
    "GROUP BY event_month\n",
    "ORDER BY event_month\n",
    "\"\"\")"
   ]
  },
  {
   "cell_type": "code",
   "execution_count": 11,
   "metadata": {},
   "outputs": [
    {
     "name": "stdout",
     "output_type": "stream",
     "text": [
      "+-----------+-------+\n",
      "|event_month|    DAU|\n",
      "+-----------+-------+\n",
      "|    2019-00|1280672|\n",
      "|    2019-01|1274393|\n",
      "|    2019-02|1267876|\n",
      "|    2019-03|1266610|\n",
      "|    2019-04|1269594|\n",
      "|    2019-05|1276898|\n",
      "|    2019-06|1276221|\n",
      "|    2019-07|1280162|\n",
      "|    2019-08|1280832|\n",
      "|    2019-09|1281906|\n",
      "|    2019-10|1281675|\n",
      "|    2019-11|1284426|\n",
      "|    2019-12|1286149|\n",
      "|    2019-13|1284303|\n",
      "|    2019-14|1286483|\n",
      "|    2019-15|1288085|\n",
      "|    2019-16|1288663|\n",
      "|    2019-17|1287799|\n",
      "|    2019-18|1287940|\n",
      "|    2019-19|1288514|\n",
      "+-----------+-------+\n",
      "only showing top 20 rows\n",
      "\n"
     ]
    }
   ],
   "source": [
    "mau.show()"
   ]
  },
  {
   "cell_type": "markdown",
   "metadata": {},
   "source": [
    "### MAU 그래프"
   ]
  },
  {
   "cell_type": "code",
   "execution_count": null,
   "metadata": {},
   "outputs": [],
   "source": []
  },
  {
   "cell_type": "markdown",
   "metadata": {},
   "source": [
    "# 2. ACTIVATION(활성화)"
   ]
  },
  {
   "cell_type": "markdown",
   "metadata": {},
   "source": [
    "## 1) DT(Duration Time, 체류 시간)"
   ]
  },
  {
   "cell_type": "markdown",
   "metadata": {},
   "source": [
    "### DT 쿼리"
   ]
  },
  {
   "cell_type": "code",
   "execution_count": 12,
   "metadata": {},
   "outputs": [],
   "source": [
    "duration = spark.sql('''SELECT user_session, \n",
    "                                MONTH(MAX(event_time)) AS DURATION_MONTH,\n",
    "                                DATE(MAX(event_time)) AS DURATION_DATE,\n",
    "                               MAX(event_time) - MIN(event_time) AS duration\n",
    "                  FROM ecommerce \n",
    "                  GROUP BY user_session\n",
    "                  '''\n",
    "          )"
   ]
  },
  {
   "cell_type": "code",
   "execution_count": 13,
   "metadata": {},
   "outputs": [
    {
     "name": "stdout",
     "output_type": "stream",
     "text": [
      "+--------------------+--------------+-------------+--------------------+\n",
      "|        user_session|DURATION_MONTH|DURATION_DATE|            duration|\n",
      "+--------------------+--------------+-------------+--------------------+\n",
      "|6ab5b6db-c510-4bf...|            12|   2019-12-01|INTERVAL '0 00:11...|\n",
      "|65af5191-b1f4-48f...|            12|   2019-12-01|INTERVAL '0 00:02...|\n",
      "|85433431-f690-457...|            12|   2019-12-01|INTERVAL '0 00:00...|\n",
      "|58ccc335-aec1-441...|            12|   2019-12-01|INTERVAL '0 00:00...|\n",
      "|401786ed-0a16-4b8...|            12|   2019-12-01|INTERVAL '0 00:04...|\n",
      "|d1172b13-34ef-4b2...|            12|   2019-12-01|INTERVAL '0 00:00...|\n",
      "|ad4ddec9-f4d2-4fb...|            12|   2019-12-01|INTERVAL '0 00:29...|\n",
      "|b856e5bf-c31a-475...|            12|   2019-12-01|INTERVAL '0 00:01...|\n",
      "|16ff28f3-38e4-47f...|            12|   2019-12-01|INTERVAL '0 00:00...|\n",
      "|96528bd9-afba-4c2...|            12|   2019-12-01|INTERVAL '0 00:00...|\n",
      "|0cc48385-9a5d-4fe...|            12|   2019-12-01|INTERVAL '0 00:01...|\n",
      "|4d252c69-e34b-40a...|            12|   2019-12-01|INTERVAL '0 00:00...|\n",
      "|77a362af-54de-493...|            12|   2019-12-01|INTERVAL '0 00:12...|\n",
      "|fb7544c5-0286-412...|            12|   2019-12-01|INTERVAL '0 00:00...|\n",
      "|310dae9e-45d0-4ff...|            12|   2019-12-01|INTERVAL '0 00:03...|\n",
      "|78506d4f-8ca3-478...|            12|   2019-12-01|INTERVAL '0 00:00...|\n",
      "|5939fa1d-68eb-43c...|            12|   2019-12-01|INTERVAL '0 00:00...|\n",
      "|32801418-1d04-431...|            12|   2019-12-01|INTERVAL '0 00:00...|\n",
      "|d80b1cdf-d02c-47f...|            12|   2019-12-01|INTERVAL '0 00:00...|\n",
      "|313e78be-8081-478...|            12|   2019-12-01|INTERVAL '0 00:01...|\n",
      "+--------------------+--------------+-------------+--------------------+\n",
      "only showing top 20 rows\n",
      "\n"
     ]
    }
   ],
   "source": [
    "duration.show()"
   ]
  },
  {
   "cell_type": "markdown",
   "metadata": {},
   "source": [
    "## 2) 구매까지 걸리는 DT"
   ]
  },
  {
   "cell_type": "markdown",
   "metadata": {},
   "source": [
    "### duration 테이블 만들기"
   ]
  },
  {
   "cell_type": "code",
   "execution_count": 14,
   "metadata": {},
   "outputs": [],
   "source": [
    "duration.createOrReplaceTempView('duration_table')"
   ]
  },
  {
   "cell_type": "markdown",
   "metadata": {},
   "source": [
    "### user_session 별로 view, purchase, cart의 수"
   ]
  },
  {
   "cell_type": "code",
   "execution_count": 15,
   "metadata": {},
   "outputs": [],
   "source": [
    "pivot_session = spark.sql('''WITH source AS (\n",
    "                                                SELECT user_session, event_type, COUNT(event_time) AS event_count\n",
    "                                                FROM ecommerce\n",
    "                                                GROUP BY user_session, event_type\n",
    "                                                )\n",
    "                            SELECT \n",
    "                                user_session,\n",
    "                                SUM(CASE WHEN event_type = 'view' THEN event_count ELSE 0 END) AS view,\n",
    "                                SUM(CASE WHEN event_type = 'cart' THEN event_count ELSE 0 END) AS cart,\n",
    "                                SUM(CASE WHEN event_type = 'purchase' THEN event_count ELSE 0 END) AS purchase\n",
    "                            FROM source\n",
    "                            GROUP BY user_session\n",
    "                            ORDER BY user_session\n",
    "                        ''')"
   ]
  },
  {
   "cell_type": "code",
   "execution_count": 16,
   "metadata": {},
   "outputs": [],
   "source": [
    "pivot_session.createOrReplaceTempView('session_pivot_table')"
   ]
  },
  {
   "cell_type": "markdown",
   "metadata": {},
   "source": [
    "### 구매 이력이 있는 섹션의 DT"
   ]
  },
  {
   "cell_type": "code",
   "execution_count": 17,
   "metadata": {},
   "outputs": [],
   "source": [
    "purchase_session_avg_duration = spark.sql('''\n",
    "                                                SELECT MEAN(d.duration)\n",
    "                                                FROM duration_table AS d, \n",
    "                                                    (SELECT user_session, purchase\n",
    "                                                    FROM session_pivot_table\n",
    "                                                    WHERE purchase > 0)   AS p\n",
    "                                                WHERE d.user_session = p.user_session\n",
    "                                        ''')"
   ]
  },
  {
   "cell_type": "code",
   "execution_count": 18,
   "metadata": {},
   "outputs": [
    {
     "name": "stdout",
     "output_type": "stream",
     "text": [
      "+--------------------+\n",
      "|      mean(duration)|\n",
      "+--------------------+\n",
      "|INTERVAL '2 01:41...|\n",
      "+--------------------+\n",
      "\n"
     ]
    }
   ],
   "source": [
    "purchase_session_avg_duration.show()"
   ]
  },
  {
   "cell_type": "markdown",
   "metadata": {},
   "source": [
    "## 3) 월간 DT"
   ]
  },
  {
   "cell_type": "markdown",
   "metadata": {},
   "source": [
    "### 월간 DT 쿼리"
   ]
  },
  {
   "cell_type": "code",
   "execution_count": 48,
   "metadata": {},
   "outputs": [],
   "source": [
    "duration_month = spark.sql(\"\"\"\n",
    "WITH temp AS (\n",
    "    SELECT user_session, \n",
    "    MONTH(MAX(event_time)) AS DURATION_MONTH,\n",
    "    DATE(MAX(event_time)) AS DURATION_DATE,\n",
    "    MAX(event_time) - MIN(event_time) AS duration\n",
    "    FROM ecommerce \n",
    "    GROUP BY user_session\n",
    ")\n",
    "SELECT DURATION_DATE, AVG(duration) AS AVG_DURATION\n",
    "FROM temp\n",
    "GROUP BY DURATION_DATE\n",
    "ORDER BY DURATION_DATE\n",
    "\"\"\")"
   ]
  },
  {
   "cell_type": "code",
   "execution_count": 49,
   "metadata": {},
   "outputs": [
    {
     "name": "stdout",
     "output_type": "stream",
     "text": [
      "+-------------+--------------------+\n",
      "|DURATION_DATE|        AVG_DURATION|\n",
      "+-------------+--------------------+\n",
      "|   2019-10-01|INTERVAL '0 00:04...|\n",
      "|   2019-10-02|INTERVAL '0 00:07...|\n",
      "|   2019-10-03|INTERVAL '0 00:10...|\n",
      "|   2019-10-04|INTERVAL '0 00:10...|\n",
      "|   2019-10-05|INTERVAL '0 00:11...|\n",
      "|   2019-10-06|INTERVAL '0 00:13...|\n",
      "|   2019-10-07|INTERVAL '0 00:14...|\n",
      "|   2019-10-08|INTERVAL '0 00:15...|\n",
      "|   2019-10-09|INTERVAL '0 00:14...|\n",
      "|   2019-10-10|INTERVAL '0 00:15...|\n",
      "|   2019-10-11|INTERVAL '0 00:14...|\n",
      "|   2019-10-12|INTERVAL '0 00:16...|\n",
      "|   2019-10-13|INTERVAL '0 00:15...|\n",
      "|   2019-10-14|INTERVAL '0 00:16...|\n",
      "|   2019-10-15|INTERVAL '0 00:15...|\n",
      "|   2019-10-16|INTERVAL '0 00:15...|\n",
      "|   2019-10-17|INTERVAL '0 00:15...|\n",
      "|   2019-10-18|INTERVAL '0 00:14...|\n",
      "|   2019-10-19|INTERVAL '0 00:13...|\n",
      "|   2019-10-20|INTERVAL '0 00:13...|\n",
      "+-------------+--------------------+\n",
      "only showing top 20 rows\n",
      "\n"
     ]
    }
   ],
   "source": [
    "duration_month.show()"
   ]
  },
  {
   "cell_type": "markdown",
   "metadata": {},
   "source": [
    "## 4) FUNNEL (EVENT_TYPE 별 COUNT)"
   ]
  },
  {
   "cell_type": "markdown",
   "metadata": {},
   "source": [
    "### FUNNEL 쿼리"
   ]
  },
  {
   "cell_type": "code",
   "execution_count": 21,
   "metadata": {},
   "outputs": [],
   "source": [
    "funnel = spark.sql(\"\"\"\n",
    "                   SELECT \n",
    "                        event_type, COUNT(*) AS CNT\n",
    "                   FROM \n",
    "                        ecommerce\n",
    "                   GROUP BY \n",
    "                        event_type\n",
    "                   ORDER BY\n",
    "                        CNT DESC\n",
    "\"\"\")"
   ]
  },
  {
   "cell_type": "code",
   "execution_count": 22,
   "metadata": {},
   "outputs": [
    {
     "name": "stdout",
     "output_type": "stream",
     "text": [
      "+----------+---------+\n",
      "|event_type|      CNT|\n",
      "+----------+---------+\n",
      "|      view|385746849|\n",
      "|      cart| 19114063|\n",
      "|  purchase|  6848824|\n",
      "+----------+---------+\n",
      "\n"
     ]
    }
   ],
   "source": [
    "funnel.show()"
   ]
  },
  {
   "cell_type": "code",
   "execution_count": 23,
   "metadata": {},
   "outputs": [],
   "source": [
    "df_funnel = funnel.toPandas()"
   ]
  },
  {
   "cell_type": "code",
   "execution_count": 24,
   "metadata": {},
   "outputs": [
    {
     "data": {
      "text/html": [
       "<div>\n",
       "<style scoped>\n",
       "    .dataframe tbody tr th:only-of-type {\n",
       "        vertical-align: middle;\n",
       "    }\n",
       "\n",
       "    .dataframe tbody tr th {\n",
       "        vertical-align: top;\n",
       "    }\n",
       "\n",
       "    .dataframe thead th {\n",
       "        text-align: right;\n",
       "    }\n",
       "</style>\n",
       "<table border=\"1\" class=\"dataframe\">\n",
       "  <thead>\n",
       "    <tr style=\"text-align: right;\">\n",
       "      <th></th>\n",
       "      <th>event_type</th>\n",
       "      <th>CNT</th>\n",
       "    </tr>\n",
       "  </thead>\n",
       "  <tbody>\n",
       "    <tr>\n",
       "      <th>0</th>\n",
       "      <td>view</td>\n",
       "      <td>385746849</td>\n",
       "    </tr>\n",
       "    <tr>\n",
       "      <th>1</th>\n",
       "      <td>cart</td>\n",
       "      <td>19114063</td>\n",
       "    </tr>\n",
       "    <tr>\n",
       "      <th>2</th>\n",
       "      <td>purchase</td>\n",
       "      <td>6848824</td>\n",
       "    </tr>\n",
       "  </tbody>\n",
       "</table>\n",
       "</div>"
      ],
      "text/plain": [
       "  event_type        CNT\n",
       "0       view  385746849\n",
       "1       cart   19114063\n",
       "2   purchase    6848824"
      ]
     },
     "execution_count": 24,
     "metadata": {},
     "output_type": "execute_result"
    }
   ],
   "source": [
    "df_funnel"
   ]
  },
  {
   "cell_type": "markdown",
   "metadata": {},
   "source": [
    "### FUNNEL 그래프"
   ]
  },
  {
   "cell_type": "code",
   "execution_count": 25,
   "metadata": {},
   "outputs": [
    {
     "data": {
      "application/vnd.plotly.v1+json": {
       "config": {
        "plotlyServerURL": "https://plot.ly"
       },
       "data": [
        {
         "hovertemplate": "event_type=%{x}<br>CNT=%{y}<extra></extra>",
         "legendgroup": "",
         "marker": {
          "color": "#636efa"
         },
         "name": "",
         "orientation": "v",
         "showlegend": false,
         "texttemplate": "%{value:,.0f}",
         "type": "funnel",
         "x": [
          "view",
          "cart",
          "purchase"
         ],
         "xaxis": "x",
         "y": [
          385746849,
          19114063,
          6848824
         ],
         "yaxis": "y"
        }
       ],
       "layout": {
        "legend": {
         "tracegroupgap": 0
        },
        "margin": {
         "t": 60
        },
        "template": {
         "data": {
          "bar": [
           {
            "error_x": {
             "color": "#2a3f5f"
            },
            "error_y": {
             "color": "#2a3f5f"
            },
            "marker": {
             "line": {
              "color": "#E5ECF6",
              "width": 0.5
             },
             "pattern": {
              "fillmode": "overlay",
              "size": 10,
              "solidity": 0.2
             }
            },
            "type": "bar"
           }
          ],
          "barpolar": [
           {
            "marker": {
             "line": {
              "color": "#E5ECF6",
              "width": 0.5
             },
             "pattern": {
              "fillmode": "overlay",
              "size": 10,
              "solidity": 0.2
             }
            },
            "type": "barpolar"
           }
          ],
          "carpet": [
           {
            "aaxis": {
             "endlinecolor": "#2a3f5f",
             "gridcolor": "white",
             "linecolor": "white",
             "minorgridcolor": "white",
             "startlinecolor": "#2a3f5f"
            },
            "baxis": {
             "endlinecolor": "#2a3f5f",
             "gridcolor": "white",
             "linecolor": "white",
             "minorgridcolor": "white",
             "startlinecolor": "#2a3f5f"
            },
            "type": "carpet"
           }
          ],
          "choropleth": [
           {
            "colorbar": {
             "outlinewidth": 0,
             "ticks": ""
            },
            "type": "choropleth"
           }
          ],
          "contour": [
           {
            "colorbar": {
             "outlinewidth": 0,
             "ticks": ""
            },
            "colorscale": [
             [
              0,
              "#0d0887"
             ],
             [
              0.1111111111111111,
              "#46039f"
             ],
             [
              0.2222222222222222,
              "#7201a8"
             ],
             [
              0.3333333333333333,
              "#9c179e"
             ],
             [
              0.4444444444444444,
              "#bd3786"
             ],
             [
              0.5555555555555556,
              "#d8576b"
             ],
             [
              0.6666666666666666,
              "#ed7953"
             ],
             [
              0.7777777777777778,
              "#fb9f3a"
             ],
             [
              0.8888888888888888,
              "#fdca26"
             ],
             [
              1,
              "#f0f921"
             ]
            ],
            "type": "contour"
           }
          ],
          "contourcarpet": [
           {
            "colorbar": {
             "outlinewidth": 0,
             "ticks": ""
            },
            "type": "contourcarpet"
           }
          ],
          "heatmap": [
           {
            "colorbar": {
             "outlinewidth": 0,
             "ticks": ""
            },
            "colorscale": [
             [
              0,
              "#0d0887"
             ],
             [
              0.1111111111111111,
              "#46039f"
             ],
             [
              0.2222222222222222,
              "#7201a8"
             ],
             [
              0.3333333333333333,
              "#9c179e"
             ],
             [
              0.4444444444444444,
              "#bd3786"
             ],
             [
              0.5555555555555556,
              "#d8576b"
             ],
             [
              0.6666666666666666,
              "#ed7953"
             ],
             [
              0.7777777777777778,
              "#fb9f3a"
             ],
             [
              0.8888888888888888,
              "#fdca26"
             ],
             [
              1,
              "#f0f921"
             ]
            ],
            "type": "heatmap"
           }
          ],
          "heatmapgl": [
           {
            "colorbar": {
             "outlinewidth": 0,
             "ticks": ""
            },
            "colorscale": [
             [
              0,
              "#0d0887"
             ],
             [
              0.1111111111111111,
              "#46039f"
             ],
             [
              0.2222222222222222,
              "#7201a8"
             ],
             [
              0.3333333333333333,
              "#9c179e"
             ],
             [
              0.4444444444444444,
              "#bd3786"
             ],
             [
              0.5555555555555556,
              "#d8576b"
             ],
             [
              0.6666666666666666,
              "#ed7953"
             ],
             [
              0.7777777777777778,
              "#fb9f3a"
             ],
             [
              0.8888888888888888,
              "#fdca26"
             ],
             [
              1,
              "#f0f921"
             ]
            ],
            "type": "heatmapgl"
           }
          ],
          "histogram": [
           {
            "marker": {
             "pattern": {
              "fillmode": "overlay",
              "size": 10,
              "solidity": 0.2
             }
            },
            "type": "histogram"
           }
          ],
          "histogram2d": [
           {
            "colorbar": {
             "outlinewidth": 0,
             "ticks": ""
            },
            "colorscale": [
             [
              0,
              "#0d0887"
             ],
             [
              0.1111111111111111,
              "#46039f"
             ],
             [
              0.2222222222222222,
              "#7201a8"
             ],
             [
              0.3333333333333333,
              "#9c179e"
             ],
             [
              0.4444444444444444,
              "#bd3786"
             ],
             [
              0.5555555555555556,
              "#d8576b"
             ],
             [
              0.6666666666666666,
              "#ed7953"
             ],
             [
              0.7777777777777778,
              "#fb9f3a"
             ],
             [
              0.8888888888888888,
              "#fdca26"
             ],
             [
              1,
              "#f0f921"
             ]
            ],
            "type": "histogram2d"
           }
          ],
          "histogram2dcontour": [
           {
            "colorbar": {
             "outlinewidth": 0,
             "ticks": ""
            },
            "colorscale": [
             [
              0,
              "#0d0887"
             ],
             [
              0.1111111111111111,
              "#46039f"
             ],
             [
              0.2222222222222222,
              "#7201a8"
             ],
             [
              0.3333333333333333,
              "#9c179e"
             ],
             [
              0.4444444444444444,
              "#bd3786"
             ],
             [
              0.5555555555555556,
              "#d8576b"
             ],
             [
              0.6666666666666666,
              "#ed7953"
             ],
             [
              0.7777777777777778,
              "#fb9f3a"
             ],
             [
              0.8888888888888888,
              "#fdca26"
             ],
             [
              1,
              "#f0f921"
             ]
            ],
            "type": "histogram2dcontour"
           }
          ],
          "mesh3d": [
           {
            "colorbar": {
             "outlinewidth": 0,
             "ticks": ""
            },
            "type": "mesh3d"
           }
          ],
          "parcoords": [
           {
            "line": {
             "colorbar": {
              "outlinewidth": 0,
              "ticks": ""
             }
            },
            "type": "parcoords"
           }
          ],
          "pie": [
           {
            "automargin": true,
            "type": "pie"
           }
          ],
          "scatter": [
           {
            "fillpattern": {
             "fillmode": "overlay",
             "size": 10,
             "solidity": 0.2
            },
            "type": "scatter"
           }
          ],
          "scatter3d": [
           {
            "line": {
             "colorbar": {
              "outlinewidth": 0,
              "ticks": ""
             }
            },
            "marker": {
             "colorbar": {
              "outlinewidth": 0,
              "ticks": ""
             }
            },
            "type": "scatter3d"
           }
          ],
          "scattercarpet": [
           {
            "marker": {
             "colorbar": {
              "outlinewidth": 0,
              "ticks": ""
             }
            },
            "type": "scattercarpet"
           }
          ],
          "scattergeo": [
           {
            "marker": {
             "colorbar": {
              "outlinewidth": 0,
              "ticks": ""
             }
            },
            "type": "scattergeo"
           }
          ],
          "scattergl": [
           {
            "marker": {
             "colorbar": {
              "outlinewidth": 0,
              "ticks": ""
             }
            },
            "type": "scattergl"
           }
          ],
          "scattermapbox": [
           {
            "marker": {
             "colorbar": {
              "outlinewidth": 0,
              "ticks": ""
             }
            },
            "type": "scattermapbox"
           }
          ],
          "scatterpolar": [
           {
            "marker": {
             "colorbar": {
              "outlinewidth": 0,
              "ticks": ""
             }
            },
            "type": "scatterpolar"
           }
          ],
          "scatterpolargl": [
           {
            "marker": {
             "colorbar": {
              "outlinewidth": 0,
              "ticks": ""
             }
            },
            "type": "scatterpolargl"
           }
          ],
          "scatterternary": [
           {
            "marker": {
             "colorbar": {
              "outlinewidth": 0,
              "ticks": ""
             }
            },
            "type": "scatterternary"
           }
          ],
          "surface": [
           {
            "colorbar": {
             "outlinewidth": 0,
             "ticks": ""
            },
            "colorscale": [
             [
              0,
              "#0d0887"
             ],
             [
              0.1111111111111111,
              "#46039f"
             ],
             [
              0.2222222222222222,
              "#7201a8"
             ],
             [
              0.3333333333333333,
              "#9c179e"
             ],
             [
              0.4444444444444444,
              "#bd3786"
             ],
             [
              0.5555555555555556,
              "#d8576b"
             ],
             [
              0.6666666666666666,
              "#ed7953"
             ],
             [
              0.7777777777777778,
              "#fb9f3a"
             ],
             [
              0.8888888888888888,
              "#fdca26"
             ],
             [
              1,
              "#f0f921"
             ]
            ],
            "type": "surface"
           }
          ],
          "table": [
           {
            "cells": {
             "fill": {
              "color": "#EBF0F8"
             },
             "line": {
              "color": "white"
             }
            },
            "header": {
             "fill": {
              "color": "#C8D4E3"
             },
             "line": {
              "color": "white"
             }
            },
            "type": "table"
           }
          ]
         },
         "layout": {
          "annotationdefaults": {
           "arrowcolor": "#2a3f5f",
           "arrowhead": 0,
           "arrowwidth": 1
          },
          "autotypenumbers": "strict",
          "coloraxis": {
           "colorbar": {
            "outlinewidth": 0,
            "ticks": ""
           }
          },
          "colorscale": {
           "diverging": [
            [
             0,
             "#8e0152"
            ],
            [
             0.1,
             "#c51b7d"
            ],
            [
             0.2,
             "#de77ae"
            ],
            [
             0.3,
             "#f1b6da"
            ],
            [
             0.4,
             "#fde0ef"
            ],
            [
             0.5,
             "#f7f7f7"
            ],
            [
             0.6,
             "#e6f5d0"
            ],
            [
             0.7,
             "#b8e186"
            ],
            [
             0.8,
             "#7fbc41"
            ],
            [
             0.9,
             "#4d9221"
            ],
            [
             1,
             "#276419"
            ]
           ],
           "sequential": [
            [
             0,
             "#0d0887"
            ],
            [
             0.1111111111111111,
             "#46039f"
            ],
            [
             0.2222222222222222,
             "#7201a8"
            ],
            [
             0.3333333333333333,
             "#9c179e"
            ],
            [
             0.4444444444444444,
             "#bd3786"
            ],
            [
             0.5555555555555556,
             "#d8576b"
            ],
            [
             0.6666666666666666,
             "#ed7953"
            ],
            [
             0.7777777777777778,
             "#fb9f3a"
            ],
            [
             0.8888888888888888,
             "#fdca26"
            ],
            [
             1,
             "#f0f921"
            ]
           ],
           "sequentialminus": [
            [
             0,
             "#0d0887"
            ],
            [
             0.1111111111111111,
             "#46039f"
            ],
            [
             0.2222222222222222,
             "#7201a8"
            ],
            [
             0.3333333333333333,
             "#9c179e"
            ],
            [
             0.4444444444444444,
             "#bd3786"
            ],
            [
             0.5555555555555556,
             "#d8576b"
            ],
            [
             0.6666666666666666,
             "#ed7953"
            ],
            [
             0.7777777777777778,
             "#fb9f3a"
            ],
            [
             0.8888888888888888,
             "#fdca26"
            ],
            [
             1,
             "#f0f921"
            ]
           ]
          },
          "colorway": [
           "#636efa",
           "#EF553B",
           "#00cc96",
           "#ab63fa",
           "#FFA15A",
           "#19d3f3",
           "#FF6692",
           "#B6E880",
           "#FF97FF",
           "#FECB52"
          ],
          "font": {
           "color": "#2a3f5f"
          },
          "geo": {
           "bgcolor": "white",
           "lakecolor": "white",
           "landcolor": "#E5ECF6",
           "showlakes": true,
           "showland": true,
           "subunitcolor": "white"
          },
          "hoverlabel": {
           "align": "left"
          },
          "hovermode": "closest",
          "mapbox": {
           "style": "light"
          },
          "paper_bgcolor": "white",
          "plot_bgcolor": "#E5ECF6",
          "polar": {
           "angularaxis": {
            "gridcolor": "white",
            "linecolor": "white",
            "ticks": ""
           },
           "bgcolor": "#E5ECF6",
           "radialaxis": {
            "gridcolor": "white",
            "linecolor": "white",
            "ticks": ""
           }
          },
          "scene": {
           "xaxis": {
            "backgroundcolor": "#E5ECF6",
            "gridcolor": "white",
            "gridwidth": 2,
            "linecolor": "white",
            "showbackground": true,
            "ticks": "",
            "zerolinecolor": "white"
           },
           "yaxis": {
            "backgroundcolor": "#E5ECF6",
            "gridcolor": "white",
            "gridwidth": 2,
            "linecolor": "white",
            "showbackground": true,
            "ticks": "",
            "zerolinecolor": "white"
           },
           "zaxis": {
            "backgroundcolor": "#E5ECF6",
            "gridcolor": "white",
            "gridwidth": 2,
            "linecolor": "white",
            "showbackground": true,
            "ticks": "",
            "zerolinecolor": "white"
           }
          },
          "shapedefaults": {
           "line": {
            "color": "#2a3f5f"
           }
          },
          "ternary": {
           "aaxis": {
            "gridcolor": "white",
            "linecolor": "white",
            "ticks": ""
           },
           "baxis": {
            "gridcolor": "white",
            "linecolor": "white",
            "ticks": ""
           },
           "bgcolor": "#E5ECF6",
           "caxis": {
            "gridcolor": "white",
            "linecolor": "white",
            "ticks": ""
           }
          },
          "title": {
           "x": 0.05
          },
          "xaxis": {
           "automargin": true,
           "gridcolor": "white",
           "linecolor": "white",
           "ticks": "",
           "title": {
            "standoff": 15
           },
           "zerolinecolor": "white",
           "zerolinewidth": 2
          },
          "yaxis": {
           "automargin": true,
           "gridcolor": "white",
           "linecolor": "white",
           "ticks": "",
           "title": {
            "standoff": 15
           },
           "zerolinecolor": "white",
           "zerolinewidth": 2
          }
         }
        },
        "xaxis": {
         "anchor": "y",
         "domain": [
          0,
          1
         ],
         "title": {
          "text": "event_type"
         }
        },
        "yaxis": {
         "anchor": "x",
         "domain": [
          0,
          1
         ],
         "title": {
          "text": "CNT"
         }
        }
       }
      }
     },
     "metadata": {},
     "output_type": "display_data"
    }
   ],
   "source": [
    "fig = px.funnel(data_frame= df_funnel, x = 'event_type', y = 'CNT')\n",
    "fig.update_traces(texttemplate= '%{value:,.0f}') # 숫자 형식 지정\n",
    "fig.show()"
   ]
  },
  {
   "cell_type": "markdown",
   "metadata": {},
   "source": [
    "# 3. RETENTION(리텐션)"
   ]
  },
  {
   "cell_type": "markdown",
   "metadata": {},
   "source": [
    "## 1) Monthly Retention\n",
    "    - 접속 했는지 여부"
   ]
  },
  {
   "cell_type": "markdown",
   "metadata": {},
   "source": [
    "### 월간 리텐션 쿼리"
   ]
  },
  {
   "cell_type": "code",
   "execution_count": 26,
   "metadata": {},
   "outputs": [],
   "source": [
    "retention_range_30 = spark.sql(\"\"\"\n",
    "                               WITH first as (\n",
    "                                    SELECT user_id, MIN(event_time) AS first_interaction_time\n",
    "                                    FROM ecommerce\n",
    "                                    GROUP BY user_id\n",
    "                                )\n",
    "\n",
    "                                SELECT MONTH(first_interaction_time) AS MONTH, FLOOR(MONTHS_BETWEEN(event_time, first_interaction_time)) AS diff_month,\n",
    "                                COUNT(DISTINCT s.user_id) as user_cnt\n",
    "                                FROM ecommerce s LEFT JOIN first f\n",
    "                                ON s.user_id = f.user_id\n",
    "                                GROUP BY MONTH, FLOOR(MONTHS_BETWEEN(event_time, first_interaction_time))\n",
    "                                ORDER BY diff_month\n",
    "\n",
    "                          \"\"\")\n"
   ]
  },
  {
   "cell_type": "code",
   "execution_count": 27,
   "metadata": {},
   "outputs": [
    {
     "name": "stdout",
     "output_type": "stream",
     "text": [
      "+-----+----------+--------+\n",
      "|MONTH|diff_month|user_cnt|\n",
      "+-----+----------+--------+\n",
      "|   11|         0| 2294808|\n",
      "|    1|         0| 2152155|\n",
      "|    4|         0| 2100242|\n",
      "|   12|         0| 2534092|\n",
      "|   10|         0| 3003621|\n",
      "|    3|         0| 1692773|\n",
      "|    2|         0| 1841332|\n",
      "|    5|         0|   20780|\n",
      "|   12|         1|  546728|\n",
      "|    3|         1|  221144|\n",
      "|   10|         1| 1274245|\n",
      "|    4|         1|     353|\n",
      "|    1|         1|  414526|\n",
      "|    2|         1|  283300|\n",
      "|   11|         1|  722024|\n",
      "|   12|         2|  451912|\n",
      "|   11|         2|  570435|\n",
      "|    2|         2|  191446|\n",
      "|    3|         2|     240|\n",
      "|   10|         2| 1141914|\n",
      "+-----+----------+--------+\n",
      "only showing top 20 rows\n",
      "\n"
     ]
    }
   ],
   "source": [
    "retention_range_30.show()"
   ]
  },
  {
   "cell_type": "markdown",
   "metadata": {},
   "source": [
    "### pandas, pivot 전환"
   ]
  },
  {
   "cell_type": "code",
   "execution_count": 28,
   "metadata": {},
   "outputs": [],
   "source": [
    "df_retention_30 = retention_range_30.toPandas()"
   ]
  },
  {
   "cell_type": "code",
   "execution_count": 29,
   "metadata": {},
   "outputs": [],
   "source": [
    "df_retention_30_pivot = df_retention_30.pivot(index='MONTH',columns='diff_month',values='user_cnt').reindex([10,11,12,1,2,3,4])"
   ]
  },
  {
   "cell_type": "code",
   "execution_count": 30,
   "metadata": {},
   "outputs": [
    {
     "data": {
      "text/html": [
       "<div>\n",
       "<style scoped>\n",
       "    .dataframe tbody tr th:only-of-type {\n",
       "        vertical-align: middle;\n",
       "    }\n",
       "\n",
       "    .dataframe tbody tr th {\n",
       "        vertical-align: top;\n",
       "    }\n",
       "\n",
       "    .dataframe thead th {\n",
       "        text-align: right;\n",
       "    }\n",
       "</style>\n",
       "<table border=\"1\" class=\"dataframe\">\n",
       "  <thead>\n",
       "    <tr style=\"text-align: right;\">\n",
       "      <th>diff_month</th>\n",
       "      <th>0</th>\n",
       "      <th>1</th>\n",
       "      <th>2</th>\n",
       "      <th>3</th>\n",
       "      <th>4</th>\n",
       "      <th>5</th>\n",
       "      <th>6</th>\n",
       "      <th>7</th>\n",
       "    </tr>\n",
       "    <tr>\n",
       "      <th>MONTH</th>\n",
       "      <th></th>\n",
       "      <th></th>\n",
       "      <th></th>\n",
       "      <th></th>\n",
       "      <th></th>\n",
       "      <th></th>\n",
       "      <th></th>\n",
       "      <th></th>\n",
       "    </tr>\n",
       "  </thead>\n",
       "  <tbody>\n",
       "    <tr>\n",
       "      <th>10</th>\n",
       "      <td>3003621.0</td>\n",
       "      <td>1274245.0</td>\n",
       "      <td>1141914.0</td>\n",
       "      <td>952834.0</td>\n",
       "      <td>853271.0</td>\n",
       "      <td>720473.0</td>\n",
       "      <td>546060.0</td>\n",
       "      <td>2378.0</td>\n",
       "    </tr>\n",
       "    <tr>\n",
       "      <th>11</th>\n",
       "      <td>2294808.0</td>\n",
       "      <td>722024.0</td>\n",
       "      <td>570435.0</td>\n",
       "      <td>501031.0</td>\n",
       "      <td>399245.0</td>\n",
       "      <td>291355.0</td>\n",
       "      <td>471.0</td>\n",
       "      <td>NaN</td>\n",
       "    </tr>\n",
       "    <tr>\n",
       "      <th>12</th>\n",
       "      <td>2534092.0</td>\n",
       "      <td>546728.0</td>\n",
       "      <td>451912.0</td>\n",
       "      <td>336531.0</td>\n",
       "      <td>214911.0</td>\n",
       "      <td>313.0</td>\n",
       "      <td>NaN</td>\n",
       "      <td>NaN</td>\n",
       "    </tr>\n",
       "    <tr>\n",
       "      <th>1</th>\n",
       "      <td>2152155.0</td>\n",
       "      <td>414526.0</td>\n",
       "      <td>285484.0</td>\n",
       "      <td>191246.0</td>\n",
       "      <td>245.0</td>\n",
       "      <td>NaN</td>\n",
       "      <td>NaN</td>\n",
       "      <td>NaN</td>\n",
       "    </tr>\n",
       "    <tr>\n",
       "      <th>2</th>\n",
       "      <td>1841332.0</td>\n",
       "      <td>283300.0</td>\n",
       "      <td>191446.0</td>\n",
       "      <td>314.0</td>\n",
       "      <td>NaN</td>\n",
       "      <td>NaN</td>\n",
       "      <td>NaN</td>\n",
       "      <td>NaN</td>\n",
       "    </tr>\n",
       "    <tr>\n",
       "      <th>3</th>\n",
       "      <td>1692773.0</td>\n",
       "      <td>221144.0</td>\n",
       "      <td>240.0</td>\n",
       "      <td>NaN</td>\n",
       "      <td>NaN</td>\n",
       "      <td>NaN</td>\n",
       "      <td>NaN</td>\n",
       "      <td>NaN</td>\n",
       "    </tr>\n",
       "    <tr>\n",
       "      <th>4</th>\n",
       "      <td>2100242.0</td>\n",
       "      <td>353.0</td>\n",
       "      <td>NaN</td>\n",
       "      <td>NaN</td>\n",
       "      <td>NaN</td>\n",
       "      <td>NaN</td>\n",
       "      <td>NaN</td>\n",
       "      <td>NaN</td>\n",
       "    </tr>\n",
       "  </tbody>\n",
       "</table>\n",
       "</div>"
      ],
      "text/plain": [
       "diff_month          0          1          2         3         4         5  \\\n",
       "MONTH                                                                       \n",
       "10          3003621.0  1274245.0  1141914.0  952834.0  853271.0  720473.0   \n",
       "11          2294808.0   722024.0   570435.0  501031.0  399245.0  291355.0   \n",
       "12          2534092.0   546728.0   451912.0  336531.0  214911.0     313.0   \n",
       "1           2152155.0   414526.0   285484.0  191246.0     245.0       NaN   \n",
       "2           1841332.0   283300.0   191446.0     314.0       NaN       NaN   \n",
       "3           1692773.0   221144.0      240.0       NaN       NaN       NaN   \n",
       "4           2100242.0      353.0        NaN       NaN       NaN       NaN   \n",
       "\n",
       "diff_month         6       7  \n",
       "MONTH                         \n",
       "10          546060.0  2378.0  \n",
       "11             471.0     NaN  \n",
       "12               NaN     NaN  \n",
       "1                NaN     NaN  \n",
       "2                NaN     NaN  \n",
       "3                NaN     NaN  \n",
       "4                NaN     NaN  "
      ]
     },
     "execution_count": 30,
     "metadata": {},
     "output_type": "execute_result"
    }
   ],
   "source": [
    "df_retention_30_pivot"
   ]
  },
  {
   "cell_type": "markdown",
   "metadata": {},
   "source": [
    "### value 비율로 변환"
   ]
  },
  {
   "cell_type": "code",
   "execution_count": 31,
   "metadata": {},
   "outputs": [],
   "source": [
    "for i in range(len(df_retention_30_pivot)):\n",
    "    a = df_retention_30_pivot.iloc[i,0]\n",
    "    for j in range(len(df_retention_30_pivot.columns)):\n",
    "        if df_retention_30_pivot.isnull().iloc[i,j]:\n",
    "            pass\n",
    "        else:\n",
    "            df_retention_30_pivot.iloc[i,j] = round(df_retention_30_pivot.iloc[i,j] / a, 4)\n"
   ]
  },
  {
   "cell_type": "code",
   "execution_count": 32,
   "metadata": {},
   "outputs": [],
   "source": [
    "df_retention_30_pivot.to_csv(\"월간리텐션.csv\", index=False)"
   ]
  },
  {
   "cell_type": "markdown",
   "metadata": {},
   "source": [
    "### 월간 리텐션 그래프"
   ]
  },
  {
   "cell_type": "code",
   "execution_count": 47,
   "metadata": {},
   "outputs": [
    {
     "data": {
      "text/plain": [
       "<Axes: xlabel='diff_month', ylabel='MONTH'>"
      ]
     },
     "execution_count": 47,
     "metadata": {},
     "output_type": "execute_result"
    },
    {
     "data": {
      "image/png": "[encoded data removed]",
      "text/plain": [
       "<Figure size 640x480 with 2 Axes>"
      ]
     },
     "metadata": {},
     "output_type": "display_data"
    }
   ],
   "source": [
    "\n",
    "sns.heatmap(df_retention_30_pivot, annot=True, fmt=\".3f\", cmap = 'Blues')"
   ]
  },
  {
   "cell_type": "markdown",
   "metadata": {},
   "source": [
    "[문제를 찾자]\n",
    "전반적으로 10, 11월 retention 좋음\n",
    "\n",
    "1~3월 폭망\n",
    "\n",
    "그 이유는 무엇일까???\n",
    "\n",
    "Q1.전체적인 건수가 줄어서???\n",
    "그럼 왜 줄어 들었을까????\n",
    "\n",
    "단순히 연초라서????\n",
    "Q2.연말에 폭풍 소비 후 연초에 살 필요성이 없음????\n",
    "\n",
    "아니면 제품군?????\n",
    "EX. 컴퓨터나 장기간 사용할 물건을 구매해서 다시 들어갈 일이 생기지 않았나???\n",
    "--> 블랙프레이데이를 이용해서 저런 것들을 구매 후 재방문으로는 이어지지 않았나???\n",
    "\n",
    "\n"
   ]
  },
  {
   "cell_type": "markdown",
   "metadata": {},
   "source": [
    "## 2) Weekly Retention"
   ]
  },
  {
   "cell_type": "markdown",
   "metadata": {},
   "source": [
    "### 주간 리텐션 쿼리"
   ]
  },
  {
   "cell_type": "code",
   "execution_count": 34,
   "metadata": {},
   "outputs": [],
   "source": [
    "retention_range_7 = spark.sql(\"\"\"\n",
    "                               WITH first as (\n",
    "                                    SELECT user_id, MIN(event_time) AS first_interaction_time\n",
    "                                    FROM ecommerce\n",
    "                                    GROUP BY user_id\n",
    "                                )\n",
    "                                SELECT DATE(DATE_TRUNC('week',first_interaction_time)) AS WEEK, \n",
    "                                CAST(DATEDIFF(s.event_time, f.first_interaction_time) / 7 AS INT) AS diff_week,\n",
    "                                COUNT(DISTINCT s.user_id) as user_cnt\n",
    "                                FROM ecommerce s LEFT JOIN first f\n",
    "                                ON s.user_id = f.user_id\n",
    "                                GROUP BY WEEK, diff_week\n",
    "                                ORDER BY diff_week\n",
    "\n",
    "                          \"\"\")\n"
   ]
  },
  {
   "cell_type": "code",
   "execution_count": 35,
   "metadata": {},
   "outputs": [
    {
     "name": "stdout",
     "output_type": "stream",
     "text": [
      "+----------+---------+--------+\n",
      "|      WEEK|diff_week|user_cnt|\n",
      "+----------+---------+--------+\n",
      "|2019-12-23|        0|  663936|\n",
      "|2020-01-13|        0|  513541|\n",
      "|2020-02-17|        0|  541865|\n",
      "|2019-09-30|        0|  818388|\n",
      "|2020-02-24|        0|  383602|\n",
      "|2020-03-23|        0|  261293|\n",
      "|2020-03-16|        0|  263913|\n",
      "|2020-01-06|        0|  490528|\n",
      "|2019-12-30|        0|  614861|\n",
      "|2020-03-30|        0|  305555|\n",
      "|2020-04-20|        0|  566769|\n",
      "|2019-11-25|        0|  437714|\n",
      "|2019-10-14|        0|  617645|\n",
      "|2020-04-06|        0|  421139|\n",
      "|2019-11-18|        0|  551204|\n",
      "|2019-12-09|        0|  517199|\n",
      "|2020-01-20|        0|  461124|\n",
      "|2020-04-13|        0|  569921|\n",
      "|2019-12-16|        0|  637462|\n",
      "|2020-02-10|        0|  484614|\n",
      "+----------+---------+--------+\n",
      "only showing top 20 rows\n",
      "\n"
     ]
    }
   ],
   "source": [
    "retention_range_7.show()"
   ]
  },
  {
   "cell_type": "markdown",
   "metadata": {},
   "source": [
    "### pandas, pivot 전환"
   ]
  },
  {
   "cell_type": "code",
   "execution_count": 36,
   "metadata": {},
   "outputs": [],
   "source": [
    "df_retention_7 = retention_range_7.toPandas()"
   ]
  },
  {
   "cell_type": "code",
   "execution_count": 37,
   "metadata": {},
   "outputs": [
    {
     "data": {
      "text/html": [
       "<div>\n",
       "<style scoped>\n",
       "    .dataframe tbody tr th:only-of-type {\n",
       "        vertical-align: middle;\n",
       "    }\n",
       "\n",
       "    .dataframe tbody tr th {\n",
       "        vertical-align: top;\n",
       "    }\n",
       "\n",
       "    .dataframe thead th {\n",
       "        text-align: right;\n",
       "    }\n",
       "</style>\n",
       "<table border=\"1\" class=\"dataframe\">\n",
       "  <thead>\n",
       "    <tr style=\"text-align: right;\">\n",
       "      <th></th>\n",
       "      <th>WEEK</th>\n",
       "      <th>diff_week</th>\n",
       "      <th>user_cnt</th>\n",
       "    </tr>\n",
       "  </thead>\n",
       "  <tbody>\n",
       "    <tr>\n",
       "      <th>4</th>\n",
       "      <td>2019-09-30</td>\n",
       "      <td>0</td>\n",
       "      <td>818388</td>\n",
       "    </tr>\n",
       "    <tr>\n",
       "      <th>34</th>\n",
       "      <td>2019-09-30</td>\n",
       "      <td>1</td>\n",
       "      <td>277762</td>\n",
       "    </tr>\n",
       "    <tr>\n",
       "      <th>79</th>\n",
       "      <td>2019-09-30</td>\n",
       "      <td>2</td>\n",
       "      <td>249026</td>\n",
       "    </tr>\n",
       "    <tr>\n",
       "      <th>105</th>\n",
       "      <td>2019-09-30</td>\n",
       "      <td>3</td>\n",
       "      <td>217328</td>\n",
       "    </tr>\n",
       "    <tr>\n",
       "      <th>132</th>\n",
       "      <td>2019-09-30</td>\n",
       "      <td>4</td>\n",
       "      <td>237233</td>\n",
       "    </tr>\n",
       "    <tr>\n",
       "      <th>...</th>\n",
       "      <td>...</td>\n",
       "      <td>...</td>\n",
       "      <td>...</td>\n",
       "    </tr>\n",
       "    <tr>\n",
       "      <th>51</th>\n",
       "      <td>2020-04-13</td>\n",
       "      <td>1</td>\n",
       "      <td>88037</td>\n",
       "    </tr>\n",
       "    <tr>\n",
       "      <th>72</th>\n",
       "      <td>2020-04-13</td>\n",
       "      <td>2</td>\n",
       "      <td>23189</td>\n",
       "    </tr>\n",
       "    <tr>\n",
       "      <th>10</th>\n",
       "      <td>2020-04-20</td>\n",
       "      <td>0</td>\n",
       "      <td>566769</td>\n",
       "    </tr>\n",
       "    <tr>\n",
       "      <th>43</th>\n",
       "      <td>2020-04-20</td>\n",
       "      <td>1</td>\n",
       "      <td>25032</td>\n",
       "    </tr>\n",
       "    <tr>\n",
       "      <th>20</th>\n",
       "      <td>2020-04-27</td>\n",
       "      <td>0</td>\n",
       "      <td>329410</td>\n",
       "    </tr>\n",
       "  </tbody>\n",
       "</table>\n",
       "<p>496 rows × 3 columns</p>\n",
       "</div>"
      ],
      "text/plain": [
       "           WEEK  diff_week  user_cnt\n",
       "4    2019-09-30          0    818388\n",
       "34   2019-09-30          1    277762\n",
       "79   2019-09-30          2    249026\n",
       "105  2019-09-30          3    217328\n",
       "132  2019-09-30          4    237233\n",
       "..          ...        ...       ...\n",
       "51   2020-04-13          1     88037\n",
       "72   2020-04-13          2     23189\n",
       "10   2020-04-20          0    566769\n",
       "43   2020-04-20          1     25032\n",
       "20   2020-04-27          0    329410\n",
       "\n",
       "[496 rows x 3 columns]"
      ]
     },
     "execution_count": 37,
     "metadata": {},
     "output_type": "execute_result"
    }
   ],
   "source": [
    "df_retention_7.sort_values(by=['WEEK','diff_week'])"
   ]
  },
  {
   "cell_type": "code",
   "execution_count": 38,
   "metadata": {},
   "outputs": [],
   "source": [
    "df_retention_7_pivot = df_retention_7.pivot(index='WEEK',columns='diff_week',values='user_cnt')"
   ]
  },
  {
   "cell_type": "code",
   "execution_count": 39,
   "metadata": {},
   "outputs": [
    {
     "data": {
      "text/html": [
       "<div>\n",
       "<style scoped>\n",
       "    .dataframe tbody tr th:only-of-type {\n",
       "        vertical-align: middle;\n",
       "    }\n",
       "\n",
       "    .dataframe tbody tr th {\n",
       "        vertical-align: top;\n",
       "    }\n",
       "\n",
       "    .dataframe thead th {\n",
       "        text-align: right;\n",
       "    }\n",
       "</style>\n",
       "<table border=\"1\" class=\"dataframe\">\n",
       "  <thead>\n",
       "    <tr style=\"text-align: right;\">\n",
       "      <th>diff_week</th>\n",
       "      <th>0</th>\n",
       "      <th>1</th>\n",
       "      <th>2</th>\n",
       "      <th>3</th>\n",
       "      <th>4</th>\n",
       "      <th>5</th>\n",
       "      <th>6</th>\n",
       "      <th>7</th>\n",
       "      <th>8</th>\n",
       "      <th>9</th>\n",
       "      <th>...</th>\n",
       "      <th>21</th>\n",
       "      <th>22</th>\n",
       "      <th>23</th>\n",
       "      <th>24</th>\n",
       "      <th>25</th>\n",
       "      <th>26</th>\n",
       "      <th>27</th>\n",
       "      <th>28</th>\n",
       "      <th>29</th>\n",
       "      <th>30</th>\n",
       "    </tr>\n",
       "    <tr>\n",
       "      <th>WEEK</th>\n",
       "      <th></th>\n",
       "      <th></th>\n",
       "      <th></th>\n",
       "      <th></th>\n",
       "      <th></th>\n",
       "      <th></th>\n",
       "      <th></th>\n",
       "      <th></th>\n",
       "      <th></th>\n",
       "      <th></th>\n",
       "      <th></th>\n",
       "      <th></th>\n",
       "      <th></th>\n",
       "      <th></th>\n",
       "      <th></th>\n",
       "      <th></th>\n",
       "      <th></th>\n",
       "      <th></th>\n",
       "      <th></th>\n",
       "      <th></th>\n",
       "      <th></th>\n",
       "    </tr>\n",
       "  </thead>\n",
       "  <tbody>\n",
       "    <tr>\n",
       "      <th>2019-09-30</th>\n",
       "      <td>818388.0</td>\n",
       "      <td>277762.0</td>\n",
       "      <td>249026.0</td>\n",
       "      <td>217328.0</td>\n",
       "      <td>237233.0</td>\n",
       "      <td>237564.0</td>\n",
       "      <td>254368.0</td>\n",
       "      <td>189930.0</td>\n",
       "      <td>189973.0</td>\n",
       "      <td>182434.0</td>\n",
       "      <td>...</td>\n",
       "      <td>129174.0</td>\n",
       "      <td>144455.0</td>\n",
       "      <td>111112.0</td>\n",
       "      <td>100627.0</td>\n",
       "      <td>96393.0</td>\n",
       "      <td>97721.0</td>\n",
       "      <td>109433.0</td>\n",
       "      <td>116705.0</td>\n",
       "      <td>114075.0</td>\n",
       "      <td>34374.0</td>\n",
       "    </tr>\n",
       "    <tr>\n",
       "      <th>2019-10-07</th>\n",
       "      <td>762779.0</td>\n",
       "      <td>189777.0</td>\n",
       "      <td>158667.0</td>\n",
       "      <td>170302.0</td>\n",
       "      <td>177742.0</td>\n",
       "      <td>191278.0</td>\n",
       "      <td>139484.0</td>\n",
       "      <td>137583.0</td>\n",
       "      <td>132855.0</td>\n",
       "      <td>149478.0</td>\n",
       "      <td>...</td>\n",
       "      <td>108647.0</td>\n",
       "      <td>81747.0</td>\n",
       "      <td>71675.0</td>\n",
       "      <td>69064.0</td>\n",
       "      <td>70776.0</td>\n",
       "      <td>81816.0</td>\n",
       "      <td>88823.0</td>\n",
       "      <td>86552.0</td>\n",
       "      <td>29230.0</td>\n",
       "      <td>NaN</td>\n",
       "    </tr>\n",
       "    <tr>\n",
       "      <th>2019-10-14</th>\n",
       "      <td>617645.0</td>\n",
       "      <td>121323.0</td>\n",
       "      <td>122805.0</td>\n",
       "      <td>127420.0</td>\n",
       "      <td>138418.0</td>\n",
       "      <td>97092.0</td>\n",
       "      <td>95831.0</td>\n",
       "      <td>92950.0</td>\n",
       "      <td>105064.0</td>\n",
       "      <td>111131.0</td>\n",
       "      <td>...</td>\n",
       "      <td>55967.0</td>\n",
       "      <td>48729.0</td>\n",
       "      <td>47201.0</td>\n",
       "      <td>48838.0</td>\n",
       "      <td>56794.0</td>\n",
       "      <td>62710.0</td>\n",
       "      <td>61121.0</td>\n",
       "      <td>19997.0</td>\n",
       "      <td>NaN</td>\n",
       "      <td>NaN</td>\n",
       "    </tr>\n",
       "    <tr>\n",
       "      <th>2019-10-21</th>\n",
       "      <td>552380.0</td>\n",
       "      <td>100164.0</td>\n",
       "      <td>99091.0</td>\n",
       "      <td>103100.0</td>\n",
       "      <td>75901.0</td>\n",
       "      <td>71711.0</td>\n",
       "      <td>68842.0</td>\n",
       "      <td>78667.0</td>\n",
       "      <td>84997.0</td>\n",
       "      <td>75264.0</td>\n",
       "      <td>...</td>\n",
       "      <td>34923.0</td>\n",
       "      <td>33922.0</td>\n",
       "      <td>35402.0</td>\n",
       "      <td>42027.0</td>\n",
       "      <td>46786.0</td>\n",
       "      <td>46210.0</td>\n",
       "      <td>15310.0</td>\n",
       "      <td>NaN</td>\n",
       "      <td>NaN</td>\n",
       "      <td>NaN</td>\n",
       "    </tr>\n",
       "    <tr>\n",
       "      <th>2019-10-28</th>\n",
       "      <td>462835.0</td>\n",
       "      <td>91026.0</td>\n",
       "      <td>89511.0</td>\n",
       "      <td>63843.0</td>\n",
       "      <td>61109.0</td>\n",
       "      <td>58487.0</td>\n",
       "      <td>66737.0</td>\n",
       "      <td>69131.0</td>\n",
       "      <td>61277.0</td>\n",
       "      <td>51279.0</td>\n",
       "      <td>...</td>\n",
       "      <td>28532.0</td>\n",
       "      <td>29863.0</td>\n",
       "      <td>35053.0</td>\n",
       "      <td>38537.0</td>\n",
       "      <td>37522.0</td>\n",
       "      <td>10780.0</td>\n",
       "      <td>NaN</td>\n",
       "      <td>NaN</td>\n",
       "      <td>NaN</td>\n",
       "      <td>NaN</td>\n",
       "    </tr>\n",
       "    <tr>\n",
       "      <th>2019-11-04</th>\n",
       "      <td>564746.0</td>\n",
       "      <td>124909.0</td>\n",
       "      <td>83590.0</td>\n",
       "      <td>77329.0</td>\n",
       "      <td>74211.0</td>\n",
       "      <td>81056.0</td>\n",
       "      <td>86185.0</td>\n",
       "      <td>74464.0</td>\n",
       "      <td>62020.0</td>\n",
       "      <td>57031.0</td>\n",
       "      <td>...</td>\n",
       "      <td>35716.0</td>\n",
       "      <td>41833.0</td>\n",
       "      <td>46398.0</td>\n",
       "      <td>45374.0</td>\n",
       "      <td>14100.0</td>\n",
       "      <td>NaN</td>\n",
       "      <td>NaN</td>\n",
       "      <td>NaN</td>\n",
       "      <td>NaN</td>\n",
       "      <td>NaN</td>\n",
       "    </tr>\n",
       "    <tr>\n",
       "      <th>2019-11-11</th>\n",
       "      <td>592037.0</td>\n",
       "      <td>102670.0</td>\n",
       "      <td>90169.0</td>\n",
       "      <td>82371.0</td>\n",
       "      <td>94816.0</td>\n",
       "      <td>93315.0</td>\n",
       "      <td>80111.0</td>\n",
       "      <td>64344.0</td>\n",
       "      <td>61188.0</td>\n",
       "      <td>64710.0</td>\n",
       "      <td>...</td>\n",
       "      <td>46411.0</td>\n",
       "      <td>50524.0</td>\n",
       "      <td>48139.0</td>\n",
       "      <td>12360.0</td>\n",
       "      <td>NaN</td>\n",
       "      <td>NaN</td>\n",
       "      <td>NaN</td>\n",
       "      <td>NaN</td>\n",
       "      <td>NaN</td>\n",
       "      <td>NaN</td>\n",
       "    </tr>\n",
       "    <tr>\n",
       "      <th>2019-11-18</th>\n",
       "      <td>551204.0</td>\n",
       "      <td>76492.0</td>\n",
       "      <td>67458.0</td>\n",
       "      <td>69977.0</td>\n",
       "      <td>72175.0</td>\n",
       "      <td>64730.0</td>\n",
       "      <td>52953.0</td>\n",
       "      <td>47623.0</td>\n",
       "      <td>50400.0</td>\n",
       "      <td>44158.0</td>\n",
       "      <td>...</td>\n",
       "      <td>32384.0</td>\n",
       "      <td>32671.0</td>\n",
       "      <td>10372.0</td>\n",
       "      <td>NaN</td>\n",
       "      <td>NaN</td>\n",
       "      <td>NaN</td>\n",
       "      <td>NaN</td>\n",
       "      <td>NaN</td>\n",
       "      <td>NaN</td>\n",
       "      <td>NaN</td>\n",
       "    </tr>\n",
       "    <tr>\n",
       "      <th>2019-11-25</th>\n",
       "      <td>437714.0</td>\n",
       "      <td>66363.0</td>\n",
       "      <td>63482.0</td>\n",
       "      <td>61671.0</td>\n",
       "      <td>54092.0</td>\n",
       "      <td>44019.0</td>\n",
       "      <td>39915.0</td>\n",
       "      <td>40491.0</td>\n",
       "      <td>36213.0</td>\n",
       "      <td>36987.0</td>\n",
       "      <td>...</td>\n",
       "      <td>27940.0</td>\n",
       "      <td>8283.0</td>\n",
       "      <td>NaN</td>\n",
       "      <td>NaN</td>\n",
       "      <td>NaN</td>\n",
       "      <td>NaN</td>\n",
       "      <td>NaN</td>\n",
       "      <td>NaN</td>\n",
       "      <td>NaN</td>\n",
       "      <td>NaN</td>\n",
       "    </tr>\n",
       "    <tr>\n",
       "      <th>2019-12-02</th>\n",
       "      <td>420888.0</td>\n",
       "      <td>69569.0</td>\n",
       "      <td>63035.0</td>\n",
       "      <td>52560.0</td>\n",
       "      <td>43931.0</td>\n",
       "      <td>38909.0</td>\n",
       "      <td>38484.0</td>\n",
       "      <td>34364.0</td>\n",
       "      <td>35333.0</td>\n",
       "      <td>34585.0</td>\n",
       "      <td>...</td>\n",
       "      <td>8070.0</td>\n",
       "      <td>NaN</td>\n",
       "      <td>NaN</td>\n",
       "      <td>NaN</td>\n",
       "      <td>NaN</td>\n",
       "      <td>NaN</td>\n",
       "      <td>NaN</td>\n",
       "      <td>NaN</td>\n",
       "      <td>NaN</td>\n",
       "      <td>NaN</td>\n",
       "    </tr>\n",
       "    <tr>\n",
       "      <th>2019-12-09</th>\n",
       "      <td>517199.0</td>\n",
       "      <td>80627.0</td>\n",
       "      <td>65260.0</td>\n",
       "      <td>52545.0</td>\n",
       "      <td>46206.0</td>\n",
       "      <td>45810.0</td>\n",
       "      <td>38819.0</td>\n",
       "      <td>38007.0</td>\n",
       "      <td>37360.0</td>\n",
       "      <td>41287.0</td>\n",
       "      <td>...</td>\n",
       "      <td>NaN</td>\n",
       "      <td>NaN</td>\n",
       "      <td>NaN</td>\n",
       "      <td>NaN</td>\n",
       "      <td>NaN</td>\n",
       "      <td>NaN</td>\n",
       "      <td>NaN</td>\n",
       "      <td>NaN</td>\n",
       "      <td>NaN</td>\n",
       "      <td>NaN</td>\n",
       "    </tr>\n",
       "    <tr>\n",
       "      <th>2019-12-16</th>\n",
       "      <td>637462.0</td>\n",
       "      <td>95003.0</td>\n",
       "      <td>71299.0</td>\n",
       "      <td>59772.0</td>\n",
       "      <td>60910.0</td>\n",
       "      <td>50468.0</td>\n",
       "      <td>49298.0</td>\n",
       "      <td>46329.0</td>\n",
       "      <td>52067.0</td>\n",
       "      <td>45723.0</td>\n",
       "      <td>...</td>\n",
       "      <td>NaN</td>\n",
       "      <td>NaN</td>\n",
       "      <td>NaN</td>\n",
       "      <td>NaN</td>\n",
       "      <td>NaN</td>\n",
       "      <td>NaN</td>\n",
       "      <td>NaN</td>\n",
       "      <td>NaN</td>\n",
       "      <td>NaN</td>\n",
       "      <td>NaN</td>\n",
       "    </tr>\n",
       "    <tr>\n",
       "      <th>2019-12-23</th>\n",
       "      <td>663936.0</td>\n",
       "      <td>81939.0</td>\n",
       "      <td>63649.0</td>\n",
       "      <td>62084.0</td>\n",
       "      <td>51109.0</td>\n",
       "      <td>48616.0</td>\n",
       "      <td>44466.0</td>\n",
       "      <td>51322.0</td>\n",
       "      <td>47483.0</td>\n",
       "      <td>42646.0</td>\n",
       "      <td>...</td>\n",
       "      <td>NaN</td>\n",
       "      <td>NaN</td>\n",
       "      <td>NaN</td>\n",
       "      <td>NaN</td>\n",
       "      <td>NaN</td>\n",
       "      <td>NaN</td>\n",
       "      <td>NaN</td>\n",
       "      <td>NaN</td>\n",
       "      <td>NaN</td>\n",
       "      <td>NaN</td>\n",
       "    </tr>\n",
       "    <tr>\n",
       "      <th>2019-12-30</th>\n",
       "      <td>614861.0</td>\n",
       "      <td>70492.0</td>\n",
       "      <td>62267.0</td>\n",
       "      <td>49710.0</td>\n",
       "      <td>46036.0</td>\n",
       "      <td>40291.0</td>\n",
       "      <td>45230.0</td>\n",
       "      <td>41131.0</td>\n",
       "      <td>37269.0</td>\n",
       "      <td>44799.0</td>\n",
       "      <td>...</td>\n",
       "      <td>NaN</td>\n",
       "      <td>NaN</td>\n",
       "      <td>NaN</td>\n",
       "      <td>NaN</td>\n",
       "      <td>NaN</td>\n",
       "      <td>NaN</td>\n",
       "      <td>NaN</td>\n",
       "      <td>NaN</td>\n",
       "      <td>NaN</td>\n",
       "      <td>NaN</td>\n",
       "    </tr>\n",
       "    <tr>\n",
       "      <th>2020-01-06</th>\n",
       "      <td>490528.0</td>\n",
       "      <td>63161.0</td>\n",
       "      <td>47347.0</td>\n",
       "      <td>42658.0</td>\n",
       "      <td>39541.0</td>\n",
       "      <td>40874.0</td>\n",
       "      <td>35671.0</td>\n",
       "      <td>33644.0</td>\n",
       "      <td>38034.0</td>\n",
       "      <td>24434.0</td>\n",
       "      <td>...</td>\n",
       "      <td>NaN</td>\n",
       "      <td>NaN</td>\n",
       "      <td>NaN</td>\n",
       "      <td>NaN</td>\n",
       "      <td>NaN</td>\n",
       "      <td>NaN</td>\n",
       "      <td>NaN</td>\n",
       "      <td>NaN</td>\n",
       "      <td>NaN</td>\n",
       "      <td>NaN</td>\n",
       "    </tr>\n",
       "    <tr>\n",
       "      <th>2020-01-13</th>\n",
       "      <td>513541.0</td>\n",
       "      <td>60949.0</td>\n",
       "      <td>49793.0</td>\n",
       "      <td>45394.0</td>\n",
       "      <td>48029.0</td>\n",
       "      <td>40147.0</td>\n",
       "      <td>37676.0</td>\n",
       "      <td>41906.0</td>\n",
       "      <td>25940.0</td>\n",
       "      <td>20062.0</td>\n",
       "      <td>...</td>\n",
       "      <td>NaN</td>\n",
       "      <td>NaN</td>\n",
       "      <td>NaN</td>\n",
       "      <td>NaN</td>\n",
       "      <td>NaN</td>\n",
       "      <td>NaN</td>\n",
       "      <td>NaN</td>\n",
       "      <td>NaN</td>\n",
       "      <td>NaN</td>\n",
       "      <td>NaN</td>\n",
       "    </tr>\n",
       "    <tr>\n",
       "      <th>2020-01-20</th>\n",
       "      <td>461124.0</td>\n",
       "      <td>56717.0</td>\n",
       "      <td>45221.0</td>\n",
       "      <td>45476.0</td>\n",
       "      <td>39762.0</td>\n",
       "      <td>34565.0</td>\n",
       "      <td>38963.0</td>\n",
       "      <td>26149.0</td>\n",
       "      <td>19512.0</td>\n",
       "      <td>18535.0</td>\n",
       "      <td>...</td>\n",
       "      <td>NaN</td>\n",
       "      <td>NaN</td>\n",
       "      <td>NaN</td>\n",
       "      <td>NaN</td>\n",
       "      <td>NaN</td>\n",
       "      <td>NaN</td>\n",
       "      <td>NaN</td>\n",
       "      <td>NaN</td>\n",
       "      <td>NaN</td>\n",
       "      <td>NaN</td>\n",
       "    </tr>\n",
       "    <tr>\n",
       "      <th>2020-01-27</th>\n",
       "      <td>455423.0</td>\n",
       "      <td>54091.0</td>\n",
       "      <td>50707.0</td>\n",
       "      <td>42432.0</td>\n",
       "      <td>37959.0</td>\n",
       "      <td>40344.0</td>\n",
       "      <td>25557.0</td>\n",
       "      <td>19672.0</td>\n",
       "      <td>18778.0</td>\n",
       "      <td>19754.0</td>\n",
       "      <td>...</td>\n",
       "      <td>NaN</td>\n",
       "      <td>NaN</td>\n",
       "      <td>NaN</td>\n",
       "      <td>NaN</td>\n",
       "      <td>NaN</td>\n",
       "      <td>NaN</td>\n",
       "      <td>NaN</td>\n",
       "      <td>NaN</td>\n",
       "      <td>NaN</td>\n",
       "      <td>NaN</td>\n",
       "    </tr>\n",
       "    <tr>\n",
       "      <th>2020-02-03</th>\n",
       "      <td>344553.0</td>\n",
       "      <td>49329.0</td>\n",
       "      <td>37686.0</td>\n",
       "      <td>33560.0</td>\n",
       "      <td>35485.0</td>\n",
       "      <td>23080.0</td>\n",
       "      <td>18394.0</td>\n",
       "      <td>17391.0</td>\n",
       "      <td>17970.0</td>\n",
       "      <td>21108.0</td>\n",
       "      <td>...</td>\n",
       "      <td>NaN</td>\n",
       "      <td>NaN</td>\n",
       "      <td>NaN</td>\n",
       "      <td>NaN</td>\n",
       "      <td>NaN</td>\n",
       "      <td>NaN</td>\n",
       "      <td>NaN</td>\n",
       "      <td>NaN</td>\n",
       "      <td>NaN</td>\n",
       "      <td>NaN</td>\n",
       "    </tr>\n",
       "    <tr>\n",
       "      <th>2020-02-10</th>\n",
       "      <td>484614.0</td>\n",
       "      <td>61138.0</td>\n",
       "      <td>50815.0</td>\n",
       "      <td>52043.0</td>\n",
       "      <td>30560.0</td>\n",
       "      <td>22699.0</td>\n",
       "      <td>20795.0</td>\n",
       "      <td>22206.0</td>\n",
       "      <td>26548.0</td>\n",
       "      <td>28872.0</td>\n",
       "      <td>...</td>\n",
       "      <td>NaN</td>\n",
       "      <td>NaN</td>\n",
       "      <td>NaN</td>\n",
       "      <td>NaN</td>\n",
       "      <td>NaN</td>\n",
       "      <td>NaN</td>\n",
       "      <td>NaN</td>\n",
       "      <td>NaN</td>\n",
       "      <td>NaN</td>\n",
       "      <td>NaN</td>\n",
       "    </tr>\n",
       "    <tr>\n",
       "      <th>2020-02-17</th>\n",
       "      <td>541865.0</td>\n",
       "      <td>65517.0</td>\n",
       "      <td>65509.0</td>\n",
       "      <td>37199.0</td>\n",
       "      <td>25711.0</td>\n",
       "      <td>23474.0</td>\n",
       "      <td>24956.0</td>\n",
       "      <td>29724.0</td>\n",
       "      <td>33777.0</td>\n",
       "      <td>33144.0</td>\n",
       "      <td>...</td>\n",
       "      <td>NaN</td>\n",
       "      <td>NaN</td>\n",
       "      <td>NaN</td>\n",
       "      <td>NaN</td>\n",
       "      <td>NaN</td>\n",
       "      <td>NaN</td>\n",
       "      <td>NaN</td>\n",
       "      <td>NaN</td>\n",
       "      <td>NaN</td>\n",
       "      <td>NaN</td>\n",
       "    </tr>\n",
       "    <tr>\n",
       "      <th>2020-02-24</th>\n",
       "      <td>383602.0</td>\n",
       "      <td>54776.0</td>\n",
       "      <td>31054.0</td>\n",
       "      <td>19925.0</td>\n",
       "      <td>18142.0</td>\n",
       "      <td>18464.0</td>\n",
       "      <td>21800.0</td>\n",
       "      <td>23588.0</td>\n",
       "      <td>23067.0</td>\n",
       "      <td>7589.0</td>\n",
       "      <td>...</td>\n",
       "      <td>NaN</td>\n",
       "      <td>NaN</td>\n",
       "      <td>NaN</td>\n",
       "      <td>NaN</td>\n",
       "      <td>NaN</td>\n",
       "      <td>NaN</td>\n",
       "      <td>NaN</td>\n",
       "      <td>NaN</td>\n",
       "      <td>NaN</td>\n",
       "      <td>NaN</td>\n",
       "    </tr>\n",
       "    <tr>\n",
       "      <th>2020-03-02</th>\n",
       "      <td>571024.0</td>\n",
       "      <td>53319.0</td>\n",
       "      <td>33584.0</td>\n",
       "      <td>29649.0</td>\n",
       "      <td>30453.0</td>\n",
       "      <td>35663.0</td>\n",
       "      <td>38660.0</td>\n",
       "      <td>38190.0</td>\n",
       "      <td>10955.0</td>\n",
       "      <td>NaN</td>\n",
       "      <td>...</td>\n",
       "      <td>NaN</td>\n",
       "      <td>NaN</td>\n",
       "      <td>NaN</td>\n",
       "      <td>NaN</td>\n",
       "      <td>NaN</td>\n",
       "      <td>NaN</td>\n",
       "      <td>NaN</td>\n",
       "      <td>NaN</td>\n",
       "      <td>NaN</td>\n",
       "      <td>NaN</td>\n",
       "    </tr>\n",
       "    <tr>\n",
       "      <th>2020-03-09</th>\n",
       "      <td>461455.0</td>\n",
       "      <td>33831.0</td>\n",
       "      <td>27597.0</td>\n",
       "      <td>25777.0</td>\n",
       "      <td>29407.0</td>\n",
       "      <td>31329.0</td>\n",
       "      <td>30615.0</td>\n",
       "      <td>10185.0</td>\n",
       "      <td>NaN</td>\n",
       "      <td>NaN</td>\n",
       "      <td>...</td>\n",
       "      <td>NaN</td>\n",
       "      <td>NaN</td>\n",
       "      <td>NaN</td>\n",
       "      <td>NaN</td>\n",
       "      <td>NaN</td>\n",
       "      <td>NaN</td>\n",
       "      <td>NaN</td>\n",
       "      <td>NaN</td>\n",
       "      <td>NaN</td>\n",
       "      <td>NaN</td>\n",
       "    </tr>\n",
       "    <tr>\n",
       "      <th>2020-03-16</th>\n",
       "      <td>263913.0</td>\n",
       "      <td>28372.0</td>\n",
       "      <td>23818.0</td>\n",
       "      <td>24767.0</td>\n",
       "      <td>24608.0</td>\n",
       "      <td>22730.0</td>\n",
       "      <td>6625.0</td>\n",
       "      <td>NaN</td>\n",
       "      <td>NaN</td>\n",
       "      <td>NaN</td>\n",
       "      <td>...</td>\n",
       "      <td>NaN</td>\n",
       "      <td>NaN</td>\n",
       "      <td>NaN</td>\n",
       "      <td>NaN</td>\n",
       "      <td>NaN</td>\n",
       "      <td>NaN</td>\n",
       "      <td>NaN</td>\n",
       "      <td>NaN</td>\n",
       "      <td>NaN</td>\n",
       "      <td>NaN</td>\n",
       "    </tr>\n",
       "    <tr>\n",
       "      <th>2020-03-23</th>\n",
       "      <td>261293.0</td>\n",
       "      <td>30199.0</td>\n",
       "      <td>29067.0</td>\n",
       "      <td>28318.0</td>\n",
       "      <td>25288.0</td>\n",
       "      <td>7658.0</td>\n",
       "      <td>NaN</td>\n",
       "      <td>NaN</td>\n",
       "      <td>NaN</td>\n",
       "      <td>NaN</td>\n",
       "      <td>...</td>\n",
       "      <td>NaN</td>\n",
       "      <td>NaN</td>\n",
       "      <td>NaN</td>\n",
       "      <td>NaN</td>\n",
       "      <td>NaN</td>\n",
       "      <td>NaN</td>\n",
       "      <td>NaN</td>\n",
       "      <td>NaN</td>\n",
       "      <td>NaN</td>\n",
       "      <td>NaN</td>\n",
       "    </tr>\n",
       "    <tr>\n",
       "      <th>2020-03-30</th>\n",
       "      <td>305555.0</td>\n",
       "      <td>41899.0</td>\n",
       "      <td>37543.0</td>\n",
       "      <td>32729.0</td>\n",
       "      <td>8521.0</td>\n",
       "      <td>NaN</td>\n",
       "      <td>NaN</td>\n",
       "      <td>NaN</td>\n",
       "      <td>NaN</td>\n",
       "      <td>NaN</td>\n",
       "      <td>...</td>\n",
       "      <td>NaN</td>\n",
       "      <td>NaN</td>\n",
       "      <td>NaN</td>\n",
       "      <td>NaN</td>\n",
       "      <td>NaN</td>\n",
       "      <td>NaN</td>\n",
       "      <td>NaN</td>\n",
       "      <td>NaN</td>\n",
       "      <td>NaN</td>\n",
       "      <td>NaN</td>\n",
       "    </tr>\n",
       "    <tr>\n",
       "      <th>2020-04-06</th>\n",
       "      <td>421139.0</td>\n",
       "      <td>63781.0</td>\n",
       "      <td>52333.0</td>\n",
       "      <td>12742.0</td>\n",
       "      <td>NaN</td>\n",
       "      <td>NaN</td>\n",
       "      <td>NaN</td>\n",
       "      <td>NaN</td>\n",
       "      <td>NaN</td>\n",
       "      <td>NaN</td>\n",
       "      <td>...</td>\n",
       "      <td>NaN</td>\n",
       "      <td>NaN</td>\n",
       "      <td>NaN</td>\n",
       "      <td>NaN</td>\n",
       "      <td>NaN</td>\n",
       "      <td>NaN</td>\n",
       "      <td>NaN</td>\n",
       "      <td>NaN</td>\n",
       "      <td>NaN</td>\n",
       "      <td>NaN</td>\n",
       "    </tr>\n",
       "    <tr>\n",
       "      <th>2020-04-13</th>\n",
       "      <td>569921.0</td>\n",
       "      <td>88037.0</td>\n",
       "      <td>23189.0</td>\n",
       "      <td>NaN</td>\n",
       "      <td>NaN</td>\n",
       "      <td>NaN</td>\n",
       "      <td>NaN</td>\n",
       "      <td>NaN</td>\n",
       "      <td>NaN</td>\n",
       "      <td>NaN</td>\n",
       "      <td>...</td>\n",
       "      <td>NaN</td>\n",
       "      <td>NaN</td>\n",
       "      <td>NaN</td>\n",
       "      <td>NaN</td>\n",
       "      <td>NaN</td>\n",
       "      <td>NaN</td>\n",
       "      <td>NaN</td>\n",
       "      <td>NaN</td>\n",
       "      <td>NaN</td>\n",
       "      <td>NaN</td>\n",
       "    </tr>\n",
       "    <tr>\n",
       "      <th>2020-04-20</th>\n",
       "      <td>566769.0</td>\n",
       "      <td>25032.0</td>\n",
       "      <td>NaN</td>\n",
       "      <td>NaN</td>\n",
       "      <td>NaN</td>\n",
       "      <td>NaN</td>\n",
       "      <td>NaN</td>\n",
       "      <td>NaN</td>\n",
       "      <td>NaN</td>\n",
       "      <td>NaN</td>\n",
       "      <td>...</td>\n",
       "      <td>NaN</td>\n",
       "      <td>NaN</td>\n",
       "      <td>NaN</td>\n",
       "      <td>NaN</td>\n",
       "      <td>NaN</td>\n",
       "      <td>NaN</td>\n",
       "      <td>NaN</td>\n",
       "      <td>NaN</td>\n",
       "      <td>NaN</td>\n",
       "      <td>NaN</td>\n",
       "    </tr>\n",
       "    <tr>\n",
       "      <th>2020-04-27</th>\n",
       "      <td>329410.0</td>\n",
       "      <td>NaN</td>\n",
       "      <td>NaN</td>\n",
       "      <td>NaN</td>\n",
       "      <td>NaN</td>\n",
       "      <td>NaN</td>\n",
       "      <td>NaN</td>\n",
       "      <td>NaN</td>\n",
       "      <td>NaN</td>\n",
       "      <td>NaN</td>\n",
       "      <td>...</td>\n",
       "      <td>NaN</td>\n",
       "      <td>NaN</td>\n",
       "      <td>NaN</td>\n",
       "      <td>NaN</td>\n",
       "      <td>NaN</td>\n",
       "      <td>NaN</td>\n",
       "      <td>NaN</td>\n",
       "      <td>NaN</td>\n",
       "      <td>NaN</td>\n",
       "      <td>NaN</td>\n",
       "    </tr>\n",
       "  </tbody>\n",
       "</table>\n",
       "<p>31 rows × 31 columns</p>\n",
       "</div>"
      ],
      "text/plain": [
       "diff_week         0         1         2         3         4         5   \\\n",
       "WEEK                                                                     \n",
       "2019-09-30  818388.0  277762.0  249026.0  217328.0  237233.0  237564.0   \n",
       "2019-10-07  762779.0  189777.0  158667.0  170302.0  177742.0  191278.0   \n",
       "2019-10-14  617645.0  121323.0  122805.0  127420.0  138418.0   97092.0   \n",
       "2019-10-21  552380.0  100164.0   99091.0  103100.0   75901.0   71711.0   \n",
       "2019-10-28  462835.0   91026.0   89511.0   63843.0   61109.0   58487.0   \n",
       "2019-11-04  564746.0  124909.0   83590.0   77329.0   74211.0   81056.0   \n",
       "2019-11-11  592037.0  102670.0   90169.0   82371.0   94816.0   93315.0   \n",
       "2019-11-18  551204.0   76492.0   67458.0   69977.0   72175.0   64730.0   \n",
       "2019-11-25  437714.0   66363.0   63482.0   61671.0   54092.0   44019.0   \n",
       "2019-12-02  420888.0   69569.0   63035.0   52560.0   43931.0   38909.0   \n",
       "2019-12-09  517199.0   80627.0   65260.0   52545.0   46206.0   45810.0   \n",
       "2019-12-16  637462.0   95003.0   71299.0   59772.0   60910.0   50468.0   \n",
       "2019-12-23  663936.0   81939.0   63649.0   62084.0   51109.0   48616.0   \n",
       "2019-12-30  614861.0   70492.0   62267.0   49710.0   46036.0   40291.0   \n",
       "2020-01-06  490528.0   63161.0   47347.0   42658.0   39541.0   40874.0   \n",
       "2020-01-13  513541.0   60949.0   49793.0   45394.0   48029.0   40147.0   \n",
       "2020-01-20  461124.0   56717.0   45221.0   45476.0   39762.0   34565.0   \n",
       "2020-01-27  455423.0   54091.0   50707.0   42432.0   37959.0   40344.0   \n",
       "2020-02-03  344553.0   49329.0   37686.0   33560.0   35485.0   23080.0   \n",
       "2020-02-10  484614.0   61138.0   50815.0   52043.0   30560.0   22699.0   \n",
       "2020-02-17  541865.0   65517.0   65509.0   37199.0   25711.0   23474.0   \n",
       "2020-02-24  383602.0   54776.0   31054.0   19925.0   18142.0   18464.0   \n",
       "2020-03-02  571024.0   53319.0   33584.0   29649.0   30453.0   35663.0   \n",
       "2020-03-09  461455.0   33831.0   27597.0   25777.0   29407.0   31329.0   \n",
       "2020-03-16  263913.0   28372.0   23818.0   24767.0   24608.0   22730.0   \n",
       "2020-03-23  261293.0   30199.0   29067.0   28318.0   25288.0    7658.0   \n",
       "2020-03-30  305555.0   41899.0   37543.0   32729.0    8521.0       NaN   \n",
       "2020-04-06  421139.0   63781.0   52333.0   12742.0       NaN       NaN   \n",
       "2020-04-13  569921.0   88037.0   23189.0       NaN       NaN       NaN   \n",
       "2020-04-20  566769.0   25032.0       NaN       NaN       NaN       NaN   \n",
       "2020-04-27  329410.0       NaN       NaN       NaN       NaN       NaN   \n",
       "\n",
       "diff_week         6         7         8         9   ...        21        22  \\\n",
       "WEEK                                                ...                       \n",
       "2019-09-30  254368.0  189930.0  189973.0  182434.0  ...  129174.0  144455.0   \n",
       "2019-10-07  139484.0  137583.0  132855.0  149478.0  ...  108647.0   81747.0   \n",
       "2019-10-14   95831.0   92950.0  105064.0  111131.0  ...   55967.0   48729.0   \n",
       "2019-10-21   68842.0   78667.0   84997.0   75264.0  ...   34923.0   33922.0   \n",
       "2019-10-28   66737.0   69131.0   61277.0   51279.0  ...   28532.0   29863.0   \n",
       "2019-11-04   86185.0   74464.0   62020.0   57031.0  ...   35716.0   41833.0   \n",
       "2019-11-11   80111.0   64344.0   61188.0   64710.0  ...   46411.0   50524.0   \n",
       "2019-11-18   52953.0   47623.0   50400.0   44158.0  ...   32384.0   32671.0   \n",
       "2019-11-25   39915.0   40491.0   36213.0   36987.0  ...   27940.0    8283.0   \n",
       "2019-12-02   38484.0   34364.0   35333.0   34585.0  ...    8070.0       NaN   \n",
       "2019-12-09   38819.0   38007.0   37360.0   41287.0  ...       NaN       NaN   \n",
       "2019-12-16   49298.0   46329.0   52067.0   45723.0  ...       NaN       NaN   \n",
       "2019-12-23   44466.0   51322.0   47483.0   42646.0  ...       NaN       NaN   \n",
       "2019-12-30   45230.0   41131.0   37269.0   44799.0  ...       NaN       NaN   \n",
       "2020-01-06   35671.0   33644.0   38034.0   24434.0  ...       NaN       NaN   \n",
       "2020-01-13   37676.0   41906.0   25940.0   20062.0  ...       NaN       NaN   \n",
       "2020-01-20   38963.0   26149.0   19512.0   18535.0  ...       NaN       NaN   \n",
       "2020-01-27   25557.0   19672.0   18778.0   19754.0  ...       NaN       NaN   \n",
       "2020-02-03   18394.0   17391.0   17970.0   21108.0  ...       NaN       NaN   \n",
       "2020-02-10   20795.0   22206.0   26548.0   28872.0  ...       NaN       NaN   \n",
       "2020-02-17   24956.0   29724.0   33777.0   33144.0  ...       NaN       NaN   \n",
       "2020-02-24   21800.0   23588.0   23067.0    7589.0  ...       NaN       NaN   \n",
       "2020-03-02   38660.0   38190.0   10955.0       NaN  ...       NaN       NaN   \n",
       "2020-03-09   30615.0   10185.0       NaN       NaN  ...       NaN       NaN   \n",
       "2020-03-16    6625.0       NaN       NaN       NaN  ...       NaN       NaN   \n",
       "2020-03-23       NaN       NaN       NaN       NaN  ...       NaN       NaN   \n",
       "2020-03-30       NaN       NaN       NaN       NaN  ...       NaN       NaN   \n",
       "2020-04-06       NaN       NaN       NaN       NaN  ...       NaN       NaN   \n",
       "2020-04-13       NaN       NaN       NaN       NaN  ...       NaN       NaN   \n",
       "2020-04-20       NaN       NaN       NaN       NaN  ...       NaN       NaN   \n",
       "2020-04-27       NaN       NaN       NaN       NaN  ...       NaN       NaN   \n",
       "\n",
       "diff_week         23        24       25       26        27        28  \\\n",
       "WEEK                                                                   \n",
       "2019-09-30  111112.0  100627.0  96393.0  97721.0  109433.0  116705.0   \n",
       "2019-10-07   71675.0   69064.0  70776.0  81816.0   88823.0   86552.0   \n",
       "2019-10-14   47201.0   48838.0  56794.0  62710.0   61121.0   19997.0   \n",
       "2019-10-21   35402.0   42027.0  46786.0  46210.0   15310.0       NaN   \n",
       "2019-10-28   35053.0   38537.0  37522.0  10780.0       NaN       NaN   \n",
       "2019-11-04   46398.0   45374.0  14100.0      NaN       NaN       NaN   \n",
       "2019-11-11   48139.0   12360.0      NaN      NaN       NaN       NaN   \n",
       "2019-11-18   10372.0       NaN      NaN      NaN       NaN       NaN   \n",
       "2019-11-25       NaN       NaN      NaN      NaN       NaN       NaN   \n",
       "2019-12-02       NaN       NaN      NaN      NaN       NaN       NaN   \n",
       "2019-12-09       NaN       NaN      NaN      NaN       NaN       NaN   \n",
       "2019-12-16       NaN       NaN      NaN      NaN       NaN       NaN   \n",
       "2019-12-23       NaN       NaN      NaN      NaN       NaN       NaN   \n",
       "2019-12-30       NaN       NaN      NaN      NaN       NaN       NaN   \n",
       "2020-01-06       NaN       NaN      NaN      NaN       NaN       NaN   \n",
       "2020-01-13       NaN       NaN      NaN      NaN       NaN       NaN   \n",
       "2020-01-20       NaN       NaN      NaN      NaN       NaN       NaN   \n",
       "2020-01-27       NaN       NaN      NaN      NaN       NaN       NaN   \n",
       "2020-02-03       NaN       NaN      NaN      NaN       NaN       NaN   \n",
       "2020-02-10       NaN       NaN      NaN      NaN       NaN       NaN   \n",
       "2020-02-17       NaN       NaN      NaN      NaN       NaN       NaN   \n",
       "2020-02-24       NaN       NaN      NaN      NaN       NaN       NaN   \n",
       "2020-03-02       NaN       NaN      NaN      NaN       NaN       NaN   \n",
       "2020-03-09       NaN       NaN      NaN      NaN       NaN       NaN   \n",
       "2020-03-16       NaN       NaN      NaN      NaN       NaN       NaN   \n",
       "2020-03-23       NaN       NaN      NaN      NaN       NaN       NaN   \n",
       "2020-03-30       NaN       NaN      NaN      NaN       NaN       NaN   \n",
       "2020-04-06       NaN       NaN      NaN      NaN       NaN       NaN   \n",
       "2020-04-13       NaN       NaN      NaN      NaN       NaN       NaN   \n",
       "2020-04-20       NaN       NaN      NaN      NaN       NaN       NaN   \n",
       "2020-04-27       NaN       NaN      NaN      NaN       NaN       NaN   \n",
       "\n",
       "diff_week         29       30  \n",
       "WEEK                           \n",
       "2019-09-30  114075.0  34374.0  \n",
       "2019-10-07   29230.0      NaN  \n",
       "2019-10-14       NaN      NaN  \n",
       "2019-10-21       NaN      NaN  \n",
       "2019-10-28       NaN      NaN  \n",
       "2019-11-04       NaN      NaN  \n",
       "2019-11-11       NaN      NaN  \n",
       "2019-11-18       NaN      NaN  \n",
       "2019-11-25       NaN      NaN  \n",
       "2019-12-02       NaN      NaN  \n",
       "2019-12-09       NaN      NaN  \n",
       "2019-12-16       NaN      NaN  \n",
       "2019-12-23       NaN      NaN  \n",
       "2019-12-30       NaN      NaN  \n",
       "2020-01-06       NaN      NaN  \n",
       "2020-01-13       NaN      NaN  \n",
       "2020-01-20       NaN      NaN  \n",
       "2020-01-27       NaN      NaN  \n",
       "2020-02-03       NaN      NaN  \n",
       "2020-02-10       NaN      NaN  \n",
       "2020-02-17       NaN      NaN  \n",
       "2020-02-24       NaN      NaN  \n",
       "2020-03-02       NaN      NaN  \n",
       "2020-03-09       NaN      NaN  \n",
       "2020-03-16       NaN      NaN  \n",
       "2020-03-23       NaN      NaN  \n",
       "2020-03-30       NaN      NaN  \n",
       "2020-04-06       NaN      NaN  \n",
       "2020-04-13       NaN      NaN  \n",
       "2020-04-20       NaN      NaN  \n",
       "2020-04-27       NaN      NaN  \n",
       "\n",
       "[31 rows x 31 columns]"
      ]
     },
     "execution_count": 39,
     "metadata": {},
     "output_type": "execute_result"
    }
   ],
   "source": [
    "df_retention_7_pivot"
   ]
  },
  {
   "cell_type": "markdown",
   "metadata": {},
   "source": [
    "### value 비율로 전환"
   ]
  },
  {
   "cell_type": "code",
   "execution_count": 40,
   "metadata": {},
   "outputs": [],
   "source": [
    "for i in range(len(df_retention_7_pivot)):\n",
    "    a = df_retention_7_pivot.iloc[i,0]\n",
    "    for j in range(len(df_retention_7_pivot.columns)):\n",
    "        if df_retention_7_pivot.isnull().iloc[i,j]:\n",
    "            pass\n",
    "        else:\n",
    "            df_retention_7_pivot.iloc[i,j] = round(df_retention_7_pivot.iloc[i,j] / a, 4)\n"
   ]
  },
  {
   "cell_type": "code",
   "execution_count": 41,
   "metadata": {},
   "outputs": [],
   "source": [
    "df_retention_7_pivot.to_csv(\"주간리텐션.csv\", index=False)"
   ]
  },
  {
   "cell_type": "markdown",
   "metadata": {},
   "source": [
    "### 주간 리텐션 그래프"
   ]
  },
  {
   "cell_type": "code",
   "execution_count": 46,
   "metadata": {},
   "outputs": [
    {
     "data": {
      "image/png": "[encoded data removed]",
      "text/plain": [
       "<Figure size 3000x2000 with 2 Axes>"
      ]
     },
     "metadata": {},
     "output_type": "display_data"
    }
   ],
   "source": [
    "plt.figure(figsize=(30, 20))\n",
    "sns.heatmap(df_retention_7_pivot, annot=True, fmt=\".3f\", cmap=\"Blues\")\n",
    "plt.show()"
   ]
  },
  {
   "cell_type": "markdown",
   "metadata": {},
   "source": [
    "# SPARK STOP"
   ]
  },
  {
   "cell_type": "code",
   "execution_count": null,
   "metadata": {},
   "outputs": [],
   "source": [
    "spark.stop()"
   ]
  }
 ],
 "metadata": {
  "kernelspec": {
   "display_name": "Python 3",
   "language": "python",
   "name": "python3"
  },
  "language_info": {
   "codemirror_mode": {
    "name": "ipython",
    "version": 3
   },
   "file_extension": ".py",
   "mimetype": "text/x-python",
   "name": "python",
   "nbconvert_exporter": "python",
   "pygments_lexer": "ipython3",
   "version": "3.10.8"
  }
 },
 "nbformat": 4,
 "nbformat_minor": 2
}
