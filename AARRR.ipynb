{
 "cells": [
  {
   "cell_type": "markdown",
   "metadata": {},
   "source": [
    "# AARRR 분석"
   ]
  },
  {
   "cell_type": "code",
   "execution_count": 1,
   "metadata": {},
   "outputs": [],
   "source": [
    "import faulthandler \n",
    "from pyspark.sql import SparkSession \n",
    "import pyspark\n",
    "from pyspark.sql import SparkSession\n",
    "from pyspark.sql.types import StructType, StructField, StringType, IntegerType\n",
    "from pyspark.sql.types import ArrayType, DoubleType, BooleanType, DateType, FloatType, TimestampType\n",
    "from pyspark.sql.functions import col, array_contains, isnan, when, count\n",
    "from pyspark.sql.functions import lit, concat_ws, concat, collect_list, udf\n",
    "from pyspark.sql.functions import countDistinct\n",
    "import os\n",
    "faulthandler.enable()   \n",
    "spark = SparkSession.builder.master('local').appName('Python Spark SQL Practice').getOrCreate()"
   ]
  },
  {
   "cell_type": "code",
   "execution_count": 2,
   "metadata": {},
   "outputs": [
    {
     "name": "stdout",
     "output_type": "stream",
     "text": [
      "D:/workspace/data/2019-Dec.csv\n",
      "D:/workspace/data/2019-Nov.csv\n",
      "D:/workspace/data/2019-Oct.csv\n",
      "D:/workspace/data/2020-Apr.csv\n",
      "D:/workspace/data/2020-Feb.csv\n",
      "D:/workspace/data/2020-Jan.csv\n",
      "D:/workspace/data/2020-Mar.csv\n"
     ]
    }
   ],
   "source": [
    "def search(dirname):\n",
    "    filenames = os.listdir(dirname)\n",
    "    file_list = []\n",
    "    for filename in filenames:\n",
    "        full_filename = os.path.join(dirname, filename)\n",
    "        print(full_filename)\n",
    "        file_list.append(full_filename)\n",
    "    return file_list\n",
    "data_path_list = search(\"D:/workspace/data/\")"
   ]
  },
  {
   "cell_type": "code",
   "execution_count": 3,
   "metadata": {},
   "outputs": [],
   "source": [
    "for i, x in enumerate(data_path_list):\n",
    "    file_path = x\n",
    "    df = spark.read.csv(file_path, header=True)\n",
    "    if i == 0:\n",
    "        merged_df = df\n",
    "    else:\n",
    "        merged_df = merged_df.union(df)"
   ]
  },
  {
   "cell_type": "code",
   "execution_count": 4,
   "metadata": {},
   "outputs": [
    {
     "name": "stdout",
     "output_type": "stream",
     "text": [
      "+--------------------+----------+----------+-------------------+--------------------+-------+-------+---------+--------------------+\n",
      "|          event_time|event_type|product_id|        category_id|       category_code|  brand|  price|  user_id|        user_session|\n",
      "+--------------------+----------+----------+-------------------+--------------------+-------+-------+---------+--------------------+\n",
      "|2019-12-01 00:00:...|      view|   1005105|2232732093077520756|construction.tool...|  apple|1302.48|556695836|ca5eefc5-11f9-450...|\n",
      "|2019-12-01 00:00:...|      view|  22700068|2232732091643068746|                NULL|  force| 102.96|577702456|de33debe-c7bf-44e...|\n",
      "|2019-12-01 00:00:...|      view|   2402273|2232732100769874463|appliances.person...|  bosch| 313.52|539453785|5ee185a7-0689-4a3...|\n",
      "|2019-12-01 00:00:...|  purchase|  26400248|2053013553056579841|computers.periphe...|   NULL| 132.31|535135317|61792a26-672f-4e6...|\n",
      "|2019-12-01 00:00:...|      view|  20100164|2232732110089618156|    apparel.trousers|   nika| 101.68|517987650|906c6ca8-ff5c-419...|\n",
      "|2019-12-01 00:00:...|      view| 100008256|2053013561185141473|accessories.umbrella|   ikea| 163.56|542860793|a1bcb550-1065-476...|\n",
      "|2019-12-01 00:00:...|      view|  21400264|2053013561579406073|  electronics.clocks|   NULL|  88.81|538021416|e88f77cc-e75e-4e9...|\n",
      "|2019-12-01 00:00:...|      view|   1005239|2232732093077520756|construction.tool...| xiaomi| 256.38|525740700|370e8c88-3d07-41d...|\n",
      "|2019-12-01 00:00:...|      view|   5100885|2053013553375346967|  computers.notebook|    jet|  20.57|512509221|4227259f-1c4c-41d...|\n",
      "|2019-12-01 00:00:...|      view|  26205399|2232732081585127530|construction.comp...|   NULL| 179.16|553345124|58c692ff-c7a9-4e3...|\n",
      "|2019-12-01 00:00:...|      view|  22900009|2053013553375346967|  computers.notebook|  vegas|  49.94|554369617|a4481ea8-9a20-442...|\n",
      "|2019-12-01 00:00:...|      view|   1004233|2232732093077520756|construction.tool...|  apple|1312.52|579969851|90aca71c-ed8a-467...|\n",
      "|2019-12-01 00:00:...|      view|  22700202|2232732091643068746|                NULL|  stels| 171.18|575086722|05a5e4f4-1865-4b0...|\n",
      "|2019-12-01 00:00:...|      view|   1004856|2232732093077520756|construction.tool...|samsung| 124.11|532554953|4bd14129-caad-4de...|\n",
      "|2019-12-01 00:00:...|      view|   3701309|2053013565983425517|appliances.enviro...|polaris|  89.32|543733099|a65116f4-ac53-4a4...|\n",
      "|2019-12-01 00:00:...|      view|  11500445|2053013552259662037|computers.compone...| xiaomi|  27.77|526844203|5e62045f-58f7-442...|\n",
      "|2019-12-01 00:00:...|      view|   1005105|2232732093077520756|construction.tool...|  apple|1302.48|562071412|822749fe-49f1-4a9...|\n",
      "|2019-12-01 00:00:...|      view|   1003489|2232732093077520756|construction.tool...| huawei| 205.67|543826485|b251cbde-4373-497...|\n",
      "|2019-12-01 00:00:...|      view|   1480790|2053013553341792533|  electronics.clocks| lenovo| 342.82|577653879|a971d966-d601-4d8...|\n",
      "|2019-12-01 00:00:...|      view|   4804718|2232732079706079299|       sport.bicycle|  apple| 329.14|579969767|e159d1a1-6668-477...|\n",
      "+--------------------+----------+----------+-------------------+--------------------+-------+-------+---------+--------------------+\n",
      "only showing top 20 rows\n",
      "\n"
     ]
    }
   ],
   "source": [
    "merged_df.show()"
   ]
  },
  {
   "cell_type": "code",
   "execution_count": 5,
   "metadata": {},
   "outputs": [],
   "source": [
    "sorted_df = merged_df.orderBy('event_time')"
   ]
  },
  {
   "cell_type": "code",
   "execution_count": 6,
   "metadata": {},
   "outputs": [
    {
     "name": "stdout",
     "output_type": "stream",
     "text": [
      "+--------------------+----------+----------+-------------------+--------------------+--------+-------+---------+--------------------+\n",
      "|          event_time|event_type|product_id|        category_id|       category_code|   brand|  price|  user_id|        user_session|\n",
      "+--------------------+----------+----------+-------------------+--------------------+--------+-------+---------+--------------------+\n",
      "|2019-10-01 00:00:...|      view|  44600062|2103807459595387724|                NULL|shiseido|  35.79|541312140|72d76fde-8bb3-4e0...|\n",
      "|2019-10-01 00:00:...|      view|   3900821|2053013552326770905|appliances.enviro...|    aqua|  33.20|554748717|9333dfbd-b87a-470...|\n",
      "|2019-10-01 00:00:...|      view|  17200506|2053013559792632471|furniture.living_...|    NULL| 543.10|519107250|566511c2-e2e3-422...|\n",
      "|2019-10-01 00:00:...|      view|   1307067|2053013558920217191|  computers.notebook|  lenovo| 251.74|550050854|7c90fc70-0e80-459...|\n",
      "|2019-10-01 00:00:...|      view|   1004237|2053013555631882655|electronics.smart...|   apple|1081.98|535871217|c6bd7419-2748-4c5...|\n",
      "|2019-10-01 00:00:...|      view|   1480613|2053013561092866779|   computers.desktop|  pulser| 908.62|512742880|0d0d91c2-c9c2-4e8...|\n",
      "|2019-10-01 00:00:...|      view|  17300353|2053013553853497655|                NULL|   creed| 380.96|555447699|4fe811e9-91de-46d...|\n",
      "|2019-10-01 00:00:...|      view|  31500053|2053013558031024687|                NULL|luminarc|  41.16|550978835|6280d577-25c8-414...|\n",
      "|2019-10-01 00:00:...|      view|  28719074|2053013565480109009|  apparel.shoes.keds|   baden| 102.71|520571932|ac1cd4e5-a3ce-422...|\n",
      "|2019-10-01 00:00:...|      view|   1004545|2053013555631882655|electronics.smart...|  huawei| 566.01|537918940|406c46ed-90a4-478...|\n",
      "|2019-10-01 00:00:...|      view|   2900536|2053013554776244595|appliances.kitche...|elenberg|  51.46|555158050|b5bdd0b3-4ca2-4c5...|\n",
      "|2019-10-01 00:00:...|      view|   1005011|2053013555631882655|electronics.smart...| samsung| 900.64|530282093|50a293fb-5940-41b...|\n",
      "|2019-10-01 00:00:...|      view|   3900746|2053013552326770905|appliances.enviro...|   haier| 102.38|555444559|98b88fa0-d8fa-4b9...|\n",
      "|2019-10-01 00:00:...|      view|  44600062|2103807459595387724|                NULL|shiseido|  35.79|541312140|72d76fde-8bb3-4e0...|\n",
      "|2019-10-01 00:00:...|      view|  13500240|2053013557099889147|furniture.bedroom...|     brw|  93.18|555446365|7f0062d8-ead0-4e0...|\n",
      "|2019-10-01 00:00:...|      view|  23100006|2053013561638126333|                NULL|    NULL| 357.79|513642368|17566c27-0a8f-450...|\n",
      "|2019-10-01 00:00:...|      view|   1801995|2053013554415534427|electronics.video.tv|   haier| 193.03|537192226|e3151795-c355-4ef...|\n",
      "|2019-10-01 00:00:...|      view|  10900029|2053013555069845885|appliances.kitche...|   bosch|  58.95|519528062|901b9e3c-3f8f-414...|\n",
      "|2019-10-01 00:00:...|      view|   1306631|2053013558920217191|  computers.notebook|      hp| 580.89|550050854|7c90fc70-0e80-459...|\n",
      "|2019-10-01 00:00:...|      view|   1005135|2053013555631882655|electronics.smart...|   apple|1747.79|535871217|c6bd7419-2748-4c5...|\n",
      "+--------------------+----------+----------+-------------------+--------------------+--------+-------+---------+--------------------+\n",
      "only showing top 20 rows\n",
      "\n"
     ]
    }
   ],
   "source": [
    "sorted_df = merged_df.orderBy('event_time').show()"
   ]
  },
  {
   "cell_type": "code",
   "execution_count": 6,
   "metadata": {},
   "outputs": [],
   "source": [
    "merged_df.createOrReplaceTempView(\"ecommerce\")"
   ]
  },
  {
   "cell_type": "markdown",
   "metadata": {},
   "source": [
    "# 1. Acquisition(고객 유치)\n",
    "    - MAU, DAU"
   ]
  },
  {
   "cell_type": "markdown",
   "metadata": {},
   "source": [
    "## DAU"
   ]
  },
  {
   "cell_type": "code",
   "execution_count": 8,
   "metadata": {},
   "outputs": [],
   "source": [
    "dau = spark.sql(\"\"\"\n",
    "SELECT DATE(event_time) AS event_date, COUNT(DISTINCT user_id) AS DAU\n",
    "FROM ecommerce\n",
    "GROUP BY event_date\n",
    "ORDER BY event_date\n",
    "\"\"\")"
   ]
  },
  {
   "cell_type": "code",
   "execution_count": 9,
   "metadata": {},
   "outputs": [
    {
     "name": "stdout",
     "output_type": "stream",
     "text": [
      "+----------+------+\n",
      "|event_date|   DAU|\n",
      "+----------+------+\n",
      "|2019-10-01|190188|\n",
      "|2019-10-02|184965|\n",
      "|2019-10-03|170668|\n",
      "|2019-10-04|209410|\n",
      "|2019-10-05|194958|\n",
      "|2019-10-06|193210|\n",
      "|2019-10-07|186951|\n",
      "|2019-10-08|221204|\n",
      "|2019-10-09|214140|\n",
      "|2019-10-10|205321|\n",
      "|2019-10-11|230533|\n",
      "|2019-10-12|208355|\n",
      "|2019-10-13|225942|\n",
      "|2019-10-14|209089|\n",
      "|2019-10-15|230135|\n",
      "|2019-10-16|230199|\n",
      "|2019-10-17|208477|\n",
      "|2019-10-18|229463|\n",
      "|2019-10-19|217920|\n",
      "|2019-10-20|231849|\n",
      "+----------+------+\n",
      "only showing top 20 rows\n",
      "\n"
     ]
    }
   ],
   "source": [
    "dau.show()"
   ]
  },
  {
   "cell_type": "code",
   "execution_count": 9,
   "metadata": {},
   "outputs": [
    {
     "ename": "AttributeError",
     "evalue": "module 'matplotlib' has no attribute 'figure'",
     "output_type": "error",
     "traceback": [
      "\u001b[1;31m---------------------------------------------------------------------------\u001b[0m",
      "\u001b[1;31mAttributeError\u001b[0m                            Traceback (most recent call last)",
      "Cell \u001b[1;32mIn[9], line 4\u001b[0m\n\u001b[0;32m      1\u001b[0m \u001b[38;5;28;01mimport\u001b[39;00m \u001b[38;5;21;01mmatplotlib\u001b[39;00m \u001b[38;5;28;01mas\u001b[39;00m \u001b[38;5;21;01mplt\u001b[39;00m\n\u001b[0;32m      3\u001b[0m df_dau \u001b[38;5;241m=\u001b[39m dau\u001b[38;5;241m.\u001b[39mtoPandas()\n\u001b[1;32m----> 4\u001b[0m \u001b[43mplt\u001b[49m\u001b[38;5;241;43m.\u001b[39;49m\u001b[43mfigure\u001b[49m(figsize\u001b[38;5;241m=\u001b[39m(\u001b[38;5;241m10\u001b[39m,\u001b[38;5;241m6\u001b[39m))\n\u001b[0;32m      5\u001b[0m plt\u001b[38;5;241m.\u001b[39mplot(df_dau[\u001b[38;5;124m'\u001b[39m\u001b[38;5;124mevent_date\u001b[39m\u001b[38;5;124m'\u001b[39m], df_dau[\u001b[38;5;124m'\u001b[39m\u001b[38;5;124mDAU\u001b[39m\u001b[38;5;124m'\u001b[39m])\n\u001b[0;32m      6\u001b[0m plt\u001b[38;5;241m.\u001b[39mshow()\n",
      "File \u001b[1;32mc:\\Python310\\lib\\site-packages\\matplotlib\\_api\\__init__.py:218\u001b[0m, in \u001b[0;36mcaching_module_getattr.<locals>.__getattr__\u001b[1;34m(name)\u001b[0m\n\u001b[0;32m    216\u001b[0m \u001b[38;5;28;01mif\u001b[39;00m name \u001b[38;5;129;01min\u001b[39;00m props:\n\u001b[0;32m    217\u001b[0m     \u001b[38;5;28;01mreturn\u001b[39;00m props[name]\u001b[38;5;241m.\u001b[39m\u001b[38;5;21m__get__\u001b[39m(instance)\n\u001b[1;32m--> 218\u001b[0m \u001b[38;5;28;01mraise\u001b[39;00m \u001b[38;5;167;01mAttributeError\u001b[39;00m(\n\u001b[0;32m    219\u001b[0m     \u001b[38;5;124mf\u001b[39m\u001b[38;5;124m\"\u001b[39m\u001b[38;5;124mmodule \u001b[39m\u001b[38;5;132;01m{\u001b[39;00m\u001b[38;5;28mcls\u001b[39m\u001b[38;5;241m.\u001b[39m\u001b[38;5;18m__module__\u001b[39m\u001b[38;5;132;01m!r}\u001b[39;00m\u001b[38;5;124m has no attribute \u001b[39m\u001b[38;5;132;01m{\u001b[39;00mname\u001b[38;5;132;01m!r}\u001b[39;00m\u001b[38;5;124m\"\u001b[39m)\n",
      "\u001b[1;31mAttributeError\u001b[0m: module 'matplotlib' has no attribute 'figure'"
     ]
    }
   ],
   "source": [
    "import matplotlib as plt\n",
    "\n",
    "df_dau = dau.toPandas()\n",
    "plt.figure(figsize=(10,6))\n",
    "plt.plot(df_dau['event_date'], df_dau['DAU'])\n",
    "plt.show()"
   ]
  },
  {
   "cell_type": "markdown",
   "metadata": {},
   "source": [
    "## MAU"
   ]
  },
  {
   "cell_type": "code",
   "execution_count": 12,
   "metadata": {},
   "outputs": [],
   "source": [
    "mau = spark.sql(\"\"\"\n",
    "SELECT DATE_FORMAT(event_time, 'yyyy-mm') AS event_month, COUNT(DISTINCT user_id) AS DAU\n",
    "FROM ecommerce\n",
    "GROUP BY event_month\n",
    "ORDER BY event_month\n",
    "\"\"\")"
   ]
  },
  {
   "cell_type": "code",
   "execution_count": 11,
   "metadata": {},
   "outputs": [
    {
     "ename": "SparkUpgradeException",
     "evalue": "[INCONSISTENT_BEHAVIOR_CROSS_VERSION.DATETIME_PATTERN_RECOGNITION] You may get a different result due to the upgrading to Spark >= 3.0:\nFail to recognize '%Y-%m' pattern in the DateTimeFormatter. 1) You can set \"spark.sql.legacy.timeParserPolicy\" to \"LEGACY\" to restore the behavior before Spark 3.0. 2) You can form a valid datetime pattern with the guide from 'https://spark.apache.org/docs/latest/sql-ref-datetime-pattern.html'.",
     "output_type": "error",
     "traceback": [
      "\u001b[1;31m---------------------------------------------------------------------------\u001b[0m",
      "\u001b[1;31mSparkUpgradeException\u001b[0m                     Traceback (most recent call last)",
      "Cell \u001b[1;32mIn[11], line 1\u001b[0m\n\u001b[1;32m----> 1\u001b[0m \u001b[43mmau\u001b[49m\u001b[38;5;241;43m.\u001b[39;49m\u001b[43mshow\u001b[49m\u001b[43m(\u001b[49m\u001b[43m)\u001b[49m\n",
      "File \u001b[1;32mc:\\Python310\\lib\\site-packages\\pyspark\\sql\\dataframe.py:947\u001b[0m, in \u001b[0;36mDataFrame.show\u001b[1;34m(self, n, truncate, vertical)\u001b[0m\n\u001b[0;32m    887\u001b[0m \u001b[38;5;28;01mdef\u001b[39;00m \u001b[38;5;21mshow\u001b[39m(\u001b[38;5;28mself\u001b[39m, n: \u001b[38;5;28mint\u001b[39m \u001b[38;5;241m=\u001b[39m \u001b[38;5;241m20\u001b[39m, truncate: Union[\u001b[38;5;28mbool\u001b[39m, \u001b[38;5;28mint\u001b[39m] \u001b[38;5;241m=\u001b[39m \u001b[38;5;28;01mTrue\u001b[39;00m, vertical: \u001b[38;5;28mbool\u001b[39m \u001b[38;5;241m=\u001b[39m \u001b[38;5;28;01mFalse\u001b[39;00m) \u001b[38;5;241m-\u001b[39m\u001b[38;5;241m>\u001b[39m \u001b[38;5;28;01mNone\u001b[39;00m:\n\u001b[0;32m    888\u001b[0m \u001b[38;5;250m    \u001b[39m\u001b[38;5;124;03m\"\"\"Prints the first ``n`` rows to the console.\u001b[39;00m\n\u001b[0;32m    889\u001b[0m \n\u001b[0;32m    890\u001b[0m \u001b[38;5;124;03m    .. versionadded:: 1.3.0\u001b[39;00m\n\u001b[1;32m   (...)\u001b[0m\n\u001b[0;32m    945\u001b[0m \u001b[38;5;124;03m    name | Bob\u001b[39;00m\n\u001b[0;32m    946\u001b[0m \u001b[38;5;124;03m    \"\"\"\u001b[39;00m\n\u001b[1;32m--> 947\u001b[0m     \u001b[38;5;28mprint\u001b[39m(\u001b[38;5;28;43mself\u001b[39;49m\u001b[38;5;241;43m.\u001b[39;49m\u001b[43m_show_string\u001b[49m\u001b[43m(\u001b[49m\u001b[43mn\u001b[49m\u001b[43m,\u001b[49m\u001b[43m \u001b[49m\u001b[43mtruncate\u001b[49m\u001b[43m,\u001b[49m\u001b[43m \u001b[49m\u001b[43mvertical\u001b[49m\u001b[43m)\u001b[49m)\n",
      "File \u001b[1;32mc:\\Python310\\lib\\site-packages\\pyspark\\sql\\dataframe.py:965\u001b[0m, in \u001b[0;36mDataFrame._show_string\u001b[1;34m(self, n, truncate, vertical)\u001b[0m\n\u001b[0;32m    959\u001b[0m     \u001b[38;5;28;01mraise\u001b[39;00m PySparkTypeError(\n\u001b[0;32m    960\u001b[0m         error_class\u001b[38;5;241m=\u001b[39m\u001b[38;5;124m\"\u001b[39m\u001b[38;5;124mNOT_BOOL\u001b[39m\u001b[38;5;124m\"\u001b[39m,\n\u001b[0;32m    961\u001b[0m         message_parameters\u001b[38;5;241m=\u001b[39m{\u001b[38;5;124m\"\u001b[39m\u001b[38;5;124marg_name\u001b[39m\u001b[38;5;124m\"\u001b[39m: \u001b[38;5;124m\"\u001b[39m\u001b[38;5;124mvertical\u001b[39m\u001b[38;5;124m\"\u001b[39m, \u001b[38;5;124m\"\u001b[39m\u001b[38;5;124marg_type\u001b[39m\u001b[38;5;124m\"\u001b[39m: \u001b[38;5;28mtype\u001b[39m(vertical)\u001b[38;5;241m.\u001b[39m\u001b[38;5;18m__name__\u001b[39m},\n\u001b[0;32m    962\u001b[0m     )\n\u001b[0;32m    964\u001b[0m \u001b[38;5;28;01mif\u001b[39;00m \u001b[38;5;28misinstance\u001b[39m(truncate, \u001b[38;5;28mbool\u001b[39m) \u001b[38;5;129;01mand\u001b[39;00m truncate:\n\u001b[1;32m--> 965\u001b[0m     \u001b[38;5;28;01mreturn\u001b[39;00m \u001b[38;5;28;43mself\u001b[39;49m\u001b[38;5;241;43m.\u001b[39;49m\u001b[43m_jdf\u001b[49m\u001b[38;5;241;43m.\u001b[39;49m\u001b[43mshowString\u001b[49m\u001b[43m(\u001b[49m\u001b[43mn\u001b[49m\u001b[43m,\u001b[49m\u001b[43m \u001b[49m\u001b[38;5;241;43m20\u001b[39;49m\u001b[43m,\u001b[49m\u001b[43m \u001b[49m\u001b[43mvertical\u001b[49m\u001b[43m)\u001b[49m\n\u001b[0;32m    966\u001b[0m \u001b[38;5;28;01melse\u001b[39;00m:\n\u001b[0;32m    967\u001b[0m     \u001b[38;5;28;01mtry\u001b[39;00m:\n",
      "File \u001b[1;32mc:\\Python310\\lib\\site-packages\\py4j\\java_gateway.py:1322\u001b[0m, in \u001b[0;36mJavaMember.__call__\u001b[1;34m(self, *args)\u001b[0m\n\u001b[0;32m   1316\u001b[0m command \u001b[38;5;241m=\u001b[39m proto\u001b[38;5;241m.\u001b[39mCALL_COMMAND_NAME \u001b[38;5;241m+\u001b[39m\\\n\u001b[0;32m   1317\u001b[0m     \u001b[38;5;28mself\u001b[39m\u001b[38;5;241m.\u001b[39mcommand_header \u001b[38;5;241m+\u001b[39m\\\n\u001b[0;32m   1318\u001b[0m     args_command \u001b[38;5;241m+\u001b[39m\\\n\u001b[0;32m   1319\u001b[0m     proto\u001b[38;5;241m.\u001b[39mEND_COMMAND_PART\n\u001b[0;32m   1321\u001b[0m answer \u001b[38;5;241m=\u001b[39m \u001b[38;5;28mself\u001b[39m\u001b[38;5;241m.\u001b[39mgateway_client\u001b[38;5;241m.\u001b[39msend_command(command)\n\u001b[1;32m-> 1322\u001b[0m return_value \u001b[38;5;241m=\u001b[39m \u001b[43mget_return_value\u001b[49m\u001b[43m(\u001b[49m\n\u001b[0;32m   1323\u001b[0m \u001b[43m    \u001b[49m\u001b[43manswer\u001b[49m\u001b[43m,\u001b[49m\u001b[43m \u001b[49m\u001b[38;5;28;43mself\u001b[39;49m\u001b[38;5;241;43m.\u001b[39;49m\u001b[43mgateway_client\u001b[49m\u001b[43m,\u001b[49m\u001b[43m \u001b[49m\u001b[38;5;28;43mself\u001b[39;49m\u001b[38;5;241;43m.\u001b[39;49m\u001b[43mtarget_id\u001b[49m\u001b[43m,\u001b[49m\u001b[43m \u001b[49m\u001b[38;5;28;43mself\u001b[39;49m\u001b[38;5;241;43m.\u001b[39;49m\u001b[43mname\u001b[49m\u001b[43m)\u001b[49m\n\u001b[0;32m   1325\u001b[0m \u001b[38;5;28;01mfor\u001b[39;00m temp_arg \u001b[38;5;129;01min\u001b[39;00m temp_args:\n\u001b[0;32m   1326\u001b[0m     \u001b[38;5;28;01mif\u001b[39;00m \u001b[38;5;28mhasattr\u001b[39m(temp_arg, \u001b[38;5;124m\"\u001b[39m\u001b[38;5;124m_detach\u001b[39m\u001b[38;5;124m\"\u001b[39m):\n",
      "File \u001b[1;32mc:\\Python310\\lib\\site-packages\\pyspark\\errors\\exceptions\\captured.py:185\u001b[0m, in \u001b[0;36mcapture_sql_exception.<locals>.deco\u001b[1;34m(*a, **kw)\u001b[0m\n\u001b[0;32m    181\u001b[0m converted \u001b[38;5;241m=\u001b[39m convert_exception(e\u001b[38;5;241m.\u001b[39mjava_exception)\n\u001b[0;32m    182\u001b[0m \u001b[38;5;28;01mif\u001b[39;00m \u001b[38;5;129;01mnot\u001b[39;00m \u001b[38;5;28misinstance\u001b[39m(converted, UnknownException):\n\u001b[0;32m    183\u001b[0m     \u001b[38;5;66;03m# Hide where the exception came from that shows a non-Pythonic\u001b[39;00m\n\u001b[0;32m    184\u001b[0m     \u001b[38;5;66;03m# JVM exception message.\u001b[39;00m\n\u001b[1;32m--> 185\u001b[0m     \u001b[38;5;28;01mraise\u001b[39;00m converted \u001b[38;5;28;01mfrom\u001b[39;00m \u001b[38;5;28;01mNone\u001b[39;00m\n\u001b[0;32m    186\u001b[0m \u001b[38;5;28;01melse\u001b[39;00m:\n\u001b[0;32m    187\u001b[0m     \u001b[38;5;28;01mraise\u001b[39;00m\n",
      "\u001b[1;31mSparkUpgradeException\u001b[0m: [INCONSISTENT_BEHAVIOR_CROSS_VERSION.DATETIME_PATTERN_RECOGNITION] You may get a different result due to the upgrading to Spark >= 3.0:\nFail to recognize '%Y-%m' pattern in the DateTimeFormatter. 1) You can set \"spark.sql.legacy.timeParserPolicy\" to \"LEGACY\" to restore the behavior before Spark 3.0. 2) You can form a valid datetime pattern with the guide from 'https://spark.apache.org/docs/latest/sql-ref-datetime-pattern.html'."
     ]
    }
   ],
   "source": [
    "mau.show()"
   ]
  },
  {
   "cell_type": "code",
   "execution_count": 15,
   "metadata": {},
   "outputs": [],
   "source": [
    "mau = spark.sql(\"\"\"\n",
    "SELECT DATE_FORMAT(event_time, 'yyyy-MM') AS event_month, COUNT(DISTINCT user_id) AS DAU\n",
    "FROM ecommerce\n",
    "WHERE event_type = 'purchase'\n",
    "GROUP BY event_month\n",
    "ORDER BY event_month\n",
    "\"\"\")"
   ]
  },
  {
   "cell_type": "code",
   "execution_count": 16,
   "metadata": {},
   "outputs": [
    {
     "name": "stdout",
     "output_type": "stream",
     "text": [
      "+-----------+------+\n",
      "|event_month|   DAU|\n",
      "+-----------+------+\n",
      "|    2019-10|345250|\n",
      "|    2019-11|440842|\n",
      "|    2019-12|502203|\n",
      "|    2020-01|357440|\n",
      "|    2020-02|392986|\n",
      "|    2020-03|453238|\n",
      "|    2020-04|483209|\n",
      "|    2020-05|  7510|\n",
      "+-----------+------+\n",
      "\n"
     ]
    }
   ],
   "source": [
    "mau.show()"
   ]
  },
  {
   "cell_type": "code",
   "execution_count": null,
   "metadata": {},
   "outputs": [],
   "source": [
    "mau = spark.sql(\"\"\"\n",
    "SELECT DATE_FORMAT(event_time, 'yyyy-MM') AS event_month, COUNT(DISTINCT user_id) AS DAU\n",
    "FROM ecommerce\n",
    "GROUP BY event_month\n",
    "ORDER BY event_month\n",
    "\"\"\"\n",
    "                )"
   ]
  },
  {
   "cell_type": "code",
   "execution_count": 18,
   "metadata": {},
   "outputs": [],
   "source": [
    "ch = spark.sql(\"\"\"SELECT event_type\n",
    "FROM ecommerce\n",
    "WHERE category_id is NULL\"\"\")"
   ]
  },
  {
   "cell_type": "code",
   "execution_count": 19,
   "metadata": {},
   "outputs": [
    {
     "name": "stdout",
     "output_type": "stream",
     "text": [
      "+----------+\n",
      "|event_type|\n",
      "+----------+\n",
      "+----------+\n",
      "\n"
     ]
    }
   ],
   "source": [
    "ch.show()"
   ]
  },
  {
   "cell_type": "code",
   "execution_count": 24,
   "metadata": {},
   "outputs": [],
   "source": [
    "ch2 = spark.sql(\"\"\"SELECT COUNT(*)\n",
    "FROM ecommerce\n",
    "WHERE event_type = 'remove_from_cart'\"\"\")"
   ]
  },
  {
   "cell_type": "code",
   "execution_count": 25,
   "metadata": {},
   "outputs": [
    {
     "name": "stdout",
     "output_type": "stream",
     "text": [
      "+--------+\n",
      "|count(1)|\n",
      "+--------+\n",
      "|       0|\n",
      "+--------+\n",
      "\n"
     ]
    }
   ],
   "source": [
    "ch2.show()"
   ]
  },
  {
   "cell_type": "markdown",
   "metadata": {},
   "source": [
    "category_id 별 remove_from_cart 횟수\n",
    "product_id 별 '' 횟수\n",
    "category_id 별 remove_from_cart의 평균 금액\n",
    "category_id 별 평균 금액\n",
    "\n",
    "\n",
    "왜 카트에서 뺏을까??\n",
    "\n",
    "category_id 별 remove_from_cart의 평균 금액\n",
    "category_id 별 평균 금액 \n",
    "비교해서 가격이 높으니깐 뺏을거다~~ 가정\n",
    "\n"
   ]
  },
  {
   "cell_type": "code",
   "execution_count": 26,
   "metadata": {},
   "outputs": [],
   "source": [
    "ch3 = spark.sql(\"\"\"SELECT AVG(price)\n",
    "FROM ecommerce\n",
    "WHERE event_type = 'remove_from_cart'\n",
    "GROUP BY category_id\"\"\")"
   ]
  },
  {
   "cell_type": "code",
   "execution_count": null,
   "metadata": {},
   "outputs": [],
   "source": [
    "spark.sql(\"SELECT event_type, count(*) AS count FROM ecommerce GROUP BY event_type\").show()"
   ]
  },
  {
   "cell_type": "code",
   "execution_count": 32,
   "metadata": {},
   "outputs": [],
   "source": [
    "ch3 = spark.sql(\"\"\"SELECT COUNT(*)\n",
    "FROM ecommerce\n",
    "WHERE event_type = 'remove_from_cart'\n",
    "\"\"\")"
   ]
  },
  {
   "cell_type": "code",
   "execution_count": 33,
   "metadata": {},
   "outputs": [
    {
     "name": "stdout",
     "output_type": "stream",
     "text": [
      "+--------+\n",
      "|count(1)|\n",
      "+--------+\n",
      "|       0|\n",
      "+--------+\n",
      "\n"
     ]
    }
   ],
   "source": [
    "ch3.show()"
   ]
  },
  {
   "cell_type": "code",
   "execution_count": 28,
   "metadata": {},
   "outputs": [],
   "source": [
    "ch4 = spark.sql(\"\"\"SELECT AVG(price)\n",
    "FROM ecommerce\n",
    "GROUP BY category_id\"\"\")"
   ]
  },
  {
   "cell_type": "code",
   "execution_count": 29,
   "metadata": {},
   "outputs": [
    {
     "name": "stdout",
     "output_type": "stream",
     "text": [
      "+------------------+\n",
      "|        avg(price)|\n",
      "+------------------+\n",
      "| 87.80797816758613|\n",
      "| 450.9995915518444|\n",
      "| 4.920704299196083|\n",
      "|159.55224882901416|\n",
      "|33.503011436308896|\n",
      "| 11.66483814286157|\n",
      "| 29.46086265396233|\n",
      "| 41.40644277624123|\n",
      "| 260.6987540917275|\n",
      "| 52.77697654951005|\n",
      "| 75.63604654380427|\n",
      "| 76.09783351662296|\n",
      "|28.097595909479214|\n",
      "| 46.23472194346749|\n",
      "| 309.6664289366987|\n",
      "| 471.0196187308418|\n",
      "| 34.68476078082908|\n",
      "|40.398741436017374|\n",
      "| 34.61137015546313|\n",
      "|142.74526061125448|\n",
      "+------------------+\n",
      "only showing top 20 rows\n",
      "\n"
     ]
    }
   ],
   "source": [
    "ch4.show()"
   ]
  },
  {
   "cell_type": "code",
   "execution_count": 30,
   "metadata": {},
   "outputs": [],
   "source": [
    "ch5 = spark.sql(\"\"\"SELECT AVG(price)\n",
    "FROM ecommerce\n",
    "WHERE event_type = 'purchase'\n",
    "GROUP BY category_id\"\"\")"
   ]
  },
  {
   "cell_type": "code",
   "execution_count": 31,
   "metadata": {},
   "outputs": [
    {
     "name": "stdout",
     "output_type": "stream",
     "text": [
      "+------------------+\n",
      "|        avg(price)|\n",
      "+------------------+\n",
      "| 24.74642308922289|\n",
      "|10.081231372549013|\n",
      "|127.76749408424037|\n",
      "|303.84773353751905|\n",
      "| 41.72249476831091|\n",
      "| 46.85953463203459|\n",
      "|24.315160377358485|\n",
      "| 318.5766890756304|\n",
      "|248.54630952380944|\n",
      "|15.519176470588231|\n",
      "|112.58361111111097|\n",
      "|18.588049308478638|\n",
      "| 75.28369747899158|\n",
      "| 47.70276503678062|\n",
      "|62.890809678920434|\n",
      "|  78.8290615316512|\n",
      "| 72.98199999999999|\n",
      "| 128.1508675799088|\n",
      "| 145.4121944492329|\n",
      "|   42.143284628872|\n",
      "+------------------+\n",
      "only showing top 20 rows\n",
      "\n"
     ]
    }
   ],
   "source": [
    "ch5.show()"
   ]
  },
  {
   "cell_type": "markdown",
   "metadata": {},
   "source": [
    "# 2. Activation(활성화)\n",
    "    - DT(Duration Time, 체류시간)\n"
   ]
  },
  {
   "cell_type": "markdown",
   "metadata": {},
   "source": [
    "## DT"
   ]
  },
  {
   "cell_type": "code",
   "execution_count": null,
   "metadata": {},
   "outputs": [],
   "source": [
    "spark.sql('''SELECT user_session, \n",
    "                                MONTH(MAX(event_time)) AS DURATION_MONTH\n",
    "                                DATE(MAX(event_time)) AS DURATION_DATE\n",
    "                               MAX(event_time) - MIN(event_time) AS duration\n",
    "                  FROM ecommerce \n",
    "                  GROUP BY user_session\n",
    "                  '''\n",
    "          )"
   ]
  },
  {
   "cell_type": "code",
   "execution_count": 32,
   "metadata": {},
   "outputs": [],
   "source": [
    "duration = spark.sql('''SELECT user_session, \n",
    "                                MONTH(MAX(event_time)) AS DURATION_MONTH,\n",
    "                                DATE(MAX(event_time)) AS DURATION_DATE,\n",
    "                               MAX(event_time) - MIN(event_time) AS duration\n",
    "                  FROM ecommerce \n",
    "                  GROUP BY user_session\n",
    "                  '''\n",
    "          )"
   ]
  },
  {
   "cell_type": "code",
   "execution_count": 33,
   "metadata": {},
   "outputs": [
    {
     "name": "stdout",
     "output_type": "stream",
     "text": [
      "+--------------------+--------------+-------------+--------+\n",
      "|        user_session|DURATION_MONTH|DURATION_DATE|duration|\n",
      "+--------------------+--------------+-------------+--------+\n",
      "|000010c7-ce4b-4a2...|             3|   2020-03-07|    NULL|\n",
      "|000020ec-d01e-4b6...|            12|   2019-12-16|    NULL|\n",
      "|000023c0-9b3a-492...|             1|   2020-01-11|    NULL|\n",
      "|00003a8a-eb72-494...|            12|   2019-12-21|    NULL|\n",
      "|00003ede-f2e1-456...|             4|   2020-04-19|    NULL|\n",
      "|00004742-1c19-4e8...|            11|   2019-11-29|    NULL|\n",
      "|0000622b-746a-449...|             4|   2020-04-01|    NULL|\n",
      "|00008098-f3a9-4ce...|            12|   2019-12-19|    NULL|\n",
      "|000081ea-9376-4eb...|            10|   2019-10-24|    NULL|\n",
      "|00008216-929c-4be...|             2|   2020-02-12|    NULL|\n",
      "|00009293-d298-42b...|             4|   2020-04-30|    NULL|\n",
      "|00009e35-76be-4f2...|             4|   2020-04-14|    NULL|\n",
      "|0000bff5-7350-49a...|             4|   2020-04-30|    NULL|\n",
      "|0000c722-6d8d-463...|            11|   2019-11-20|    NULL|\n",
      "|0000d1f3-6265-4cb...|             2|   2020-02-26|    NULL|\n",
      "|0000de38-1949-49c...|            12|   2019-12-24|    NULL|\n",
      "|000138ce-d369-460...|             2|   2020-02-21|    NULL|\n",
      "|00013efb-b2c5-449...|             1|   2020-01-12|    NULL|\n",
      "|00015775-0a9d-448...|            11|   2019-11-24|    NULL|\n",
      "|00017cb3-f969-4c6...|            11|   2019-11-12|    NULL|\n",
      "+--------------------+--------------+-------------+--------+\n",
      "only showing top 20 rows\n",
      "\n"
     ]
    }
   ],
   "source": [
    "duration.show()"
   ]
  },
  {
   "cell_type": "code",
   "execution_count": null,
   "metadata": {},
   "outputs": [],
   "source": []
  },
  {
   "cell_type": "markdown",
   "metadata": {},
   "source": [
    "지표 본다고 적어 놓은 애들 먼저 쓱 보고\n",
    "전환율은 카윤트만 때리고\n",
    "다른 것들을 보고 또 오자~~~"
   ]
  },
  {
   "cell_type": "code",
   "execution_count": null,
   "metadata": {},
   "outputs": [],
   "source": []
  },
  {
   "cell_type": "code",
   "execution_count": null,
   "metadata": {},
   "outputs": [],
   "source": [
    "duration.show()"
   ]
  },
  {
   "cell_type": "code",
   "execution_count": null,
   "metadata": {},
   "outputs": [],
   "source": [
    "duration_month = spark.sql(\"\"\"\n",
    "WITH temp AS (\n",
    "    SELECT user_session, \n",
    "    MONTH(MAX(event_time)) AS DURATION_MONTH\n",
    "    DATE(MAX(event_time)) AS DURATION_DATE\n",
    "    MAX(event_time) - MIN(event_time) AS duration\n",
    "    FROM ecommerce \n",
    "    GROUP BY user_session\n",
    ")\n",
    "SELECT DURATION_DATE, AVG(duration) AS AVG_DURATION\n",
    "FROM temp\n",
    "GROUP BY DURATION_DATE\n",
    "ORDERY BY DURATION_DATE\n",
    "\"\"\")"
   ]
  },
  {
   "cell_type": "code",
   "execution_count": null,
   "metadata": {},
   "outputs": [],
   "source": [
    "duration_month.show()"
   ]
  },
  {
   "cell_type": "code",
   "execution_count": null,
   "metadata": {},
   "outputs": [],
   "source": [
    "\"\"\"\n",
    "WITH temp AS (\n",
    "    SELECT user_session, \n",
    "    MONTH(MAX(event_time)) AS DURATION_MONTH\n",
    "    DATE(MAX(event_time)) AS DURATION_DATE\n",
    "    MAX(event_time) - MIN(event_time) AS duration\n",
    "    FROM ecommerce \n",
    "    GROUP BY user_session\n",
    ")\n",
    "SELECT DURATION_MONTH, AVG(duration) AS AVG_DURATION\n",
    "FROM temp\n",
    "GROUP BY DURATION_MONTH\n",
    "ORDERY BY DURATION_MONTH\n",
    "\"\"\""
   ]
  },
  {
   "cell_type": "markdown",
   "metadata": {},
   "source": [
    "# user_session 별로 view, purchase, cart의 수"
   ]
  },
  {
   "cell_type": "code",
   "execution_count": 22,
   "metadata": {},
   "outputs": [],
   "source": [
    "pivot_session = spark.sql('''WITH source AS (\n",
    "                                                SELECT user_session, event_type, COUNT(event_time) AS event_count\n",
    "                                                FROM ecommerce\n",
    "                                                GROUP BY user_session, event_type\n",
    "                                                )\n",
    "                            SELECT \n",
    "                                user_session,\n",
    "                                SUM(CASE WHEN event_type = 'view' THEN event_count ELSE 0 END) AS view,\n",
    "                                SUM(CASE WHEN event_type = 'cart' THEN event_count ELSE 0 END) AS cart,\n",
    "                                SUM(CASE WHEN event_type = 'purchase' THEN event_count ELSE 0 END) AS purchase\n",
    "                            FROM source\n",
    "                            GROUP BY user_session\n",
    "                            ORDER BY user_session\n",
    "                        ''')"
   ]
  },
  {
   "cell_type": "code",
   "execution_count": 23,
   "metadata": {},
   "outputs": [
    {
     "name": "stdout",
     "output_type": "stream",
     "text": [
      "+--------------------+----+----+--------+\n",
      "|        user_session|view|cart|purchase|\n",
      "+--------------------+----+----+--------+\n",
      "|                NULL|  90| 132|       4|\n",
      "|00000031-5225-42a...|   1|   0|       0|\n",
      "|00000042-3e3f-42f...|   2|   0|       0|\n",
      "|0000004b-b485-4bf...|   2|   0|       0|\n",
      "|00000056-a206-40d...|   8|   0|       0|\n",
      "|0000007c-adbf-4ed...|   1|   0|       0|\n",
      "|00000083-8816-4d5...|  16|   1|       1|\n",
      "|0000009d-1f5b-40b...|   1|   0|       0|\n",
      "|00000108-fa90-4bf...|   1|   0|       0|\n",
      "|0000013c-0ccc-4b8...|   1|   0|       0|\n",
      "|00000162-3f83-4d1...|   2|   0|       0|\n",
      "|000001d5-66f5-4fa...|   1|   0|       0|\n",
      "|000001d5-f8f8-4e4...|   1|   0|       0|\n",
      "|000001fd-1f89-45e...|   6|   4|       1|\n",
      "|00000208-b6b8-44c...|   1|   0|       0|\n",
      "|0000020c-8e6b-4d2...|   1|   0|       0|\n",
      "|00000214-9e7b-4dd...|  16|   0|       0|\n",
      "|0000022a-fe95-430...|   3|   0|       0|\n",
      "|00000241-5dac-4d3...|   1|   0|       0|\n",
      "|00000348-8463-483...|   1|   0|       0|\n",
      "+--------------------+----+----+--------+\n",
      "only showing top 20 rows\n",
      "\n"
     ]
    }
   ],
   "source": [
    "pivot_session.show()"
   ]
  },
  {
   "cell_type": "code",
   "execution_count": 34,
   "metadata": {},
   "outputs": [],
   "source": [
    "duration.createOrReplaceTempView('duration_table')"
   ]
  },
  {
   "cell_type": "code",
   "execution_count": 30,
   "metadata": {},
   "outputs": [],
   "source": [
    "\n",
    "pivot_session.createOrReplaceTempView('session_pivot_table')"
   ]
  },
  {
   "cell_type": "code",
   "execution_count": null,
   "metadata": {},
   "outputs": [],
   "source": [
    "iew_sesstion_avg_duration = spark.sql('''\n",
    "                                                SELECT MEAN(d.duration)\n",
    "                                                FROM duration_table AS d, \n",
    "                                                    (SELECT user_session, cart, purchase\n",
    "                                                    FROM session_pivot_table\n",
    "                                                    WHERE cart < 1 AND purchase < 1)   AS p\n",
    "                                                WHERE d.user_session = p.user_session\n",
    "                                        ''').show()\n"
   ]
  },
  {
   "cell_type": "code",
   "execution_count": null,
   "metadata": {},
   "outputs": [],
   "source": [
    "purchase_sesstion_avg_duration = spark.sql('''\n",
    "                                                SELECT MEAN(d.duration)\n",
    "                                                FROM duration_table AS d, \n",
    "                                                    (SELECT user_session, purchase\n",
    "                                                    FROM session_pivot_table\n",
    "                                                    WHERE purchase > 0)   AS p\n",
    "                                                WHERE d.user_session = p.user_session\n",
    "                                        ''').show()"
   ]
  },
  {
   "cell_type": "markdown",
   "metadata": {},
   "source": [
    "# funnel (event_type 별 count )"
   ]
  },
  {
   "cell_type": "code",
   "execution_count": 10,
   "metadata": {},
   "outputs": [],
   "source": [
    "funnel = spark.sql(\"\"\"\n",
    "                   SELECT \n",
    "                        event_type, COUNT(*) AS CNT\n",
    "                   FROM \n",
    "                        ecommerce\n",
    "                   GROUP BY \n",
    "                        event_type\n",
    "                   ORDER BY\n",
    "                        CNT DESC\n",
    "\"\"\")"
   ]
  },
  {
   "cell_type": "code",
   "execution_count": 13,
   "metadata": {},
   "outputs": [
    {
     "name": "stdout",
     "output_type": "stream",
     "text": [
      "+----------+---------+\n",
      "|event_type|      CNT|\n",
      "+----------+---------+\n",
      "|  purchase|  6848824|\n",
      "|      cart| 19114063|\n",
      "|      view|385746849|\n",
      "+----------+---------+\n",
      "\n"
     ]
    }
   ],
   "source": [
    "funnel.show()"
   ]
  },
  {
   "cell_type": "code",
   "execution_count": 8,
   "metadata": {},
   "outputs": [],
   "source": [
    "df_funnel = funnel.toPandas()"
   ]
  },
  {
   "cell_type": "markdown",
   "metadata": {},
   "source": [
    "twilight\n",
    "twilight_shifted\n",
    "\n"
   ]
  },
  {
   "cell_type": "code",
   "execution_count": 25,
   "metadata": {},
   "outputs": [
    {
     "data": {
      "text/html": [
       "<div>\n",
       "<style scoped>\n",
       "    .dataframe tbody tr th:only-of-type {\n",
       "        vertical-align: middle;\n",
       "    }\n",
       "\n",
       "    .dataframe tbody tr th {\n",
       "        vertical-align: top;\n",
       "    }\n",
       "\n",
       "    .dataframe thead th {\n",
       "        text-align: right;\n",
       "    }\n",
       "</style>\n",
       "<table border=\"1\" class=\"dataframe\">\n",
       "  <thead>\n",
       "    <tr style=\"text-align: right;\">\n",
       "      <th></th>\n",
       "      <th>event_type</th>\n",
       "      <th>CNT</th>\n",
       "    </tr>\n",
       "  </thead>\n",
       "  <tbody>\n",
       "    <tr>\n",
       "      <th>0</th>\n",
       "      <td>purchase</td>\n",
       "      <td>6848824</td>\n",
       "    </tr>\n",
       "    <tr>\n",
       "      <th>1</th>\n",
       "      <td>cart</td>\n",
       "      <td>19114063</td>\n",
       "    </tr>\n",
       "    <tr>\n",
       "      <th>2</th>\n",
       "      <td>view</td>\n",
       "      <td>385746849</td>\n",
       "    </tr>\n",
       "  </tbody>\n",
       "</table>\n",
       "</div>"
      ],
      "text/plain": [
       "  event_type        CNT\n",
       "0   purchase    6848824\n",
       "1       cart   19114063\n",
       "2       view  385746849"
      ]
     },
     "execution_count": 25,
     "metadata": {},
     "output_type": "execute_result"
    }
   ],
   "source": [
    "df_funnel"
   ]
  },
  {
   "cell_type": "code",
   "execution_count": 9,
   "metadata": {},
   "outputs": [
    {
     "data": {
      "application/vnd.plotly.v1+json": {
       "config": {
        "plotlyServerURL": "https://plot.ly"
       },
       "data": [
        {
         "hovertemplate": "event_type=%{x}<br>CNT=%{y}<extra></extra>",
         "legendgroup": "",
         "marker": {
          "color": "#636efa"
         },
         "name": "",
         "orientation": "v",
         "showlegend": false,
         "texttemplate": "%{value:,.0f}",
         "type": "funnel",
         "x": [
          "purchase",
          "cart",
          "view"
         ],
         "xaxis": "x",
         "y": [
          6848824,
          19114063,
          385746849
         ],
         "yaxis": "y"
        }
       ],
       "layout": {
        "legend": {
         "tracegroupgap": 0
        },
        "margin": {
         "t": 60
        },
        "template": {
         "data": {
          "bar": [
           {
            "error_x": {
             "color": "#2a3f5f"
            },
            "error_y": {
             "color": "#2a3f5f"
            },
            "marker": {
             "line": {
              "color": "#E5ECF6",
              "width": 0.5
             },
             "pattern": {
              "fillmode": "overlay",
              "size": 10,
              "solidity": 0.2
             }
            },
            "type": "bar"
           }
          ],
          "barpolar": [
           {
            "marker": {
             "line": {
              "color": "#E5ECF6",
              "width": 0.5
             },
             "pattern": {
              "fillmode": "overlay",
              "size": 10,
              "solidity": 0.2
             }
            },
            "type": "barpolar"
           }
          ],
          "carpet": [
           {
            "aaxis": {
             "endlinecolor": "#2a3f5f",
             "gridcolor": "white",
             "linecolor": "white",
             "minorgridcolor": "white",
             "startlinecolor": "#2a3f5f"
            },
            "baxis": {
             "endlinecolor": "#2a3f5f",
             "gridcolor": "white",
             "linecolor": "white",
             "minorgridcolor": "white",
             "startlinecolor": "#2a3f5f"
            },
            "type": "carpet"
           }
          ],
          "choropleth": [
           {
            "colorbar": {
             "outlinewidth": 0,
             "ticks": ""
            },
            "type": "choropleth"
           }
          ],
          "contour": [
           {
            "colorbar": {
             "outlinewidth": 0,
             "ticks": ""
            },
            "colorscale": [
             [
              0,
              "#0d0887"
             ],
             [
              0.1111111111111111,
              "#46039f"
             ],
             [
              0.2222222222222222,
              "#7201a8"
             ],
             [
              0.3333333333333333,
              "#9c179e"
             ],
             [
              0.4444444444444444,
              "#bd3786"
             ],
             [
              0.5555555555555556,
              "#d8576b"
             ],
             [
              0.6666666666666666,
              "#ed7953"
             ],
             [
              0.7777777777777778,
              "#fb9f3a"
             ],
             [
              0.8888888888888888,
              "#fdca26"
             ],
             [
              1,
              "#f0f921"
             ]
            ],
            "type": "contour"
           }
          ],
          "contourcarpet": [
           {
            "colorbar": {
             "outlinewidth": 0,
             "ticks": ""
            },
            "type": "contourcarpet"
           }
          ],
          "heatmap": [
           {
            "colorbar": {
             "outlinewidth": 0,
             "ticks": ""
            },
            "colorscale": [
             [
              0,
              "#0d0887"
             ],
             [
              0.1111111111111111,
              "#46039f"
             ],
             [
              0.2222222222222222,
              "#7201a8"
             ],
             [
              0.3333333333333333,
              "#9c179e"
             ],
             [
              0.4444444444444444,
              "#bd3786"
             ],
             [
              0.5555555555555556,
              "#d8576b"
             ],
             [
              0.6666666666666666,
              "#ed7953"
             ],
             [
              0.7777777777777778,
              "#fb9f3a"
             ],
             [
              0.8888888888888888,
              "#fdca26"
             ],
             [
              1,
              "#f0f921"
             ]
            ],
            "type": "heatmap"
           }
          ],
          "heatmapgl": [
           {
            "colorbar": {
             "outlinewidth": 0,
             "ticks": ""
            },
            "colorscale": [
             [
              0,
              "#0d0887"
             ],
             [
              0.1111111111111111,
              "#46039f"
             ],
             [
              0.2222222222222222,
              "#7201a8"
             ],
             [
              0.3333333333333333,
              "#9c179e"
             ],
             [
              0.4444444444444444,
              "#bd3786"
             ],
             [
              0.5555555555555556,
              "#d8576b"
             ],
             [
              0.6666666666666666,
              "#ed7953"
             ],
             [
              0.7777777777777778,
              "#fb9f3a"
             ],
             [
              0.8888888888888888,
              "#fdca26"
             ],
             [
              1,
              "#f0f921"
             ]
            ],
            "type": "heatmapgl"
           }
          ],
          "histogram": [
           {
            "marker": {
             "pattern": {
              "fillmode": "overlay",
              "size": 10,
              "solidity": 0.2
             }
            },
            "type": "histogram"
           }
          ],
          "histogram2d": [
           {
            "colorbar": {
             "outlinewidth": 0,
             "ticks": ""
            },
            "colorscale": [
             [
              0,
              "#0d0887"
             ],
             [
              0.1111111111111111,
              "#46039f"
             ],
             [
              0.2222222222222222,
              "#7201a8"
             ],
             [
              0.3333333333333333,
              "#9c179e"
             ],
             [
              0.4444444444444444,
              "#bd3786"
             ],
             [
              0.5555555555555556,
              "#d8576b"
             ],
             [
              0.6666666666666666,
              "#ed7953"
             ],
             [
              0.7777777777777778,
              "#fb9f3a"
             ],
             [
              0.8888888888888888,
              "#fdca26"
             ],
             [
              1,
              "#f0f921"
             ]
            ],
            "type": "histogram2d"
           }
          ],
          "histogram2dcontour": [
           {
            "colorbar": {
             "outlinewidth": 0,
             "ticks": ""
            },
            "colorscale": [
             [
              0,
              "#0d0887"
             ],
             [
              0.1111111111111111,
              "#46039f"
             ],
             [
              0.2222222222222222,
              "#7201a8"
             ],
             [
              0.3333333333333333,
              "#9c179e"
             ],
             [
              0.4444444444444444,
              "#bd3786"
             ],
             [
              0.5555555555555556,
              "#d8576b"
             ],
             [
              0.6666666666666666,
              "#ed7953"
             ],
             [
              0.7777777777777778,
              "#fb9f3a"
             ],
             [
              0.8888888888888888,
              "#fdca26"
             ],
             [
              1,
              "#f0f921"
             ]
            ],
            "type": "histogram2dcontour"
           }
          ],
          "mesh3d": [
           {
            "colorbar": {
             "outlinewidth": 0,
             "ticks": ""
            },
            "type": "mesh3d"
           }
          ],
          "parcoords": [
           {
            "line": {
             "colorbar": {
              "outlinewidth": 0,
              "ticks": ""
             }
            },
            "type": "parcoords"
           }
          ],
          "pie": [
           {
            "automargin": true,
            "type": "pie"
           }
          ],
          "scatter": [
           {
            "fillpattern": {
             "fillmode": "overlay",
             "size": 10,
             "solidity": 0.2
            },
            "type": "scatter"
           }
          ],
          "scatter3d": [
           {
            "line": {
             "colorbar": {
              "outlinewidth": 0,
              "ticks": ""
             }
            },
            "marker": {
             "colorbar": {
              "outlinewidth": 0,
              "ticks": ""
             }
            },
            "type": "scatter3d"
           }
          ],
          "scattercarpet": [
           {
            "marker": {
             "colorbar": {
              "outlinewidth": 0,
              "ticks": ""
             }
            },
            "type": "scattercarpet"
           }
          ],
          "scattergeo": [
           {
            "marker": {
             "colorbar": {
              "outlinewidth": 0,
              "ticks": ""
             }
            },
            "type": "scattergeo"
           }
          ],
          "scattergl": [
           {
            "marker": {
             "colorbar": {
              "outlinewidth": 0,
              "ticks": ""
             }
            },
            "type": "scattergl"
           }
          ],
          "scattermapbox": [
           {
            "marker": {
             "colorbar": {
              "outlinewidth": 0,
              "ticks": ""
             }
            },
            "type": "scattermapbox"
           }
          ],
          "scatterpolar": [
           {
            "marker": {
             "colorbar": {
              "outlinewidth": 0,
              "ticks": ""
             }
            },
            "type": "scatterpolar"
           }
          ],
          "scatterpolargl": [
           {
            "marker": {
             "colorbar": {
              "outlinewidth": 0,
              "ticks": ""
             }
            },
            "type": "scatterpolargl"
           }
          ],
          "scatterternary": [
           {
            "marker": {
             "colorbar": {
              "outlinewidth": 0,
              "ticks": ""
             }
            },
            "type": "scatterternary"
           }
          ],
          "surface": [
           {
            "colorbar": {
             "outlinewidth": 0,
             "ticks": ""
            },
            "colorscale": [
             [
              0,
              "#0d0887"
             ],
             [
              0.1111111111111111,
              "#46039f"
             ],
             [
              0.2222222222222222,
              "#7201a8"
             ],
             [
              0.3333333333333333,
              "#9c179e"
             ],
             [
              0.4444444444444444,
              "#bd3786"
             ],
             [
              0.5555555555555556,
              "#d8576b"
             ],
             [
              0.6666666666666666,
              "#ed7953"
             ],
             [
              0.7777777777777778,
              "#fb9f3a"
             ],
             [
              0.8888888888888888,
              "#fdca26"
             ],
             [
              1,
              "#f0f921"
             ]
            ],
            "type": "surface"
           }
          ],
          "table": [
           {
            "cells": {
             "fill": {
              "color": "#EBF0F8"
             },
             "line": {
              "color": "white"
             }
            },
            "header": {
             "fill": {
              "color": "#C8D4E3"
             },
             "line": {
              "color": "white"
             }
            },
            "type": "table"
           }
          ]
         },
         "layout": {
          "annotationdefaults": {
           "arrowcolor": "#2a3f5f",
           "arrowhead": 0,
           "arrowwidth": 1
          },
          "autotypenumbers": "strict",
          "coloraxis": {
           "colorbar": {
            "outlinewidth": 0,
            "ticks": ""
           }
          },
          "colorscale": {
           "diverging": [
            [
             0,
             "#8e0152"
            ],
            [
             0.1,
             "#c51b7d"
            ],
            [
             0.2,
             "#de77ae"
            ],
            [
             0.3,
             "#f1b6da"
            ],
            [
             0.4,
             "#fde0ef"
            ],
            [
             0.5,
             "#f7f7f7"
            ],
            [
             0.6,
             "#e6f5d0"
            ],
            [
             0.7,
             "#b8e186"
            ],
            [
             0.8,
             "#7fbc41"
            ],
            [
             0.9,
             "#4d9221"
            ],
            [
             1,
             "#276419"
            ]
           ],
           "sequential": [
            [
             0,
             "#0d0887"
            ],
            [
             0.1111111111111111,
             "#46039f"
            ],
            [
             0.2222222222222222,
             "#7201a8"
            ],
            [
             0.3333333333333333,
             "#9c179e"
            ],
            [
             0.4444444444444444,
             "#bd3786"
            ],
            [
             0.5555555555555556,
             "#d8576b"
            ],
            [
             0.6666666666666666,
             "#ed7953"
            ],
            [
             0.7777777777777778,
             "#fb9f3a"
            ],
            [
             0.8888888888888888,
             "#fdca26"
            ],
            [
             1,
             "#f0f921"
            ]
           ],
           "sequentialminus": [
            [
             0,
             "#0d0887"
            ],
            [
             0.1111111111111111,
             "#46039f"
            ],
            [
             0.2222222222222222,
             "#7201a8"
            ],
            [
             0.3333333333333333,
             "#9c179e"
            ],
            [
             0.4444444444444444,
             "#bd3786"
            ],
            [
             0.5555555555555556,
             "#d8576b"
            ],
            [
             0.6666666666666666,
             "#ed7953"
            ],
            [
             0.7777777777777778,
             "#fb9f3a"
            ],
            [
             0.8888888888888888,
             "#fdca26"
            ],
            [
             1,
             "#f0f921"
            ]
           ]
          },
          "colorway": [
           "#636efa",
           "#EF553B",
           "#00cc96",
           "#ab63fa",
           "#FFA15A",
           "#19d3f3",
           "#FF6692",
           "#B6E880",
           "#FF97FF",
           "#FECB52"
          ],
          "font": {
           "color": "#2a3f5f"
          },
          "geo": {
           "bgcolor": "white",
           "lakecolor": "white",
           "landcolor": "#E5ECF6",
           "showlakes": true,
           "showland": true,
           "subunitcolor": "white"
          },
          "hoverlabel": {
           "align": "left"
          },
          "hovermode": "closest",
          "mapbox": {
           "style": "light"
          },
          "paper_bgcolor": "white",
          "plot_bgcolor": "#E5ECF6",
          "polar": {
           "angularaxis": {
            "gridcolor": "white",
            "linecolor": "white",
            "ticks": ""
           },
           "bgcolor": "#E5ECF6",
           "radialaxis": {
            "gridcolor": "white",
            "linecolor": "white",
            "ticks": ""
           }
          },
          "scene": {
           "xaxis": {
            "backgroundcolor": "#E5ECF6",
            "gridcolor": "white",
            "gridwidth": 2,
            "linecolor": "white",
            "showbackground": true,
            "ticks": "",
            "zerolinecolor": "white"
           },
           "yaxis": {
            "backgroundcolor": "#E5ECF6",
            "gridcolor": "white",
            "gridwidth": 2,
            "linecolor": "white",
            "showbackground": true,
            "ticks": "",
            "zerolinecolor": "white"
           },
           "zaxis": {
            "backgroundcolor": "#E5ECF6",
            "gridcolor": "white",
            "gridwidth": 2,
            "linecolor": "white",
            "showbackground": true,
            "ticks": "",
            "zerolinecolor": "white"
           }
          },
          "shapedefaults": {
           "line": {
            "color": "#2a3f5f"
           }
          },
          "ternary": {
           "aaxis": {
            "gridcolor": "white",
            "linecolor": "white",
            "ticks": ""
           },
           "baxis": {
            "gridcolor": "white",
            "linecolor": "white",
            "ticks": ""
           },
           "bgcolor": "#E5ECF6",
           "caxis": {
            "gridcolor": "white",
            "linecolor": "white",
            "ticks": ""
           }
          },
          "title": {
           "x": 0.05
          },
          "xaxis": {
           "automargin": true,
           "gridcolor": "white",
           "linecolor": "white",
           "ticks": "",
           "title": {
            "standoff": 15
           },
           "zerolinecolor": "white",
           "zerolinewidth": 2
          },
          "yaxis": {
           "automargin": true,
           "gridcolor": "white",
           "linecolor": "white",
           "ticks": "",
           "title": {
            "standoff": 15
           },
           "zerolinecolor": "white",
           "zerolinewidth": 2
          }
         }
        },
        "xaxis": {
         "anchor": "y",
         "domain": [
          0,
          1
         ],
         "title": {
          "text": "event_type"
         }
        },
        "yaxis": {
         "anchor": "x",
         "domain": [
          0,
          1
         ],
         "title": {
          "text": "CNT"
         }
        }
       }
      }
     },
     "metadata": {},
     "output_type": "display_data"
    }
   ],
   "source": [
    "import plotly.express as px\n",
    "fig = px.funnel(data_frame= df_funnel, x = 'event_type', y = 'CNT')\n",
    "fig.update_traces(texttemplate= '%{value:,.0f}') # 숫자 형식 지정\n",
    "fig.show()"
   ]
  },
  {
   "cell_type": "code",
   "execution_count": 14,
   "metadata": {},
   "outputs": [],
   "source": [
    "user_session_null = spark.sql(\"\"\"\n",
    "SELECT COUNT(*)\n",
    "FROM ecommerce\n",
    "WHERE user_session is NULL\n",
    "\"\"\")"
   ]
  },
  {
   "cell_type": "markdown",
   "metadata": {},
   "source": [
    "df.dropna(subset = ['user_session'])"
   ]
  },
  {
   "cell_type": "code",
   "execution_count": 15,
   "metadata": {},
   "outputs": [
    {
     "name": "stdout",
     "output_type": "stream",
     "text": [
      "+--------+\n",
      "|count(1)|\n",
      "+--------+\n",
      "|     226|\n",
      "+--------+\n",
      "\n"
     ]
    }
   ],
   "source": [
    "user_session_null.show()"
   ]
  },
  {
   "cell_type": "code",
   "execution_count": 19,
   "metadata": {},
   "outputs": [],
   "source": [
    "user_session_null_permon = spark.sql(\"\"\"\n",
    "SELECT MONTH(event_time) AS MON, user_id, COUNT(*) AS CNT\n",
    "FROM ecommerce\n",
    "WHERE user_session is NULL\n",
    "GROUP BY MON, user_id\n",
    "HAVING CNT > 1\n",
    "ORDER BY MON\n",
    "\"\"\")"
   ]
  },
  {
   "cell_type": "code",
   "execution_count": 20,
   "metadata": {},
   "outputs": [
    {
     "name": "stdout",
     "output_type": "stream",
     "text": [
      "+---+---------+---+\n",
      "|MON|  user_id|CNT|\n",
      "+---+---------+---+\n",
      "|  2|601555623|  2|\n",
      "|  2|613107392|  2|\n",
      "|  3|623037262|  2|\n",
      "|  3|529199993|  2|\n",
      "|  3|631671609|  2|\n",
      "|  3|632848508|  4|\n",
      "|  3|540233932|  6|\n",
      "|  3|548157802|  2|\n",
      "|  3|537196586|  3|\n",
      "|  3|634567453| 10|\n",
      "|  4|593733547|  3|\n",
      "|  4|607289040|  3|\n",
      "|  4|589370694|  2|\n",
      "|  4|597371822|  2|\n",
      "|  4|589231099|  2|\n",
      "|  4|581532293|  2|\n",
      "|  4|638581404|  4|\n",
      "|  4|541757573|  2|\n",
      "|  4|581415839|  3|\n",
      "|  4|516304806|  2|\n",
      "+---+---------+---+\n",
      "only showing top 20 rows\n",
      "\n"
     ]
    }
   ],
   "source": [
    "user_session_null_permon.show()"
   ]
  },
  {
   "cell_type": "code",
   "execution_count": 17,
   "metadata": {},
   "outputs": [],
   "source": [
    "user_session_null_eventtime = spark.sql(\"\"\"\n",
    "SELECT event_time, user_id, event_type, category_code\n",
    "FROM ecommerce\n",
    "WHERE user_session is NULL\n",
    "\"\"\")"
   ]
  },
  {
   "cell_type": "code",
   "execution_count": 18,
   "metadata": {},
   "outputs": [
    {
     "name": "stdout",
     "output_type": "stream",
     "text": [
      "+--------------------+---------+----------+--------------------+\n",
      "|          event_time|  user_id|event_type|       category_code|\n",
      "+--------------------+---------+----------+--------------------+\n",
      "|2019-12-02 08:15:...|580714819|      cart|appliances.kitche...|\n",
      "|2019-12-03 10:08:...|519513506|      cart|auto.accessories....|\n",
      "|2019-12-10 19:32:...|584193732|      cart|      apparel.shorts|\n",
      "|2019-12-12 07:50:...|585526753|      cart|furniture.bedroom...|\n",
      "|2019-12-12 16:19:...|585953165|      cart|furniture.kitchen...|\n",
      "|2019-12-14 15:37:...|586879399|      cart|construction.tool...|\n",
      "|2019-12-15 13:42:...|574084617|      cart|       sport.trainer|\n",
      "|2019-12-18 14:35:...|587428481|      cart|appliances.kitche...|\n",
      "|2019-12-19 06:23:...|589172852|      cart|electronics.audio...|\n",
      "|2019-12-21 15:30:...|590035230|      cart|       sport.bicycle|\n",
      "|2019-12-23 11:37:...|591290578|      cart|       sport.bicycle|\n",
      "|2019-12-24 00:26:...|591580955|      cart|construction.tool...|\n",
      "|2019-12-24 06:25:...|535383117|      cart|construction.tool...|\n",
      "|2019-12-26 07:34:...|592696948|      cart|electronics.audio...|\n",
      "|2019-12-27 02:55:...|592718043|      cart|       apparel.shoes|\n",
      "|2019-12-27 04:35:...|593200733|      cart|                NULL|\n",
      "|2019-12-27 06:34:...|570391628|      cart|electronics.audio...|\n",
      "|2019-12-27 16:25:...|541641713|      cart|  electronics.clocks|\n",
      "|2019-12-28 18:24:...|594002694|      cart|  apparel.shoes.keds|\n",
      "|2019-12-31 11:16:...|532482951|      cart|           sport.ski|\n",
      "+--------------------+---------+----------+--------------------+\n",
      "only showing top 20 rows\n",
      "\n"
     ]
    }
   ],
   "source": [
    "user_session_null_eventtime.show()"
   ]
  },
  {
   "cell_type": "markdown",
   "metadata": {},
   "source": [
    "# RETENTION"
   ]
  },
  {
   "cell_type": "markdown",
   "metadata": {},
   "source": [
    "## Monthly Retention"
   ]
  },
  {
   "cell_type": "markdown",
   "metadata": {},
   "source": [
    "접속 했는지 여부 RETENTION\n"
   ]
  },
  {
   "cell_type": "code",
   "execution_count": null,
   "metadata": {},
   "outputs": [],
   "source": [
    "retention_month = spark.sql(\"\"\"\n",
    "                            WITH cohort AS (\n",
    "                                SELECT user_id, MIN(event_time) AS cohort_time\n",
    "                                FROM ecommerce\n",
    "                                GROUP BY user_id\n",
    "                            ), \n",
    "                            \n",
    "\n",
    "\n",
    "\"\"\")"
   ]
  },
  {
   "cell_type": "code",
   "execution_count": 36,
   "metadata": {},
   "outputs": [
    {
     "name": "stdout",
     "output_type": "stream",
     "text": [
      "+---------+\n",
      "| count(1)|\n",
      "+---------+\n",
      "|408973445|\n",
      "+---------+\n",
      "\n"
     ]
    }
   ],
   "source": [
    "view_data = spark.sql(\"\"\" SELECT COUNT(*) FROM (\n",
    "                          SELECT user_id, MIN(event_time)\n",
    "                          FROM ecommerce\n",
    "                          GROUP BY user_id, event_time)\n",
    "                          \"\"\")\n",
    "\n",
    "view_data.show()"
   ]
  },
  {
   "cell_type": "code",
   "execution_count": 37,
   "metadata": {},
   "outputs": [
    {
     "name": "stdout",
     "output_type": "stream",
     "text": [
      "+---------+\n",
      "| count(1)|\n",
      "+---------+\n",
      "|384715674|\n",
      "+---------+\n",
      "\n"
     ]
    }
   ],
   "source": [
    "view_data = spark.sql(\"\"\" SELECT COUNT(*) FROM (\n",
    "                          SELECT user_id, MIN(event_time)\n",
    "                          FROM ecommerce\n",
    "                          WHERE event_type = \"view\"\n",
    "                          GROUP BY user_id, event_time)\n",
    "                          \"\"\")\n",
    "\n",
    "view_data.show()"
   ]
  },
  {
   "cell_type": "code",
   "execution_count": 38,
   "metadata": {},
   "outputs": [],
   "source": [
    "retention_range_30 = spark.sql(\"\"\"\n",
    "                               WITH first as (\n",
    "                                    SELECT user_id, MIN(event_time) AS first_interaction_time\n",
    "                                    FROM ecommerce\n",
    "                                    GROUP BY user_id\n",
    "                                )\n",
    "\n",
    "                                SELECT FLOOR(MONTHS_BETWEEN(event_time, first_interaction_time)) AS diff_month,\n",
    "                                COUNT(DISTINCT s.user_id) as user_cnt\n",
    "                                FROM ecommerce s LEFT JOIN first f\n",
    "                                ON s.user_id = f.user_id\n",
    "                                GROUP BY FLOOR(MONTHS_BETWEEN(event_time, first_interaction_time))\n",
    "                                ORDER BY diff_month\n",
    "\n",
    "                          \"\"\")\n"
   ]
  },
  {
   "cell_type": "code",
   "execution_count": 39,
   "metadata": {},
   "outputs": [
    {
     "name": "stdout",
     "output_type": "stream",
     "text": [
      "+----------+--------+\n",
      "|diff_month|user_cnt|\n",
      "+----------+--------+\n",
      "|         0|15639803|\n",
      "|         1| 3462320|\n",
      "|         2| 2641431|\n",
      "|         3| 1981956|\n",
      "|         4| 1467672|\n",
      "|         5| 1012141|\n",
      "|         6|  546531|\n",
      "|         7|    2378|\n",
      "+----------+--------+\n",
      "\n"
     ]
    }
   ],
   "source": [
    "retention_range_30.show()"
   ]
  },
  {
   "cell_type": "code",
   "execution_count": 44,
   "metadata": {},
   "outputs": [],
   "source": [
    "retention_range_30 = spark.sql(\"\"\"\n",
    "                               WITH first as (\n",
    "                                    SELECT user_id, MIN(event_time) AS first_interaction_time\n",
    "                                    FROM ecommerce\n",
    "                                    GROUP BY user_id\n",
    "                                )\n",
    "\n",
    "                                SELECT MONTH(first_interaction_time) AS MONTH, FLOOR(MONTHS_BETWEEN(event_time, first_interaction_time)) AS diff_month,\n",
    "                                COUNT(DISTINCT s.user_id) as user_cnt\n",
    "                                FROM ecommerce s LEFT JOIN first f\n",
    "                                ON s.user_id = f.user_id\n",
    "                                GROUP BY MONTH, FLOOR(MONTHS_BETWEEN(event_time, first_interaction_time))\n",
    "                                ORDER BY diff_month\n",
    "\n",
    "                          \"\"\")\n"
   ]
  },
  {
   "cell_type": "code",
   "execution_count": 45,
   "metadata": {},
   "outputs": [
    {
     "name": "stdout",
     "output_type": "stream",
     "text": [
      "+-----+----------+--------+\n",
      "|MONTH|diff_month|user_cnt|\n",
      "+-----+----------+--------+\n",
      "|   11|         0| 2294359|\n",
      "|    1|         0| 2145747|\n",
      "|    4|         0| 2109972|\n",
      "|   12|         0| 2539989|\n",
      "|   10|         0| 3022290|\n",
      "|    3|         0| 1689867|\n",
      "|    2|         0| 1837579|\n",
      "|   12|         1|  546173|\n",
      "|    3|         1|  219013|\n",
      "|   10|         1| 1280588|\n",
      "|    4|         1|     235|\n",
      "|    1|         1|  414020|\n",
      "|    2|         1|  281991|\n",
      "|   11|         1|  720300|\n",
      "|   12|         2|  451361|\n",
      "|   11|         2|  569300|\n",
      "|    2|         2|  188601|\n",
      "|    3|         2|     173|\n",
      "|   10|         2| 1146833|\n",
      "|    1|         2|  285163|\n",
      "+-----+----------+--------+\n",
      "only showing top 20 rows\n",
      "\n"
     ]
    }
   ],
   "source": [
    "retention_range_30.show()"
   ]
  },
  {
   "cell_type": "code",
   "execution_count": 46,
   "metadata": {},
   "outputs": [],
   "source": [
    "df_retention_30 = retention_range_30.toPandas()"
   ]
  },
  {
   "cell_type": "code",
   "execution_count": 49,
   "metadata": {},
   "outputs": [
    {
     "data": {
      "text/html": [
       "<div>\n",
       "<style scoped>\n",
       "    .dataframe tbody tr th:only-of-type {\n",
       "        vertical-align: middle;\n",
       "    }\n",
       "\n",
       "    .dataframe tbody tr th {\n",
       "        vertical-align: top;\n",
       "    }\n",
       "\n",
       "    .dataframe thead th {\n",
       "        text-align: right;\n",
       "    }\n",
       "</style>\n",
       "<table border=\"1\" class=\"dataframe\">\n",
       "  <thead>\n",
       "    <tr style=\"text-align: right;\">\n",
       "      <th></th>\n",
       "      <th>MONTH</th>\n",
       "      <th>diff_month</th>\n",
       "      <th>user_cnt</th>\n",
       "    </tr>\n",
       "  </thead>\n",
       "  <tbody>\n",
       "    <tr>\n",
       "      <th>1</th>\n",
       "      <td>1</td>\n",
       "      <td>0</td>\n",
       "      <td>2145747</td>\n",
       "    </tr>\n",
       "    <tr>\n",
       "      <th>11</th>\n",
       "      <td>1</td>\n",
       "      <td>1</td>\n",
       "      <td>414020</td>\n",
       "    </tr>\n",
       "    <tr>\n",
       "      <th>19</th>\n",
       "      <td>1</td>\n",
       "      <td>2</td>\n",
       "      <td>285163</td>\n",
       "    </tr>\n",
       "    <tr>\n",
       "      <th>22</th>\n",
       "      <td>1</td>\n",
       "      <td>3</td>\n",
       "      <td>188597</td>\n",
       "    </tr>\n",
       "    <tr>\n",
       "      <th>26</th>\n",
       "      <td>1</td>\n",
       "      <td>4</td>\n",
       "      <td>152</td>\n",
       "    </tr>\n",
       "    <tr>\n",
       "      <th>6</th>\n",
       "      <td>2</td>\n",
       "      <td>0</td>\n",
       "      <td>1837579</td>\n",
       "    </tr>\n",
       "    <tr>\n",
       "      <th>12</th>\n",
       "      <td>2</td>\n",
       "      <td>1</td>\n",
       "      <td>281991</td>\n",
       "    </tr>\n",
       "    <tr>\n",
       "      <th>16</th>\n",
       "      <td>2</td>\n",
       "      <td>2</td>\n",
       "      <td>188601</td>\n",
       "    </tr>\n",
       "    <tr>\n",
       "      <th>24</th>\n",
       "      <td>2</td>\n",
       "      <td>3</td>\n",
       "      <td>231</td>\n",
       "    </tr>\n",
       "    <tr>\n",
       "      <th>5</th>\n",
       "      <td>3</td>\n",
       "      <td>0</td>\n",
       "      <td>1689867</td>\n",
       "    </tr>\n",
       "    <tr>\n",
       "      <th>8</th>\n",
       "      <td>3</td>\n",
       "      <td>1</td>\n",
       "      <td>219013</td>\n",
       "    </tr>\n",
       "    <tr>\n",
       "      <th>17</th>\n",
       "      <td>3</td>\n",
       "      <td>2</td>\n",
       "      <td>173</td>\n",
       "    </tr>\n",
       "    <tr>\n",
       "      <th>2</th>\n",
       "      <td>4</td>\n",
       "      <td>0</td>\n",
       "      <td>2109972</td>\n",
       "    </tr>\n",
       "    <tr>\n",
       "      <th>10</th>\n",
       "      <td>4</td>\n",
       "      <td>1</td>\n",
       "      <td>235</td>\n",
       "    </tr>\n",
       "    <tr>\n",
       "      <th>4</th>\n",
       "      <td>10</td>\n",
       "      <td>0</td>\n",
       "      <td>3022290</td>\n",
       "    </tr>\n",
       "    <tr>\n",
       "      <th>9</th>\n",
       "      <td>10</td>\n",
       "      <td>1</td>\n",
       "      <td>1280588</td>\n",
       "    </tr>\n",
       "    <tr>\n",
       "      <th>18</th>\n",
       "      <td>10</td>\n",
       "      <td>2</td>\n",
       "      <td>1146833</td>\n",
       "    </tr>\n",
       "    <tr>\n",
       "      <th>21</th>\n",
       "      <td>10</td>\n",
       "      <td>3</td>\n",
       "      <td>957235</td>\n",
       "    </tr>\n",
       "    <tr>\n",
       "      <th>27</th>\n",
       "      <td>10</td>\n",
       "      <td>4</td>\n",
       "      <td>857089</td>\n",
       "    </tr>\n",
       "    <tr>\n",
       "      <th>29</th>\n",
       "      <td>10</td>\n",
       "      <td>5</td>\n",
       "      <td>724136</td>\n",
       "    </tr>\n",
       "    <tr>\n",
       "      <th>33</th>\n",
       "      <td>10</td>\n",
       "      <td>6</td>\n",
       "      <td>546200</td>\n",
       "    </tr>\n",
       "    <tr>\n",
       "      <th>34</th>\n",
       "      <td>10</td>\n",
       "      <td>7</td>\n",
       "      <td>2378</td>\n",
       "    </tr>\n",
       "    <tr>\n",
       "      <th>0</th>\n",
       "      <td>11</td>\n",
       "      <td>0</td>\n",
       "      <td>2294359</td>\n",
       "    </tr>\n",
       "    <tr>\n",
       "      <th>13</th>\n",
       "      <td>11</td>\n",
       "      <td>1</td>\n",
       "      <td>720300</td>\n",
       "    </tr>\n",
       "    <tr>\n",
       "      <th>15</th>\n",
       "      <td>11</td>\n",
       "      <td>2</td>\n",
       "      <td>569300</td>\n",
       "    </tr>\n",
       "    <tr>\n",
       "      <th>23</th>\n",
       "      <td>11</td>\n",
       "      <td>3</td>\n",
       "      <td>499862</td>\n",
       "    </tr>\n",
       "    <tr>\n",
       "      <th>28</th>\n",
       "      <td>11</td>\n",
       "      <td>4</td>\n",
       "      <td>398422</td>\n",
       "    </tr>\n",
       "    <tr>\n",
       "      <th>30</th>\n",
       "      <td>11</td>\n",
       "      <td>5</td>\n",
       "      <td>287794</td>\n",
       "    </tr>\n",
       "    <tr>\n",
       "      <th>32</th>\n",
       "      <td>11</td>\n",
       "      <td>6</td>\n",
       "      <td>331</td>\n",
       "    </tr>\n",
       "    <tr>\n",
       "      <th>3</th>\n",
       "      <td>12</td>\n",
       "      <td>0</td>\n",
       "      <td>2539989</td>\n",
       "    </tr>\n",
       "    <tr>\n",
       "      <th>7</th>\n",
       "      <td>12</td>\n",
       "      <td>1</td>\n",
       "      <td>546173</td>\n",
       "    </tr>\n",
       "    <tr>\n",
       "      <th>14</th>\n",
       "      <td>12</td>\n",
       "      <td>2</td>\n",
       "      <td>451361</td>\n",
       "    </tr>\n",
       "    <tr>\n",
       "      <th>20</th>\n",
       "      <td>12</td>\n",
       "      <td>3</td>\n",
       "      <td>336031</td>\n",
       "    </tr>\n",
       "    <tr>\n",
       "      <th>25</th>\n",
       "      <td>12</td>\n",
       "      <td>4</td>\n",
       "      <td>212009</td>\n",
       "    </tr>\n",
       "    <tr>\n",
       "      <th>31</th>\n",
       "      <td>12</td>\n",
       "      <td>5</td>\n",
       "      <td>211</td>\n",
       "    </tr>\n",
       "  </tbody>\n",
       "</table>\n",
       "</div>"
      ],
      "text/plain": [
       "    MONTH  diff_month  user_cnt\n",
       "1       1           0   2145747\n",
       "11      1           1    414020\n",
       "19      1           2    285163\n",
       "22      1           3    188597\n",
       "26      1           4       152\n",
       "6       2           0   1837579\n",
       "12      2           1    281991\n",
       "16      2           2    188601\n",
       "24      2           3       231\n",
       "5       3           0   1689867\n",
       "8       3           1    219013\n",
       "17      3           2       173\n",
       "2       4           0   2109972\n",
       "10      4           1       235\n",
       "4      10           0   3022290\n",
       "9      10           1   1280588\n",
       "18     10           2   1146833\n",
       "21     10           3    957235\n",
       "27     10           4    857089\n",
       "29     10           5    724136\n",
       "33     10           6    546200\n",
       "34     10           7      2378\n",
       "0      11           0   2294359\n",
       "13     11           1    720300\n",
       "15     11           2    569300\n",
       "23     11           3    499862\n",
       "28     11           4    398422\n",
       "30     11           5    287794\n",
       "32     11           6       331\n",
       "3      12           0   2539989\n",
       "7      12           1    546173\n",
       "14     12           2    451361\n",
       "20     12           3    336031\n",
       "25     12           4    212009\n",
       "31     12           5       211"
      ]
     },
     "execution_count": 49,
     "metadata": {},
     "output_type": "execute_result"
    }
   ],
   "source": [
    "df_retention_30.sort_values(by=['MONTH','diff_month'])"
   ]
  },
  {
   "cell_type": "code",
   "execution_count": 94,
   "metadata": {},
   "outputs": [],
   "source": [
    "df_retention_30_pivot = df_retention_30.pivot(index='MONTH',columns='diff_month',values='user_cnt').reindex([10,11,12,1,2,3,4])"
   ]
  },
  {
   "cell_type": "code",
   "execution_count": 87,
   "metadata": {},
   "outputs": [
    {
     "data": {
      "text/html": [
       "<div>\n",
       "<style scoped>\n",
       "    .dataframe tbody tr th:only-of-type {\n",
       "        vertical-align: middle;\n",
       "    }\n",
       "\n",
       "    .dataframe tbody tr th {\n",
       "        vertical-align: top;\n",
       "    }\n",
       "\n",
       "    .dataframe thead th {\n",
       "        text-align: right;\n",
       "    }\n",
       "</style>\n",
       "<table border=\"1\" class=\"dataframe\">\n",
       "  <thead>\n",
       "    <tr style=\"text-align: right;\">\n",
       "      <th>diff_month</th>\n",
       "      <th>0</th>\n",
       "      <th>1</th>\n",
       "      <th>2</th>\n",
       "      <th>3</th>\n",
       "      <th>4</th>\n",
       "      <th>5</th>\n",
       "      <th>6</th>\n",
       "      <th>7</th>\n",
       "    </tr>\n",
       "    <tr>\n",
       "      <th>MONTH</th>\n",
       "      <th></th>\n",
       "      <th></th>\n",
       "      <th></th>\n",
       "      <th></th>\n",
       "      <th></th>\n",
       "      <th></th>\n",
       "      <th></th>\n",
       "      <th></th>\n",
       "    </tr>\n",
       "  </thead>\n",
       "  <tbody>\n",
       "    <tr>\n",
       "      <th>10</th>\n",
       "      <td>3022290.0</td>\n",
       "      <td>1280588.0</td>\n",
       "      <td>1146833.0</td>\n",
       "      <td>957235.0</td>\n",
       "      <td>857089.0</td>\n",
       "      <td>724136.0</td>\n",
       "      <td>546200.0</td>\n",
       "      <td>2378.0</td>\n",
       "    </tr>\n",
       "    <tr>\n",
       "      <th>11</th>\n",
       "      <td>2294359.0</td>\n",
       "      <td>720300.0</td>\n",
       "      <td>569300.0</td>\n",
       "      <td>499862.0</td>\n",
       "      <td>398422.0</td>\n",
       "      <td>287794.0</td>\n",
       "      <td>331.0</td>\n",
       "      <td>NaN</td>\n",
       "    </tr>\n",
       "    <tr>\n",
       "      <th>12</th>\n",
       "      <td>2539989.0</td>\n",
       "      <td>546173.0</td>\n",
       "      <td>451361.0</td>\n",
       "      <td>336031.0</td>\n",
       "      <td>212009.0</td>\n",
       "      <td>211.0</td>\n",
       "      <td>NaN</td>\n",
       "      <td>NaN</td>\n",
       "    </tr>\n",
       "    <tr>\n",
       "      <th>1</th>\n",
       "      <td>2145747.0</td>\n",
       "      <td>414020.0</td>\n",
       "      <td>285163.0</td>\n",
       "      <td>188597.0</td>\n",
       "      <td>152.0</td>\n",
       "      <td>NaN</td>\n",
       "      <td>NaN</td>\n",
       "      <td>NaN</td>\n",
       "    </tr>\n",
       "    <tr>\n",
       "      <th>2</th>\n",
       "      <td>1837579.0</td>\n",
       "      <td>281991.0</td>\n",
       "      <td>188601.0</td>\n",
       "      <td>231.0</td>\n",
       "      <td>NaN</td>\n",
       "      <td>NaN</td>\n",
       "      <td>NaN</td>\n",
       "      <td>NaN</td>\n",
       "    </tr>\n",
       "    <tr>\n",
       "      <th>3</th>\n",
       "      <td>1689867.0</td>\n",
       "      <td>219013.0</td>\n",
       "      <td>173.0</td>\n",
       "      <td>NaN</td>\n",
       "      <td>NaN</td>\n",
       "      <td>NaN</td>\n",
       "      <td>NaN</td>\n",
       "      <td>NaN</td>\n",
       "    </tr>\n",
       "    <tr>\n",
       "      <th>4</th>\n",
       "      <td>2109972.0</td>\n",
       "      <td>235.0</td>\n",
       "      <td>NaN</td>\n",
       "      <td>NaN</td>\n",
       "      <td>NaN</td>\n",
       "      <td>NaN</td>\n",
       "      <td>NaN</td>\n",
       "      <td>NaN</td>\n",
       "    </tr>\n",
       "  </tbody>\n",
       "</table>\n",
       "</div>"
      ],
      "text/plain": [
       "diff_month          0          1          2         3         4         5  \\\n",
       "MONTH                                                                       \n",
       "10          3022290.0  1280588.0  1146833.0  957235.0  857089.0  724136.0   \n",
       "11          2294359.0   720300.0   569300.0  499862.0  398422.0  287794.0   \n",
       "12          2539989.0   546173.0   451361.0  336031.0  212009.0     211.0   \n",
       "1           2145747.0   414020.0   285163.0  188597.0     152.0       NaN   \n",
       "2           1837579.0   281991.0   188601.0     231.0       NaN       NaN   \n",
       "3           1689867.0   219013.0      173.0       NaN       NaN       NaN   \n",
       "4           2109972.0      235.0        NaN       NaN       NaN       NaN   \n",
       "\n",
       "diff_month         6       7  \n",
       "MONTH                         \n",
       "10          546200.0  2378.0  \n",
       "11             331.0     NaN  \n",
       "12               NaN     NaN  \n",
       "1                NaN     NaN  \n",
       "2                NaN     NaN  \n",
       "3                NaN     NaN  \n",
       "4                NaN     NaN  "
      ]
     },
     "execution_count": 87,
     "metadata": {},
     "output_type": "execute_result"
    }
   ],
   "source": [
    "df_retention_30_pivot"
   ]
  },
  {
   "cell_type": "code",
   "execution_count": 80,
   "metadata": {},
   "outputs": [
    {
     "name": "stdout",
     "output_type": "stream",
     "text": [
      "a\n"
     ]
    }
   ],
   "source": [
    "import numpy as np\n",
    "if df_retention_30_pivot.isnull().iloc[5,5]:\n",
    "    print('a')"
   ]
  },
  {
   "cell_type": "code",
   "execution_count": 95,
   "metadata": {},
   "outputs": [],
   "source": [
    "for i in range(len(df_retention_30_pivot)):\n",
    "    a = df_retention_30_pivot.iloc[i,0]\n",
    "    for j in range(len(df_retention_30_pivot.columns)):\n",
    "        if df_retention_30_pivot.isnull().iloc[i,j]:\n",
    "            pass\n",
    "        else:\n",
    "            df_retention_30_pivot.iloc[i,j] = round(df_retention_30_pivot.iloc[i,j] / a, 4)\n"
   ]
  },
  {
   "cell_type": "code",
   "execution_count": 96,
   "metadata": {},
   "outputs": [
    {
     "data": {
      "text/html": [
       "<div>\n",
       "<style scoped>\n",
       "    .dataframe tbody tr th:only-of-type {\n",
       "        vertical-align: middle;\n",
       "    }\n",
       "\n",
       "    .dataframe tbody tr th {\n",
       "        vertical-align: top;\n",
       "    }\n",
       "\n",
       "    .dataframe thead th {\n",
       "        text-align: right;\n",
       "    }\n",
       "</style>\n",
       "<table border=\"1\" class=\"dataframe\">\n",
       "  <thead>\n",
       "    <tr style=\"text-align: right;\">\n",
       "      <th>diff_month</th>\n",
       "      <th>0</th>\n",
       "      <th>1</th>\n",
       "      <th>2</th>\n",
       "      <th>3</th>\n",
       "      <th>4</th>\n",
       "      <th>5</th>\n",
       "      <th>6</th>\n",
       "      <th>7</th>\n",
       "    </tr>\n",
       "    <tr>\n",
       "      <th>MONTH</th>\n",
       "      <th></th>\n",
       "      <th></th>\n",
       "      <th></th>\n",
       "      <th></th>\n",
       "      <th></th>\n",
       "      <th></th>\n",
       "      <th></th>\n",
       "      <th></th>\n",
       "    </tr>\n",
       "  </thead>\n",
       "  <tbody>\n",
       "    <tr>\n",
       "      <th>10</th>\n",
       "      <td>1.0</td>\n",
       "      <td>0.4237</td>\n",
       "      <td>0.3795</td>\n",
       "      <td>0.3167</td>\n",
       "      <td>0.2836</td>\n",
       "      <td>0.2396</td>\n",
       "      <td>0.1807</td>\n",
       "      <td>0.0008</td>\n",
       "    </tr>\n",
       "    <tr>\n",
       "      <th>11</th>\n",
       "      <td>1.0</td>\n",
       "      <td>0.3139</td>\n",
       "      <td>0.2481</td>\n",
       "      <td>0.2179</td>\n",
       "      <td>0.1737</td>\n",
       "      <td>0.1254</td>\n",
       "      <td>0.0001</td>\n",
       "      <td>NaN</td>\n",
       "    </tr>\n",
       "    <tr>\n",
       "      <th>12</th>\n",
       "      <td>1.0</td>\n",
       "      <td>0.2150</td>\n",
       "      <td>0.1777</td>\n",
       "      <td>0.1323</td>\n",
       "      <td>0.0835</td>\n",
       "      <td>0.0001</td>\n",
       "      <td>NaN</td>\n",
       "      <td>NaN</td>\n",
       "    </tr>\n",
       "    <tr>\n",
       "      <th>1</th>\n",
       "      <td>1.0</td>\n",
       "      <td>0.1929</td>\n",
       "      <td>0.1329</td>\n",
       "      <td>0.0879</td>\n",
       "      <td>0.0001</td>\n",
       "      <td>NaN</td>\n",
       "      <td>NaN</td>\n",
       "      <td>NaN</td>\n",
       "    </tr>\n",
       "    <tr>\n",
       "      <th>2</th>\n",
       "      <td>1.0</td>\n",
       "      <td>0.1535</td>\n",
       "      <td>0.1026</td>\n",
       "      <td>0.0001</td>\n",
       "      <td>NaN</td>\n",
       "      <td>NaN</td>\n",
       "      <td>NaN</td>\n",
       "      <td>NaN</td>\n",
       "    </tr>\n",
       "    <tr>\n",
       "      <th>3</th>\n",
       "      <td>1.0</td>\n",
       "      <td>0.1296</td>\n",
       "      <td>0.0001</td>\n",
       "      <td>NaN</td>\n",
       "      <td>NaN</td>\n",
       "      <td>NaN</td>\n",
       "      <td>NaN</td>\n",
       "      <td>NaN</td>\n",
       "    </tr>\n",
       "    <tr>\n",
       "      <th>4</th>\n",
       "      <td>1.0</td>\n",
       "      <td>0.0001</td>\n",
       "      <td>NaN</td>\n",
       "      <td>NaN</td>\n",
       "      <td>NaN</td>\n",
       "      <td>NaN</td>\n",
       "      <td>NaN</td>\n",
       "      <td>NaN</td>\n",
       "    </tr>\n",
       "  </tbody>\n",
       "</table>\n",
       "</div>"
      ],
      "text/plain": [
       "diff_month    0       1       2       3       4       5       6       7\n",
       "MONTH                                                                  \n",
       "10          1.0  0.4237  0.3795  0.3167  0.2836  0.2396  0.1807  0.0008\n",
       "11          1.0  0.3139  0.2481  0.2179  0.1737  0.1254  0.0001     NaN\n",
       "12          1.0  0.2150  0.1777  0.1323  0.0835  0.0001     NaN     NaN\n",
       "1           1.0  0.1929  0.1329  0.0879  0.0001     NaN     NaN     NaN\n",
       "2           1.0  0.1535  0.1026  0.0001     NaN     NaN     NaN     NaN\n",
       "3           1.0  0.1296  0.0001     NaN     NaN     NaN     NaN     NaN\n",
       "4           1.0  0.0001     NaN     NaN     NaN     NaN     NaN     NaN"
      ]
     },
     "execution_count": 96,
     "metadata": {},
     "output_type": "execute_result"
    }
   ],
   "source": [
    "df_retention_30_pivot"
   ]
  },
  {
   "cell_type": "code",
   "execution_count": 98,
   "metadata": {},
   "outputs": [
    {
     "data": {
      "text/plain": [
       "<Axes: xlabel='diff_month', ylabel='MONTH'>"
      ]
     },
     "execution_count": 98,
     "metadata": {},
     "output_type": "execute_result"
    },
    {
     "data": {
      "image/png": "[encoded data removed]",
      "text/plain": [
       "<Figure size 640x480 with 2 Axes>"
      ]
     },
     "metadata": {},
     "output_type": "display_data"
    }
   ],
   "source": [
    "import seaborn as sns\n",
    "sns.heatmap(df_retention_30_pivot, annot=True, fmt=\".3f\")"
   ]
  },
  {
   "cell_type": "code",
   "execution_count": 42,
   "metadata": {},
   "outputs": [],
   "source": [
    "retention_range_7 = spark.sql(\"\"\"\n",
    "                               WITH first as (\n",
    "                                    SELECT user_id, MIN(event_time) AS first_interaction_time\n",
    "                                    FROM ecommerce\n",
    "                                    GROUP BY user_id\n",
    "                                )\n",
    "\n",
    "                                SELECT DATEDIFF(event_time, first_interaction_time) AS diff_days,\n",
    "                                COUNT(DISTINCT s.user_id) as user_cnt\n",
    "                                FROM ecommerce s LEFT JOIN first f\n",
    "                                ON s.user_id = f.user_id\n",
    "                                GROUP BY DATEDIFF(event_time, first_interaction_time)\n",
    "                                HAVING DATEDIFF(event_time, first_interaction_time) <= 7\n",
    "                                ORDER BY diff_days\n",
    "                          \"\"\")\n",
    "\n"
   ]
  },
  {
   "cell_type": "code",
   "execution_count": 43,
   "metadata": {},
   "outputs": [
    {
     "name": "stdout",
     "output_type": "stream",
     "text": [
      "+---------+--------+\n",
      "|diff_days|user_cnt|\n",
      "+---------+--------+\n",
      "|        0|15639803|\n",
      "|        1| 1408684|\n",
      "|        2|  938826|\n",
      "|        3|  784316|\n",
      "|        4|  701485|\n",
      "|        5|  645066|\n",
      "|        6|  615962|\n",
      "|        7|  593861|\n",
      "+---------+--------+\n",
      "\n"
     ]
    }
   ],
   "source": [
    "retention_range_7.show()"
   ]
  },
  {
   "cell_type": "code",
   "execution_count": 40,
   "metadata": {},
   "outputs": [
    {
     "name": "stdout",
     "output_type": "stream",
     "text": [
      "+------------------------------------+\n",
      "|substring_index(category_code, ., 1)|\n",
      "+------------------------------------+\n",
      "|                            medicine|\n",
      "|                           computers|\n",
      "|                                auto|\n",
      "|                          stationery|\n",
      "|                               sport|\n",
      "|                             apparel|\n",
      "|                          appliances|\n",
      "|                        country_yard|\n",
      "|                           furniture|\n",
      "|                         accessories|\n",
      "|                                kids|\n",
      "|                         electronics|\n",
      "|                        construction|\n",
      "|                                NULL|\n",
      "+------------------------------------+\n",
      "\n"
     ]
    }
   ],
   "source": [
    "spark.sql(\"SELECT DISTINCT (SUBSTRING_INDEX(category_code, '.', 1)) FROM ecommerce\").show()"
   ]
  },
  {
   "cell_type": "markdown",
   "metadata": {},
   "source": [
    "카테고리 갯수 : null 제외 13개"
   ]
  },
  {
   "cell_type": "code",
   "execution_count": null,
   "metadata": {},
   "outputs": [],
   "source": [
    "# spark.sql(\"FROM (SELECT DISTINCT (SUBSTRING_INDEX(category_code, '.', 1)) FROM ecommerce)\").show()"
   ]
  },
  {
   "cell_type": "code",
   "execution_count": null,
   "metadata": {},
   "outputs": [],
   "source": [
    "# 7일 기준 (날짜 포함)\n",
    "retention_range_7 = spark.sql(\"\"\"\n",
    "                                WITH first as (\n",
    "                                    SELECT user_id, MIN(event_time) AS first_interaction_time\n",
    "                                    FROM sample\n",
    "                                    GROUP BY user_id\n",
    "                                )\n",
    "                                \n",
    "                                SELECT DATE(first_interaction_time) AS start_date,\n",
    "                                COUNT(DISTINCT s.user_id) as user_cnt,\n",
    "                                COUNT(DISTINCT CASE WHEN \n",
    "                                                    DATEDIFF(event_time, first_interaction_time) = 0 THEN s.user_id \n",
    "                                                    END) / COUNT(DISTINCT s.user_id) AS day_0_ratio,\n",
    "                                ROUND(COUNT(DISTINCT CASE WHEN \n",
    "                                                    DATEDIFF(event_time, first_interaction_time) = 1 THEN s.user_id \n",
    "                                                    END) / COUNT(DISTINCT s.user_id),4) AS day_1_ratio,\n",
    "                                ROUND(COUNT(DISTINCT CASE WHEN \n",
    "                                                    DATEDIFF(event_time, first_interaction_time) = 2 THEN s.user_id \n",
    "                                                    END) / COUNT(DISTINCT s.user_id),4) AS day_2_ratio,\n",
    "                                ROUND(COUNT(DISTINCT CASE WHEN \n",
    "                                                    DATEDIFF(event_time, first_interaction_time) = 3 THEN s.user_id \n",
    "                                                    END) / COUNT(DISTINCT s.user_id),4) AS day_3_ratio,\n",
    "                                ROUND(COUNT(DISTINCT CASE WHEN \n",
    "                                                    DATEDIFF(event_time, first_interaction_time) = 4 THEN s.user_id \n",
    "                                                    END) / COUNT(DISTINCT s.user_id),4) AS day_4_ratio ,\n",
    "                                ROUND(COUNT(DISTINCT CASE WHEN \n",
    "                                                    DATEDIFF(event_time, first_interaction_time) = 5 THEN s.user_id \n",
    "                                                    END) / COUNT(DISTINCT s.user_id),4) AS day_5_ratio,\n",
    "                                ROUND(COUNT(DISTINCT CASE WHEN \n",
    "                                                    DATEDIFF(event_time, first_interaction_time) = 6 THEN s.user_id \n",
    "                                                    END) / COUNT(DISTINCT s.user_id),4) AS day_6_ratio,\n",
    "                                ROUND(COUNT(DISTINCT CASE WHEN \n",
    "                                                    DATEDIFF(event_time, first_interaction_time) = 7 THEN s.user_id \n",
    "                                                    END) / COUNT(DISTINCT s.user_id),4) AS day_7_ratio                                                          \n",
    "                                                    \n",
    "                                                    \n",
    "                                FROM sample s LEFT JOIN first f\n",
    "                                ON s.user_id = f.user_id\n",
    "                                GROUP BY DATE(first_interaction_time)\n",
    "                                ORDER BY start_date                 \n",
    "                            \"\"\")"
   ]
  }
 ],
 "metadata": {
  "kernelspec": {
   "display_name": "Python 3",
   "language": "python",
   "name": "python3"
  },
  "language_info": {
   "codemirror_mode": {
    "name": "ipython",
    "version": 3
   },
   "file_extension": ".py",
   "mimetype": "text/x-python",
   "name": "python",
   "nbconvert_exporter": "python",
   "pygments_lexer": "ipython3",
   "version": "3.10.8"
  }
 },
 "nbformat": 4,
 "nbformat_minor": 2
}
